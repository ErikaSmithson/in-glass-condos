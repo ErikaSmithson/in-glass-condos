{
 "cells": [
  {
   "cell_type": "code",
   "execution_count": 151,
   "metadata": {},
   "outputs": [],
   "source": [
    "import pandas as pd \n",
    "import matplotlib.pyplot as plt\n",
    "import seaborn as sns \n",
    "import requests\n",
    "import geopandas as gpd\n",
    "import scipy\n",
    "import numpy as np \n",
    "import swifter\n",
    "import re \n",
    "from collections import Counter\n",
    "from sklearn.decomposition import PCA\n",
    "from tqdm import tqdm\n",
    "\n",
    "%matplotlib inline\n"
   ]
  },
  {
   "cell_type": "code",
   "execution_count": 129,
   "metadata": {},
   "outputs": [],
   "source": [
    "condocalc = pd.read_csv('DOF__Cooperative_Comparable_Rental_Income__Citywide_.csv')"
   ]
  },
  {
   "cell_type": "markdown",
   "metadata": {},
   "source": [
    "Creating Dataframes and what they all mean: \n",
    "- The condos Dataframe has all condos and their comparables in wide format. \n",
    "- I separated out each comparable using iloc and kept column 59 which is the report year. \n",
    "- I then created an estimated column to ensure we know which of the buildings have estimated income versus actual income. \n",
    "- Because each comparable unit is seperated out by column, currently their row index matches the row index of the condo that they are compared to. Because I will be shifting everything to long format I created the Condo Reference column across all the dataframes so that this number will pull the relationship crafted by the Department of Finance. \n",
    "- After creating indexes is when I have dropped all na columns because not all condos have three comparable units. \n",
    "- All the comparable units were put into a dataframe called comparablerentals and then merged in long format with the condos to create the allbldgs dataframe. "
   ]
  },
  {
   "cell_type": "code",
   "execution_count": 130,
   "metadata": {},
   "outputs": [],
   "source": [
    "condos = condocalc.iloc[:, [0, 1, 2, 3, 4, 5, 6, 7, 8, 9, 10, 11, 12, 13, 59]]"
   ]
  },
  {
   "cell_type": "code",
   "execution_count": 131,
   "metadata": {},
   "outputs": [],
   "source": [
    "comparable1 = condocalc.iloc[:,[14, 15, 16, 17, 18, 19, 20, 21, 22, 23, 24, 25, 26, 27, 28, 59]]\n",
    "comparable2 = condocalc.iloc[:,[29, 30, 31, 32, 33, 34, 35, 36, 37, 38, 39, 40, 41, 42, 43, 59]]\n",
    "comparable3 = condocalc.iloc[:,44:60]"
   ]
  },
  {
   "cell_type": "code",
   "execution_count": 132,
   "metadata": {},
   "outputs": [
    {
     "name": "stderr",
     "output_type": "stream",
     "text": [
      "/anaconda3/lib/python3.6/site-packages/ipykernel_launcher.py:2: SettingWithCopyWarning: \n",
      "A value is trying to be set on a copy of a slice from a DataFrame.\n",
      "Try using .loc[row_indexer,col_indexer] = value instead\n",
      "\n",
      "See the caveats in the documentation: http://pandas.pydata.org/pandas-docs/stable/indexing.html#indexing-view-versus-copy\n",
      "  \n",
      "/anaconda3/lib/python3.6/site-packages/ipykernel_launcher.py:3: SettingWithCopyWarning: \n",
      "A value is trying to be set on a copy of a slice from a DataFrame.\n",
      "Try using .loc[row_indexer,col_indexer] = value instead\n",
      "\n",
      "See the caveats in the documentation: http://pandas.pydata.org/pandas-docs/stable/indexing.html#indexing-view-versus-copy\n",
      "  This is separate from the ipykernel package so we can avoid doing imports until\n",
      "/anaconda3/lib/python3.6/site-packages/ipykernel_launcher.py:5: SettingWithCopyWarning: \n",
      "A value is trying to be set on a copy of a slice from a DataFrame.\n",
      "Try using .loc[row_indexer,col_indexer] = value instead\n",
      "\n",
      "See the caveats in the documentation: http://pandas.pydata.org/pandas-docs/stable/indexing.html#indexing-view-versus-copy\n",
      "  \"\"\"\n",
      "/anaconda3/lib/python3.6/site-packages/ipykernel_launcher.py:6: SettingWithCopyWarning: \n",
      "A value is trying to be set on a copy of a slice from a DataFrame.\n",
      "Try using .loc[row_indexer,col_indexer] = value instead\n",
      "\n",
      "See the caveats in the documentation: http://pandas.pydata.org/pandas-docs/stable/indexing.html#indexing-view-versus-copy\n",
      "  \n",
      "/anaconda3/lib/python3.6/site-packages/ipykernel_launcher.py:7: SettingWithCopyWarning: \n",
      "A value is trying to be set on a copy of a slice from a DataFrame.\n",
      "Try using .loc[row_indexer,col_indexer] = value instead\n",
      "\n",
      "See the caveats in the documentation: http://pandas.pydata.org/pandas-docs/stable/indexing.html#indexing-view-versus-copy\n",
      "  import sys\n",
      "/anaconda3/lib/python3.6/site-packages/ipykernel_launcher.py:8: SettingWithCopyWarning: \n",
      "A value is trying to be set on a copy of a slice from a DataFrame.\n",
      "Try using .loc[row_indexer,col_indexer] = value instead\n",
      "\n",
      "See the caveats in the documentation: http://pandas.pydata.org/pandas-docs/stable/indexing.html#indexing-view-versus-copy\n",
      "  \n",
      "/anaconda3/lib/python3.6/site-packages/ipykernel_launcher.py:10: SettingWithCopyWarning: \n",
      "A value is trying to be set on a copy of a slice from a DataFrame.\n",
      "Try using .loc[row_indexer,col_indexer] = value instead\n",
      "\n",
      "See the caveats in the documentation: http://pandas.pydata.org/pandas-docs/stable/indexing.html#indexing-view-versus-copy\n",
      "  # Remove the CWD from sys.path while we load stuff.\n"
     ]
    }
   ],
   "source": [
    "#I am inputting the 'Estimated' column 0 equals not estimated and 1 is estimated \n",
    "comparable1['Estimated'] = 0\n",
    "comparable2['Estimated'] = 0 \n",
    "comparable3['Estimated'] = 0\n",
    "condos['Estimated'] = 1\n",
    "condos['Distance from Co-op in miles'] = 0.0\n",
    "comparable1['Condo Reference'] = range(0,31348)\n",
    "comparable2['Condo Reference'] = range(0,31348)\n",
    "comparable3['Condo Reference'] = range(0, 31348)\n",
    "condos['Condo Reference'] = range(0, 31348)"
   ]
  },
  {
   "cell_type": "code",
   "execution_count": 133,
   "metadata": {},
   "outputs": [],
   "source": [
    "comparable2 = comparable2.dropna()\n",
    "comparable3 = comparable3.dropna()"
   ]
  },
  {
   "cell_type": "code",
   "execution_count": 134,
   "metadata": {},
   "outputs": [],
   "source": [
    "comparable1 = comparable1.rename(columns={'Boro-Block-Lot 1': 'Boro-Block-Lot',\n",
    "                  'Address 1': 'Address', \n",
    "                  'Neighborhood 1': 'Neighborhood',\n",
    "                  'Building Classification 1': 'Building Classification',\n",
    "                   'Total Units 1': 'Total Units',\n",
    "                   'Year Built 1': 'Year Built', \n",
    "                   'Gross SqFt 1': 'Gross SqFt', \n",
    "                   'Estimated Gross Income 1': 'Estimated Gross Income',\n",
    "                   'Gross Income per SqFt 1': 'Gross Income per SqFt', \n",
    "                   'Estimated Expense 1': 'Estimated Expense', \n",
    "                   'Expense per SqFt 1': 'Expense per SqFt', \n",
    "                   'Net Operating Income 1': 'Net Operating Income', \n",
    "                   'Full Market Value 1': 'Full Market Value', \n",
    "                   'Market Value per SqFt 1': 'Market Value per SqFt'})"
   ]
  },
  {
   "cell_type": "code",
   "execution_count": 135,
   "metadata": {},
   "outputs": [],
   "source": [
    "comparable2 = comparable2.rename(columns={'Boro-Block-Lot 2': 'Boro-Block-Lot',\n",
    "                  'Address 2': 'Address', \n",
    "                  'Neighborhood 2': 'Neighborhood',\n",
    "                  'Building Classification 2': 'Building Classification',\n",
    "                   'Total Units 2': 'Total Units',\n",
    "                   'Year Built 2': 'Year Built', \n",
    "                   'Gross SqFt 2': 'Gross SqFt', \n",
    "                   'Estimated Gross Income 2': 'Estimated Gross Income',\n",
    "                   'Gross Income per SqFt 2': 'Gross Income per SqFt', \n",
    "                   'Estimated Expense 2': 'Estimated Expense', \n",
    "                   'Expense per SqFt 2': 'Expense per SqFt', \n",
    "                   'Net Operating Income 2': 'Net Operating Income', \n",
    "                   'Full Market Value 2': 'Full Market Value', \n",
    "                   'Market Value per SqFt 2': 'Market Value per SqFt'})\n",
    "    "
   ]
  },
  {
   "cell_type": "code",
   "execution_count": 136,
   "metadata": {},
   "outputs": [],
   "source": [
    "comparable3 = comparable3.rename(columns={'Boro-Block-Lot 3': 'Boro-Block-Lot',\n",
    "                  'Address 3': 'Address', \n",
    "                  'Neighborhood 3': 'Neighborhood',\n",
    "                  'Building Classification 3': 'Building Classification',\n",
    "                   'Total Units 3': 'Total Units',\n",
    "                   'Year Built 3': 'Year Built', \n",
    "                   'Gross SqFt 3': 'Gross SqFt', \n",
    "                   'Estimated Gross Income 3': 'Estimated Gross Income',\n",
    "                   'Gross Income per SqFt 3': 'Gross Income per SqFt', \n",
    "                   'Estimated Expense 3': 'Estimated Expense', \n",
    "                   'Expense per SqFt 3': 'Expense per SqFt', \n",
    "                   'Net Operating Income 3': 'Net Operating Income', \n",
    "                   'Full Market Value 3': 'Full Market Value', \n",
    "                   'Market Value per SqFt 3': 'Market Value per SqFt'})"
   ]
  },
  {
   "cell_type": "code",
   "execution_count": 137,
   "metadata": {},
   "outputs": [],
   "source": [
    "comparable2 = comparable2.rename(columns={'Distance from Co-op in miles 1': 'Distance from Co-op in miles'})\n",
    "comparable3 = comparable3.rename(columns={'Distance from Co-op in miles 2': 'Distance from Co-op in miles'})\n"
   ]
  },
  {
   "cell_type": "code",
   "execution_count": 192,
   "metadata": {},
   "outputs": [
    {
     "data": {
      "text/plain": [
       "Index(['Boro-Block-Lot', 'Address', 'Neighborhood', 'Building Classification',\n",
       "       'Total Units', 'Year Built', 'Gross SqFt', 'Estimated Gross Income',\n",
       "       'Gross Income per SqFt', 'Estimated Expense', 'Expense per SqFt',\n",
       "       'Net Operating Income', 'Full Market Value', 'Market Value per SqFt',\n",
       "       'Report Year', 'Estimated', 'Distance from Co-op in miles',\n",
       "       'Condo Reference', 'Borough', 'Borough PCA 1', 'Borough PCA 2',\n",
       "       'Borough PCA 3'],\n",
       "      dtype='object')"
      ]
     },
     "execution_count": 192,
     "metadata": {},
     "output_type": "execute_result"
    }
   ],
   "source": [
    "condos.columns"
   ]
  },
  {
   "cell_type": "code",
   "execution_count": 138,
   "metadata": {},
   "outputs": [],
   "source": [
    "frames = [comparable1, comparable2, comparable3]\n",
    "comparablerentals = pd.concat(frames, axis=0)"
   ]
  },
  {
   "cell_type": "code",
   "execution_count": 139,
   "metadata": {},
   "outputs": [],
   "source": [
    "bldgs = [comparablerentals, condos]\n",
    "allbuildings = pd.concat(bldgs, axis=0, sort=False)"
   ]
  },
  {
   "cell_type": "markdown",
   "metadata": {},
   "source": [
    "Using the Borough-Block-Lot Configuration: \n",
    "- I found the borough for each address and then put it back into the original dataframe to prep it for geocoding. "
   ]
  },
  {
   "cell_type": "code",
   "execution_count": 140,
   "metadata": {},
   "outputs": [],
   "source": [
    "def get_borough(BBL): \n",
    "    Borough = [] \n",
    "    for i in BBL: \n",
    "        if i == '1':\n",
    "            Borough.append('Manhattan')\n",
    "        elif i == '2': \n",
    "            Borough.append('The Bronx')\n",
    "        elif i == '3': \n",
    "            Borough.append('Brooklyn')\n",
    "        elif i == '4': \n",
    "            Borough.append('Queens')\n",
    "        elif i == '5': \n",
    "            Borough.append('Staten Island')\n",
    "    return Borough"
   ]
  },
  {
   "cell_type": "code",
   "execution_count": 141,
   "metadata": {},
   "outputs": [],
   "source": [
    "BBL = comparablerentals['Boro-Block-Lot'] \n",
    "BBL = BBL.str.split('-')\n",
    "BBL = np.array(BBL)\n",
    "BBL = [item[0] for item in BBL]"
   ]
  },
  {
   "cell_type": "code",
   "execution_count": 142,
   "metadata": {},
   "outputs": [
    {
     "data": {
      "text/plain": [
       "dict_values([46942, 15145, 16832, 7536, 455])"
      ]
     },
     "execution_count": 142,
     "metadata": {},
     "output_type": "execute_result"
    }
   ],
   "source": [
    "Boroughlist = get_borough(BBL)\n",
    "Counter(Boroughlist).keys()\n",
    "Counter(Boroughlist).values()"
   ]
  },
  {
   "cell_type": "code",
   "execution_count": 143,
   "metadata": {},
   "outputs": [],
   "source": [
    "comparablerentals['Borough'] = Boroughlist"
   ]
  },
  {
   "cell_type": "code",
   "execution_count": 144,
   "metadata": {},
   "outputs": [],
   "source": [
    "comparablerentals['Address'] = comparablerentals['Address'] + ' ' + comparablerentals['Borough']\n",
    "comparablerentals['Address'] = comparablerentals['Address'].map(lambda x: str(x).upper())"
   ]
  },
  {
   "cell_type": "code",
   "execution_count": 145,
   "metadata": {},
   "outputs": [],
   "source": [
    "BBL = comparable1['Boro-Block-Lot']\n",
    "BBL = BBL.str.split('-')\n",
    "BBL = np.array(BBL)\n",
    "BBL = [item[0] for item in BBL]"
   ]
  },
  {
   "cell_type": "code",
   "execution_count": 146,
   "metadata": {},
   "outputs": [
    {
     "data": {
      "text/plain": [
       "dict_values([16932, 5421, 6087, 2748, 160])"
      ]
     },
     "execution_count": 146,
     "metadata": {},
     "output_type": "execute_result"
    }
   ],
   "source": [
    "Boroughlist = get_borough(BBL)\n",
    "Counter(Boroughlist).keys()\n",
    "Counter(Boroughlist).values()"
   ]
  },
  {
   "cell_type": "code",
   "execution_count": 147,
   "metadata": {},
   "outputs": [],
   "source": [
    "comparable1['Borough'] = Boroughlist"
   ]
  },
  {
   "cell_type": "code",
   "execution_count": 148,
   "metadata": {},
   "outputs": [],
   "source": [
    "comparable1['Address'] = comparable1['Address'] + ' ' + comparable1['Borough']\n",
    "comparable1['Address'] = comparable1['Address'].map(lambda x: str(x).upper())"
   ]
  },
  {
   "cell_type": "code",
   "execution_count": 149,
   "metadata": {},
   "outputs": [],
   "source": [
    "BBL = comparable2['Boro-Block-Lot']\n",
    "BBL = BBL.str.split('-')\n",
    "BBL = np.array(BBL)\n",
    "BBL = [item[0] for item in BBL]"
   ]
  },
  {
   "cell_type": "code",
   "execution_count": 150,
   "metadata": {},
   "outputs": [
    {
     "data": {
      "text/plain": [
       "dict_values([16820, 5362, 6047, 2703, 160])"
      ]
     },
     "execution_count": 150,
     "metadata": {},
     "output_type": "execute_result"
    }
   ],
   "source": [
    "Boroughlist = get_borough(BBL)\n",
    "Counter(Boroughlist).keys()\n",
    "Counter(Boroughlist).values()"
   ]
  },
  {
   "cell_type": "code",
   "execution_count": 151,
   "metadata": {},
   "outputs": [],
   "source": [
    "comparable2['Borough'] = Boroughlist"
   ]
  },
  {
   "cell_type": "code",
   "execution_count": 152,
   "metadata": {},
   "outputs": [],
   "source": [
    "comparable2['Address'] = comparable2['Address'] + ' ' + comparable2['Borough']\n",
    "comparable2['Address'] = comparable2['Address'].map(lambda x: str(x).upper())"
   ]
  },
  {
   "cell_type": "code",
   "execution_count": 153,
   "metadata": {},
   "outputs": [],
   "source": [
    "BBL = comparable3['Boro-Block-Lot']\n",
    "BBL = BBL.str.split('-')\n",
    "BBL = np.array(BBL)\n",
    "BBL = [item[0] for item in BBL]"
   ]
  },
  {
   "cell_type": "code",
   "execution_count": 154,
   "metadata": {},
   "outputs": [
    {
     "data": {
      "text/plain": [
       "dict_values([13190, 4362, 4698, 135, 2085])"
      ]
     },
     "execution_count": 154,
     "metadata": {},
     "output_type": "execute_result"
    }
   ],
   "source": [
    "Boroughlist = get_borough(BBL)\n",
    "Counter(Boroughlist).keys()\n",
    "Counter(Boroughlist).values()"
   ]
  },
  {
   "cell_type": "code",
   "execution_count": 155,
   "metadata": {},
   "outputs": [],
   "source": [
    "comparable3['Borough'] = Boroughlist"
   ]
  },
  {
   "cell_type": "code",
   "execution_count": 156,
   "metadata": {},
   "outputs": [],
   "source": [
    "comparable3['Address'] = comparable3['Address'] + ' ' + comparable3['Borough']\n",
    "comparable3['Address'] = comparable3['Address'].map(lambda x: str(x).upper())"
   ]
  },
  {
   "cell_type": "code",
   "execution_count": 157,
   "metadata": {},
   "outputs": [],
   "source": [
    "BBL = allbuildings['Boro-Block-Lot']\n",
    "BBL = BBL.str.split('-')\n",
    "BBL = np.array(BBL)\n",
    "BBL = [item[0] for item in BBL]"
   ]
  },
  {
   "cell_type": "code",
   "execution_count": 158,
   "metadata": {},
   "outputs": [
    {
     "data": {
      "text/plain": [
       "dict_values([63874, 20566, 22919, 10284, 615])"
      ]
     },
     "execution_count": 158,
     "metadata": {},
     "output_type": "execute_result"
    }
   ],
   "source": [
    "Boroughlist = get_borough(BBL)\n",
    "Counter(Boroughlist).keys()\n",
    "Counter(Boroughlist).values()"
   ]
  },
  {
   "cell_type": "code",
   "execution_count": 159,
   "metadata": {},
   "outputs": [],
   "source": [
    "allbuildings['Borough'] = Boroughlist"
   ]
  },
  {
   "cell_type": "code",
   "execution_count": 160,
   "metadata": {},
   "outputs": [],
   "source": [
    "#the Borough was added back into the address column to run just one column through the geopy geocoder\n",
    "allbuildings['Address'] = allbuildings['Address'] + ' ' + allbuildings['Borough']\n",
    "allbuildings['Address'] = allbuildings['Address'].map(lambda x: str(x).upper())"
   ]
  },
  {
   "cell_type": "code",
   "execution_count": 161,
   "metadata": {},
   "outputs": [],
   "source": [
    "BBL = condos['Boro-Block-Lot'] \n",
    "BBL = BBL.str.split('-')\n",
    "BBL = np.array(BBL)\n",
    "BBL = [item[0] for item in BBL]"
   ]
  },
  {
   "cell_type": "code",
   "execution_count": 162,
   "metadata": {},
   "outputs": [
    {
     "data": {
      "text/plain": [
       "dict_values([16932, 5421, 6087, 2748, 160])"
      ]
     },
     "execution_count": 162,
     "metadata": {},
     "output_type": "execute_result"
    }
   ],
   "source": [
    "Boroughlist = get_borough(BBL)\n",
    "Counter(Boroughlist).keys()\n",
    "Counter(Boroughlist).values()"
   ]
  },
  {
   "cell_type": "code",
   "execution_count": 163,
   "metadata": {},
   "outputs": [
    {
     "name": "stderr",
     "output_type": "stream",
     "text": [
      "/anaconda3/lib/python3.6/site-packages/ipykernel_launcher.py:1: SettingWithCopyWarning: \n",
      "A value is trying to be set on a copy of a slice from a DataFrame.\n",
      "Try using .loc[row_indexer,col_indexer] = value instead\n",
      "\n",
      "See the caveats in the documentation: http://pandas.pydata.org/pandas-docs/stable/indexing.html#indexing-view-versus-copy\n",
      "  \"\"\"Entry point for launching an IPython kernel.\n"
     ]
    }
   ],
   "source": [
    "condos['Borough'] = Boroughlist"
   ]
  },
  {
   "cell_type": "code",
   "execution_count": null,
   "metadata": {},
   "outputs": [],
   "source": []
  },
  {
   "cell_type": "markdown",
   "metadata": {},
   "source": [
    "Grouped PCA for Dummy Encoded Columns \n",
    "- I tried PCA on the Dummy Encoded Neighborhood column but there were 208 columns and no single column explained more than 7% of the variance. \n",
    "- The columns that I did do PCA for are Borough and Building Class \n",
    "- I have to perform this on all dataframes but the one that I am doing the PCA off will be the Comparable Rentals DataFrame "
   ]
  },
  {
   "cell_type": "markdown",
   "metadata": {},
   "source": [
    "Building Class Transformation"
   ]
  },
  {
   "cell_type": "code",
   "execution_count": null,
   "metadata": {},
   "outputs": [],
   "source": [
    "bldgclass_dummies = pd.get_dummies(comparablerentals['Building Classification'])"
   ]
  },
  {
   "cell_type": "code",
   "execution_count": 40,
   "metadata": {},
   "outputs": [],
   "source": [
    "bldgclasspca = PCA(n_components=10)\n",
    "class_pca = bldgclasspca.fit(bldgclass_dummies)"
   ]
  },
  {
   "cell_type": "code",
   "execution_count": 41,
   "metadata": {},
   "outputs": [
    {
     "name": "stdout",
     "output_type": "stream",
     "text": [
      "('eigenvalues:', array([0.2154283 , 0.11753431, 0.09238487, 0.07541812, 0.05893571,\n",
      "       0.04905169, 0.04741012, 0.04273565, 0.03188359, 0.02733378]))\n",
      "('explained variance pct:', array([0.24465076, 0.13347763, 0.10491671, 0.08564846, 0.06693023,\n",
      "       0.05570547, 0.05384122, 0.04853266, 0.03620854, 0.03104156]))\n"
     ]
    }
   ],
   "source": [
    "bldgclass_eigenvals = class_pca.explained_variance_\n",
    "bldgclass_ratio = class_pca.explained_variance_ratio_\n",
    "\n",
    "print(('eigenvalues:', bldgclass_eigenvals))\n",
    "print(('explained variance pct:', bldgclass_ratio))\n",
    "#not sure that dummy encoding the neighborhood variable and then using PCA will get us a better set of variables considering \n"
   ]
  },
  {
   "cell_type": "code",
   "execution_count": 42,
   "metadata": {},
   "outputs": [
    {
     "data": {
      "text/plain": [
       "0.8609532400000001"
      ]
     },
     "execution_count": 42,
     "metadata": {},
     "output_type": "execute_result"
    }
   ],
   "source": [
    "#by reducing the dimensionality of the building class variable from 26 to 10 we can explain\n",
    "# 86% of the variance within the building class variable \n",
    "0.24465076 + 0.13347763 + 0.10491671 + 0.08564846 + 0.06693023 + 0.05570547 + 0.05384122 + 0.04853266 + 0.03620854 + 0.03104156"
   ]
  },
  {
   "cell_type": "code",
   "execution_count": 44,
   "metadata": {},
   "outputs": [],
   "source": [
    "classpcatransform = class_pca.transform(bldgclass_dummies)"
   ]
  },
  {
   "cell_type": "code",
   "execution_count": 45,
   "metadata": {},
   "outputs": [],
   "source": [
    "classpcatransform = pd.DataFrame(classpcatransform)"
   ]
  },
  {
   "cell_type": "code",
   "execution_count": 46,
   "metadata": {},
   "outputs": [],
   "source": [
    "classpcatransform.rename(columns= {0: 'Building Class PCA 1', 1: 'Building Class PCA 2', 2: 'Building Class PCA 3',\\\n",
    "                         3: 'Building Class PCA 4', 4: 'Building Class PCA 5', 5: 'Building Class PCA 6',\\\n",
    "                         6: 'Building Class PCA 7', 7: 'Building Class PCA 8', 8: 'Building Class PCA 9', 9: 'Building Class PCA 10'}, inplace=True)"
   ]
  },
  {
   "cell_type": "code",
   "execution_count": 47,
   "metadata": {},
   "outputs": [
    {
     "data": {
      "text/html": [
       "<div>\n",
       "<style scoped>\n",
       "    .dataframe tbody tr th:only-of-type {\n",
       "        vertical-align: middle;\n",
       "    }\n",
       "\n",
       "    .dataframe tbody tr th {\n",
       "        vertical-align: top;\n",
       "    }\n",
       "\n",
       "    .dataframe thead th {\n",
       "        text-align: right;\n",
       "    }\n",
       "</style>\n",
       "<table border=\"1\" class=\"dataframe\">\n",
       "  <thead>\n",
       "    <tr style=\"text-align: right;\">\n",
       "      <th></th>\n",
       "      <th>Building Class PCA 1</th>\n",
       "      <th>Building Class PCA 2</th>\n",
       "      <th>Building Class PCA 3</th>\n",
       "      <th>Building Class PCA 4</th>\n",
       "      <th>Building Class PCA 5</th>\n",
       "      <th>Building Class PCA 6</th>\n",
       "      <th>Building Class PCA 7</th>\n",
       "      <th>Building Class PCA 8</th>\n",
       "      <th>Building Class PCA 9</th>\n",
       "      <th>Building Class PCA 10</th>\n",
       "    </tr>\n",
       "  </thead>\n",
       "  <tbody>\n",
       "    <tr>\n",
       "      <th>0</th>\n",
       "      <td>-0.248502</td>\n",
       "      <td>-0.172037</td>\n",
       "      <td>-0.109416</td>\n",
       "      <td>0.613829</td>\n",
       "      <td>0.705194</td>\n",
       "      <td>0.044622</td>\n",
       "      <td>-0.003579</td>\n",
       "      <td>-0.058833</td>\n",
       "      <td>-0.074752</td>\n",
       "      <td>-0.021196</td>\n",
       "    </tr>\n",
       "    <tr>\n",
       "      <th>1</th>\n",
       "      <td>-0.179442</td>\n",
       "      <td>-0.082136</td>\n",
       "      <td>-0.035526</td>\n",
       "      <td>0.097492</td>\n",
       "      <td>-0.073891</td>\n",
       "      <td>-0.016083</td>\n",
       "      <td>0.001484</td>\n",
       "      <td>0.035096</td>\n",
       "      <td>0.095294</td>\n",
       "      <td>0.037469</td>\n",
       "    </tr>\n",
       "    <tr>\n",
       "      <th>2</th>\n",
       "      <td>-0.248502</td>\n",
       "      <td>-0.172037</td>\n",
       "      <td>-0.109416</td>\n",
       "      <td>0.613829</td>\n",
       "      <td>0.705194</td>\n",
       "      <td>0.044622</td>\n",
       "      <td>-0.003579</td>\n",
       "      <td>-0.058833</td>\n",
       "      <td>-0.074752</td>\n",
       "      <td>-0.021196</td>\n",
       "    </tr>\n",
       "    <tr>\n",
       "      <th>3</th>\n",
       "      <td>-0.248502</td>\n",
       "      <td>-0.172037</td>\n",
       "      <td>-0.109416</td>\n",
       "      <td>0.613829</td>\n",
       "      <td>0.705194</td>\n",
       "      <td>0.044622</td>\n",
       "      <td>-0.003579</td>\n",
       "      <td>-0.058833</td>\n",
       "      <td>-0.074752</td>\n",
       "      <td>-0.021196</td>\n",
       "    </tr>\n",
       "    <tr>\n",
       "      <th>4</th>\n",
       "      <td>-0.179442</td>\n",
       "      <td>-0.082136</td>\n",
       "      <td>-0.035526</td>\n",
       "      <td>0.097492</td>\n",
       "      <td>-0.073891</td>\n",
       "      <td>-0.016083</td>\n",
       "      <td>0.001484</td>\n",
       "      <td>0.035096</td>\n",
       "      <td>0.095294</td>\n",
       "      <td>0.037469</td>\n",
       "    </tr>\n",
       "  </tbody>\n",
       "</table>\n",
       "</div>"
      ],
      "text/plain": [
       "   Building Class PCA 1  Building Class PCA 2  Building Class PCA 3  \\\n",
       "0             -0.248502             -0.172037             -0.109416   \n",
       "1             -0.179442             -0.082136             -0.035526   \n",
       "2             -0.248502             -0.172037             -0.109416   \n",
       "3             -0.248502             -0.172037             -0.109416   \n",
       "4             -0.179442             -0.082136             -0.035526   \n",
       "\n",
       "   Building Class PCA 4  Building Class PCA 5  Building Class PCA 6  \\\n",
       "0              0.613829              0.705194              0.044622   \n",
       "1              0.097492             -0.073891             -0.016083   \n",
       "2              0.613829              0.705194              0.044622   \n",
       "3              0.613829              0.705194              0.044622   \n",
       "4              0.097492             -0.073891             -0.016083   \n",
       "\n",
       "   Building Class PCA 7  Building Class PCA 8  Building Class PCA 9  \\\n",
       "0             -0.003579             -0.058833             -0.074752   \n",
       "1              0.001484              0.035096              0.095294   \n",
       "2             -0.003579             -0.058833             -0.074752   \n",
       "3             -0.003579             -0.058833             -0.074752   \n",
       "4              0.001484              0.035096              0.095294   \n",
       "\n",
       "   Building Class PCA 10  \n",
       "0              -0.021196  \n",
       "1               0.037469  \n",
       "2              -0.021196  \n",
       "3              -0.021196  \n",
       "4               0.037469  "
      ]
     },
     "execution_count": 47,
     "metadata": {},
     "output_type": "execute_result"
    }
   ],
   "source": []
  },
  {
   "cell_type": "markdown",
   "metadata": {},
   "source": [
    "Transformation of Comparable Dataframes Individually based on same hyperplane"
   ]
  },
  {
   "cell_type": "code",
   "execution_count": 55,
   "metadata": {},
   "outputs": [],
   "source": [
    "comparable1classdummies = pd.get_dummies(comparable1['Building Classification'])"
   ]
  },
  {
   "cell_type": "code",
   "execution_count": 57,
   "metadata": {},
   "outputs": [],
   "source": [
    "comparable1classdummies = class_pca.transform(comparable1classdummies)"
   ]
  },
  {
   "cell_type": "code",
   "execution_count": 58,
   "metadata": {},
   "outputs": [],
   "source": [
    "comparable1classdummies = pd.DataFrame(comparable1classdummies)"
   ]
  },
  {
   "cell_type": "code",
   "execution_count": 59,
   "metadata": {},
   "outputs": [],
   "source": [
    "comparable1classdummies.rename(columns= {0: 'Building Class PCA 1', 1: 'Building Class PCA 2', 2: 'Building Class PCA 3',\\\n",
    "                         3: 'Building Class PCA 4', 4: 'Building Class PCA 5', 5: 'Building Class PCA 6',\\\n",
    "                         6: 'Building Class PCA 7', 7: 'Building Class PCA 8', 8: 'Building Class PCA 9', 9: 'Building Class PCA 10'}, inplace=True)"
   ]
  },
  {
   "cell_type": "code",
   "execution_count": 69,
   "metadata": {},
   "outputs": [],
   "source": [
    "comparable2classdummies = pd.get_dummies(comparable2['Building Classification'])\n"
   ]
  },
  {
   "cell_type": "code",
   "execution_count": 70,
   "metadata": {},
   "outputs": [],
   "source": [
    "comparable2classdummies = class_pca.transform(comparable2classdummies)"
   ]
  },
  {
   "cell_type": "code",
   "execution_count": 71,
   "metadata": {},
   "outputs": [],
   "source": [
    "comparable2classdummies = pd.DataFrame(comparable2classdummies)"
   ]
  },
  {
   "cell_type": "code",
   "execution_count": 72,
   "metadata": {},
   "outputs": [],
   "source": [
    "comparable2classdummies.rename(columns= {0: 'Building Class PCA 1', 1: 'Building Class PCA 2', 2: 'Building Class PCA 3',\\\n",
    "                         3: 'Building Class PCA 4', 4: 'Building Class PCA 5', 5: 'Building Class PCA 6',\\\n",
    "                         6: 'Building Class PCA 7', 7: 'Building Class PCA 8', 8: 'Building Class PCA 9', 9: 'Building Class PCA 10'}, inplace=True)"
   ]
  },
  {
   "cell_type": "code",
   "execution_count": 74,
   "metadata": {},
   "outputs": [],
   "source": [
    "comparable3classdummies = pd.get_dummies(comparable3['Building Classification'])"
   ]
  },
  {
   "cell_type": "code",
   "execution_count": 75,
   "metadata": {},
   "outputs": [],
   "source": [
    "comparable3classdummies = class_pca.transform(comparable3classdummies)"
   ]
  },
  {
   "cell_type": "code",
   "execution_count": 76,
   "metadata": {},
   "outputs": [],
   "source": [
    "comparable3classdummies = pd.DataFrame(comparable3classdummies)"
   ]
  },
  {
   "cell_type": "code",
   "execution_count": 77,
   "metadata": {},
   "outputs": [],
   "source": [
    "comparable3classdummies.rename(columns= {0: 'Building Class PCA 1', 1: 'Building Class PCA 2', 2: 'Building Class PCA 3',\\\n",
    "                         3: 'Building Class PCA 4', 4: 'Building Class PCA 5', 5: 'Building Class PCA 6',\\\n",
    "                         6: 'Building Class PCA 7', 7: 'Building Class PCA 8', 8: 'Building Class PCA 9', 9: 'Building Class PCA 10'}, inplace=True)"
   ]
  },
  {
   "cell_type": "code",
   "execution_count": 84,
   "metadata": {},
   "outputs": [],
   "source": [
    "condosclassdummies = pd.get_dummies(condos['Building Classification'])"
   ]
  },
  {
   "cell_type": "code",
   "execution_count": 91,
   "metadata": {},
   "outputs": [
    {
     "data": {
      "text/plain": [
       "array(['D7-ELEVATOR', 'D8-ELEVATOR', 'D9-ELEVATOR', 'D5-ELEVATOR',\n",
       "       'D6-ELEVATOR', 'D1-ELEVATOR', 'C7-WALK-UP', 'C1-WALK-UP',\n",
       "       'D3-ELEVATOR', 'C4-WALK-UP', 'C5-WALK-UP', 'D2-ELEVATOR',\n",
       "       'C9-WALK-UP', 'C1  -WALK-UP', 'D1  -ELEVATOR', 'D5  -ELEVATOR',\n",
       "       'D6  -ELEVATOR', 'D9  -ELEVATOR', 'D7  -ELEVATOR', 'D3  -ELEVATOR',\n",
       "       'C7  -WALK-UP', 'C4  -WALK-UP', 'C5  -WALK-UP', 'D8  -ELEVATOR',\n",
       "       'D2  -ELEVATOR', 'C9  -WALK-UP'], dtype=object)"
      ]
     },
     "execution_count": 91,
     "metadata": {},
     "output_type": "execute_result"
    }
   ],
   "source": [
    "comparablerentals['Building Classification'].unique()"
   ]
  },
  {
   "cell_type": "code",
   "execution_count": 90,
   "metadata": {},
   "outputs": [
    {
     "data": {
      "text/plain": [
       "array(['D4-ELEVATOR', 'D0-ELEVATOR', 'C6-WALK-UP', 'C8-WALK-UP',\n",
       "       'C6  -WALK-UP', 'D4  -ELEVATOR', 'D0  -ELEVATOR', 'C8  -WALK-UP'],\n",
       "      dtype=object)"
      ]
     },
     "execution_count": 90,
     "metadata": {},
     "output_type": "execute_result"
    }
   ],
   "source": [
    "condos['Building Classification'].unique()"
   ]
  },
  {
   "cell_type": "code",
   "execution_count": null,
   "metadata": {},
   "outputs": [],
   "source": [
    "#I think we should throw out building classification??? "
   ]
  },
  {
   "cell_type": "code",
   "execution_count": null,
   "metadata": {},
   "outputs": [],
   "source": []
  },
  {
   "cell_type": "markdown",
   "metadata": {},
   "source": [
    "Borough Transformation "
   ]
  },
  {
   "cell_type": "code",
   "execution_count": 164,
   "metadata": {},
   "outputs": [],
   "source": [
    "allcomparableboroughdummies = pd.get_dummies(comparablerentals['Borough'])"
   ]
  },
  {
   "cell_type": "code",
   "execution_count": 165,
   "metadata": {},
   "outputs": [],
   "source": [
    "boroughpca = PCA(n_components=5)\n",
    "boroughpca = boroughpca.fit(allcomparableboroughdummies)"
   ]
  },
  {
   "cell_type": "code",
   "execution_count": 166,
   "metadata": {},
   "outputs": [
    {
     "name": "stdout",
     "output_type": "stream",
     "text": [
      "('eigenvalues:', array([3.41127487e-01, 1.83306763e-01, 1.01927791e-01, 6.49190721e-03,\n",
      "       1.01367815e-27]))\n",
      "('explained variance pct:', array([5.39030353e-01, 2.89650975e-01, 1.61060528e-01, 1.02581444e-02,\n",
      "       1.60175686e-27]))\n"
     ]
    }
   ],
   "source": [
    "borough_eigenvals = boroughpca.explained_variance_\n",
    "borough_ratio = boroughpca.explained_variance_ratio_\n",
    "\n",
    "print(('eigenvalues:', borough_eigenvals))\n",
    "print(('explained variance pct:', borough_ratio))\n",
    "#by eliminating two inputs of 5 I can still capture 97.9% of the variance- \n",
    "#this is likely because there are fewer condos in the Bronx and Staten Island"
   ]
  },
  {
   "cell_type": "code",
   "execution_count": 167,
   "metadata": {},
   "outputs": [],
   "source": [
    "pca_borough = PCA(n_components=3)\n",
    "boroughpca = pca_borough.fit_transform(allcomparableboroughdummies)"
   ]
  },
  {
   "cell_type": "code",
   "execution_count": 168,
   "metadata": {},
   "outputs": [],
   "source": [
    "boroughpca = pd.DataFrame(boroughpca)"
   ]
  },
  {
   "cell_type": "code",
   "execution_count": 169,
   "metadata": {},
   "outputs": [],
   "source": [
    "boroughpca.rename(columns={0:'Borough PCA 1', 1:'Borough PCA 2', 2: 'Borough PCA 3'}, inplace=True)"
   ]
  },
  {
   "cell_type": "code",
   "execution_count": 175,
   "metadata": {},
   "outputs": [],
   "source": [
    "comparablerentals = comparablerentals.join(boroughpca)"
   ]
  },
  {
   "cell_type": "code",
   "execution_count": null,
   "metadata": {},
   "outputs": [],
   "source": []
  },
  {
   "cell_type": "code",
   "execution_count": 170,
   "metadata": {},
   "outputs": [],
   "source": [
    "comparable1borodummies = pd.get_dummies(comparable1['Borough'])"
   ]
  },
  {
   "cell_type": "code",
   "execution_count": 171,
   "metadata": {},
   "outputs": [],
   "source": [
    "comparable1borodummies = pca_borough.transform(comparable1borodummies)"
   ]
  },
  {
   "cell_type": "code",
   "execution_count": 172,
   "metadata": {},
   "outputs": [],
   "source": [
    "comparable1borodummies = pd.DataFrame(comparable1borodummies)"
   ]
  },
  {
   "cell_type": "code",
   "execution_count": 173,
   "metadata": {},
   "outputs": [],
   "source": [
    "comparable1borodummies.rename(columns={0:'Borough PCA 1', 1:'Borough PCA 2', 2: 'Borough PCA 3'}, inplace=True)"
   ]
  },
  {
   "cell_type": "code",
   "execution_count": 174,
   "metadata": {},
   "outputs": [],
   "source": [
    "comparable1 = comparable1.join(comparable1borodummies)"
   ]
  },
  {
   "cell_type": "code",
   "execution_count": null,
   "metadata": {},
   "outputs": [],
   "source": []
  },
  {
   "cell_type": "code",
   "execution_count": 105,
   "metadata": {},
   "outputs": [],
   "source": [
    "comparable2borodummies = pd.get_dummies(comparable2['Borough'])"
   ]
  },
  {
   "cell_type": "code",
   "execution_count": 106,
   "metadata": {},
   "outputs": [],
   "source": [
    "comparable2borodummies = pca_borough.transform(comparable2borodummies)"
   ]
  },
  {
   "cell_type": "code",
   "execution_count": 109,
   "metadata": {},
   "outputs": [],
   "source": [
    "comparable2borodummies = pd.DataFrame(comparable2borodummies)"
   ]
  },
  {
   "cell_type": "code",
   "execution_count": 110,
   "metadata": {},
   "outputs": [],
   "source": [
    "comparable2borodummies.rename(columns={0:'Borough PCA 1', 1:'Borough PCA 2', 2: 'Borough PCA 3'}, inplace=True)"
   ]
  },
  {
   "cell_type": "code",
   "execution_count": 176,
   "metadata": {},
   "outputs": [],
   "source": [
    "comparable2 = comparable2.join(comparable2borodummies)"
   ]
  },
  {
   "cell_type": "code",
   "execution_count": null,
   "metadata": {},
   "outputs": [],
   "source": []
  },
  {
   "cell_type": "code",
   "execution_count": 177,
   "metadata": {},
   "outputs": [],
   "source": [
    "comparable3borodummies = pd.get_dummies(comparable3['Borough'])"
   ]
  },
  {
   "cell_type": "code",
   "execution_count": 178,
   "metadata": {},
   "outputs": [],
   "source": [
    "comparable3borodummies = pca_borough.transform(comparable3borodummies)"
   ]
  },
  {
   "cell_type": "code",
   "execution_count": 179,
   "metadata": {},
   "outputs": [],
   "source": [
    "comparable3borodummies = pd.DataFrame(comparable3borodummies)"
   ]
  },
  {
   "cell_type": "code",
   "execution_count": 180,
   "metadata": {},
   "outputs": [],
   "source": [
    "comparable3borodummies.rename(columns={0:'Borough PCA 1', 1:'Borough PCA 2', 2: 'Borough PCA 3'}, inplace=True)"
   ]
  },
  {
   "cell_type": "code",
   "execution_count": 181,
   "metadata": {},
   "outputs": [],
   "source": [
    "comparable3 = comparable3.join(comparable3borodummies)"
   ]
  },
  {
   "cell_type": "code",
   "execution_count": null,
   "metadata": {},
   "outputs": [],
   "source": []
  },
  {
   "cell_type": "code",
   "execution_count": 182,
   "metadata": {},
   "outputs": [],
   "source": [
    "condoborodummies = pd.get_dummies(condos['Borough'])"
   ]
  },
  {
   "cell_type": "code",
   "execution_count": 183,
   "metadata": {},
   "outputs": [],
   "source": [
    "condoborodummies = pca_borough.transform(condoborodummies)"
   ]
  },
  {
   "cell_type": "code",
   "execution_count": 184,
   "metadata": {},
   "outputs": [],
   "source": [
    "condoborodummies = pd.DataFrame(condoborodummies)"
   ]
  },
  {
   "cell_type": "code",
   "execution_count": 185,
   "metadata": {},
   "outputs": [],
   "source": [
    "condoborodummies.rename(columns={0:'Borough PCA 1', 1:'Borough PCA 2', 2: 'Borough PCA 3'}, inplace=True)"
   ]
  },
  {
   "cell_type": "code",
   "execution_count": 186,
   "metadata": {},
   "outputs": [
    {
     "data": {
      "text/html": [
       "<div>\n",
       "<style scoped>\n",
       "    .dataframe tbody tr th:only-of-type {\n",
       "        vertical-align: middle;\n",
       "    }\n",
       "\n",
       "    .dataframe tbody tr th {\n",
       "        vertical-align: top;\n",
       "    }\n",
       "\n",
       "    .dataframe thead th {\n",
       "        text-align: right;\n",
       "    }\n",
       "</style>\n",
       "<table border=\"1\" class=\"dataframe\">\n",
       "  <thead>\n",
       "    <tr style=\"text-align: right;\">\n",
       "      <th></th>\n",
       "      <th>Borough PCA 1</th>\n",
       "      <th>Borough PCA 2</th>\n",
       "      <th>Borough PCA 3</th>\n",
       "    </tr>\n",
       "  </thead>\n",
       "  <tbody>\n",
       "    <tr>\n",
       "      <th>0</th>\n",
       "      <td>-0.534149</td>\n",
       "      <td>-0.019101</td>\n",
       "      <td>-0.034965</td>\n",
       "    </tr>\n",
       "  </tbody>\n",
       "</table>\n",
       "</div>"
      ],
      "text/plain": [
       "   Borough PCA 1  Borough PCA 2  Borough PCA 3\n",
       "0      -0.534149      -0.019101      -0.034965"
      ]
     },
     "execution_count": 186,
     "metadata": {},
     "output_type": "execute_result"
    }
   ],
   "source": [
    "condoborodummies.head(1)"
   ]
  },
  {
   "cell_type": "code",
   "execution_count": 187,
   "metadata": {},
   "outputs": [],
   "source": [
    "condos = condos.join(condoborodummies)"
   ]
  },
  {
   "cell_type": "code",
   "execution_count": null,
   "metadata": {},
   "outputs": [],
   "source": []
  },
  {
   "cell_type": "code",
   "execution_count": null,
   "metadata": {},
   "outputs": [],
   "source": []
  },
  {
   "cell_type": "code",
   "execution_count": null,
   "metadata": {},
   "outputs": [],
   "source": []
  },
  {
   "cell_type": "code",
   "execution_count": 78,
   "metadata": {},
   "outputs": [],
   "source": [
    "import geopy.geocoders\n",
    "from geopy.geocoders import Nominatim"
   ]
  },
  {
   "cell_type": "code",
   "execution_count": 141,
   "metadata": {},
   "outputs": [],
   "source": [
    "Address = comparablerentals['Address'].iloc[0:3]"
   ]
  },
  {
   "cell_type": "code",
   "execution_count": 143,
   "metadata": {},
   "outputs": [
    {
     "data": {
      "text/plain": [
       "['156 FRONT STREET MANHATTAN',\n",
       " '50 BATTERY PLACE MANHATTAN',\n",
       " '82 FULTON STREET MANHATTAN']"
      ]
     },
     "execution_count": 143,
     "metadata": {},
     "output_type": "execute_result"
    }
   ],
   "source": [
    "list(Address)"
   ]
  },
  {
   "cell_type": "code",
   "execution_count": 155,
   "metadata": {},
   "outputs": [
    {
     "name": "stdout",
     "output_type": "stream",
     "text": [
      "South Cove Plaza, 50, Battery Place, Battery Park City, Manhattan Community Board 1, Manhattan, New York County, NYC, New York, 10280, USA\n",
      "40.70665895\n",
      "-74.0179877071221\n"
     ]
    }
   ],
   "source": [
    "geolocator = Nominatim(user_agent='my-application')\n",
    "location = geolocator.geocode(comparablerentals['Address'].iloc[1])\n",
    "print(location.address)\n",
    "print(location.latitude)\n",
    "print(location.longitude)"
   ]
  },
  {
   "cell_type": "code",
   "execution_count": null,
   "metadata": {},
   "outputs": [],
   "source": [
    "from geopy.geocoders import Nominatim\n",
    "geolocator = Nominatim(user_agent=\"my-app\")\n",
    "\n",
    "from geopy.extra.rate_limiter import RateLimiter\n",
    "geocode = RateLimiter(geolocator.geocode, min_delay_seconds=1.5)\n",
    "comparablerentals['Real Address'] = comparablerentals['Address'].apply(geocode)\n",
    "\n",
    "comparablerentals['point'] = comparablerentals['Real Address'].apply(lambda loc: tuple(loc.point) if loc else None)"
   ]
  },
  {
   "cell_type": "markdown",
   "metadata": {},
   "source": [
    "def get_addresses(Address): \n",
    "    NYCAddress = []\n",
    "    NYClat = []\n",
    "    NYClong = []\n",
    "    geolocator = Nominatim(user_agent='my-application')\n",
    "    for Address in Address: \n",
    "        location = geolocator.geocode(Address)\n",
    "        NYCAddress.append(location.address())\n",
    "        NYClat.append(location.latitude())\n",
    "        NYClong.append(location.longitude())\n",
    "    print(NYCAddress, NYClat, NYClong)\n",
    "    "
   ]
  },
  {
   "cell_type": "code",
   "execution_count": 1,
   "metadata": {
    "scrolled": true
   },
   "outputs": [
    {
     "ename": "SyntaxError",
     "evalue": "invalid syntax (<ipython-input-1-ad4260734fdd>, line 3)",
     "output_type": "error",
     "traceback": [
      "\u001b[0;36m  File \u001b[0;32m\"<ipython-input-1-ad4260734fdd>\"\u001b[0;36m, line \u001b[0;32m3\u001b[0m\n\u001b[0;31m    --user-data-dir=\"/tmp/smithson-vm-m\" http://smithson-vm-m:8088\u001b[0m\n\u001b[0m                                            ^\u001b[0m\n\u001b[0;31mSyntaxError\u001b[0m\u001b[0;31m:\u001b[0m invalid syntax\n"
     ]
    }
   ],
   "source": [
    "\"/Applications/Google Chrome.app/Contents/MacOS/Google Chrome\" \\\n",
    "  --proxy-server=\"socks5://localhost:1080\" \\\n",
    "  --user-data-dir=\"/tmp/smithson-vm-m\" http://smithson-vm-m:8088"
   ]
  },
  {
   "cell_type": "code",
   "execution_count": 86,
   "metadata": {},
   "outputs": [
    {
     "name": "stdout",
     "output_type": "stream",
     "text": [
      "{'place_id': 222594252, 'licence': 'Data © OpenStreetMap contributors, ODbL 1.0. https://osm.org/copyright', 'osm_type': 'way', 'osm_id': 38605248, 'boundingbox': ['40.706044529412', '40.706144529412', '-74.004930882353', '-74.004830882353'], 'lat': '40.7060945294118', 'lon': '-74.0048808823529', 'display_name': '156, Front Street, Financial District, Manhattan Community Board 1, Manhattan, New York County, NYC, New York, 10038, USA', 'class': 'place', 'type': 'house', 'importance': 0.411}\n"
     ]
    }
   ],
   "source": []
  },
  {
   "cell_type": "code",
   "execution_count": null,
   "metadata": {},
   "outputs": [],
   "source": []
  },
  {
   "cell_type": "code",
   "execution_count": 76,
   "metadata": {
    "scrolled": true
   },
   "outputs": [
    {
     "name": "stderr",
     "output_type": "stream",
     "text": [
      "/anaconda3/lib/python3.6/site-packages/ipykernel_launcher.py:1: DeprecationWarning: Using Nominatim with the default \"geopy/1.20.0\" `user_agent` is strongly discouraged, as it violates Nominatim's ToS https://operations.osmfoundation.org/policies/nominatim/ and may possibly cause 403 and 429 HTTP errors. Please specify a custom `user_agent` with `Nominatim(user_agent=\"my-application\")` or by overriding the default `user_agent`: `geopy.geocoders.options.default_user_agent = \"my-application\"`. In geopy 2.0 this will become an exception.\n",
      "  \"\"\"Entry point for launching an IPython kernel.\n"
     ]
    }
   ],
   "source": [
    "comparable1.to_csv('comparable1.csv', index=None, header=True)\n",
    "comparable2.to_csv('comparable2.csv', index=None, header=True)\n",
    "comparable3.to_csv('comparable3.csv', index=None, header=True)\n",
    "condos.to_csv('condos.csv', index=None, header=True)\n",
    "allbuildings.to_csv('allbuildings.csv', index=None, header=True)\n",
    "comparablerentals.to_csv('comparablerentals.csv', index=None, header=True)    "
   ]
  },
  {
   "cell_type": "code",
   "execution_count": 1,
   "metadata": {},
   "outputs": [
    {
     "data": {
      "text/plain": [
       "'/Users/Erika/Desktop/General_Assembly/Capstone'"
      ]
     },
     "execution_count": 1,
     "metadata": {},
     "output_type": "execute_result"
    }
   ],
   "source": []
  },
  {
   "cell_type": "code",
   "execution_count": 4,
   "metadata": {},
   "outputs": [],
   "source": [
    "geocoding_df = pd.read_csv('capstonegeocoding.csv')"
   ]
  },
  {
   "cell_type": "code",
   "execution_count": 8,
   "metadata": {},
   "outputs": [
    {
     "data": {
      "text/html": [
       "<div>\n",
       "<style scoped>\n",
       "    .dataframe tbody tr th:only-of-type {\n",
       "        vertical-align: middle;\n",
       "    }\n",
       "\n",
       "    .dataframe tbody tr th {\n",
       "        vertical-align: top;\n",
       "    }\n",
       "\n",
       "    .dataframe thead th {\n",
       "        text-align: right;\n",
       "    }\n",
       "</style>\n",
       "<table border=\"1\" class=\"dataframe\">\n",
       "  <thead>\n",
       "    <tr style=\"text-align: right;\">\n",
       "      <th></th>\n",
       "      <th>Unnamed: 0</th>\n",
       "      <th>Address</th>\n",
       "    </tr>\n",
       "  </thead>\n",
       "  <tbody>\n",
       "    <tr>\n",
       "      <th>0</th>\n",
       "      <td>0</td>\n",
       "      <td>{'latitude': 40.706074, 'formatted_address': '...</td>\n",
       "    </tr>\n",
       "    <tr>\n",
       "      <th>1</th>\n",
       "      <td>1</td>\n",
       "      <td>{'latitude': 40.7096248, 'formatted_address': ...</td>\n",
       "    </tr>\n",
       "    <tr>\n",
       "      <th>2</th>\n",
       "      <td>2</td>\n",
       "      <td>{'latitude': 40.7098261, 'formatted_address': ...</td>\n",
       "    </tr>\n",
       "    <tr>\n",
       "      <th>3</th>\n",
       "      <td>3</td>\n",
       "      <td>{'latitude': 40.7066593, 'formatted_address': ...</td>\n",
       "    </tr>\n",
       "    <tr>\n",
       "      <th>4</th>\n",
       "      <td>4</td>\n",
       "      <td>{'latitude': 40.7074532, 'formatted_address': ...</td>\n",
       "    </tr>\n",
       "  </tbody>\n",
       "</table>\n",
       "</div>"
      ],
      "text/plain": [
       "   Unnamed: 0                                            Address\n",
       "0           0  {'latitude': 40.706074, 'formatted_address': '...\n",
       "1           1  {'latitude': 40.7096248, 'formatted_address': ...\n",
       "2           2  {'latitude': 40.7098261, 'formatted_address': ...\n",
       "3           3  {'latitude': 40.7066593, 'formatted_address': ...\n",
       "4           4  {'latitude': 40.7074532, 'formatted_address': ..."
      ]
     },
     "execution_count": 8,
     "metadata": {},
     "output_type": "execute_result"
    }
   ],
   "source": [
    "geocoding_df.head()"
   ]
  },
  {
   "cell_type": "code",
   "execution_count": 62,
   "metadata": {},
   "outputs": [],
   "source": [
    "def get_coordinates(Address): \n",
    "    lat_match = re.findall(r'latitude..............', Address)\n",
    "    lat_match2 = str(lat_match).split(':')\n",
    "    lat_match3 = lat_match2[1]\n",
    "    lat_match4 = re.search(r'\\d+.\\d+', lat_match3).group(0)\n",
    "    long_match = re.findall(r'longitude..............', Address)\n",
    "    long_match2 = str(lat_match).split(':')\n",
    "    long_match3 = lat_match2[1]\n",
    "    long_match4 = re.search(r'\\d+.\\d+', lat_match3).group(0)\n",
    "    return lat_match4, long_match4"
   ]
  },
  {
   "cell_type": "code",
   "execution_count": 64,
   "metadata": {},
   "outputs": [],
   "source": [
    "geocoding_df['geometry'] = geocoding_df.Address.apply(get_coordinates)"
   ]
  },
  {
   "cell_type": "code",
   "execution_count": 65,
   "metadata": {},
   "outputs": [
    {
     "data": {
      "text/plain": [
       "\"{'latitude': 40.7098261, 'formatted_address': '12 John St, New York, NY 10038, USA', 'longitude': -74.0091249}\""
      ]
     },
     "execution_count": 65,
     "metadata": {},
     "output_type": "execute_result"
    }
   ],
   "source": [
    "geocoding_df.Address.iloc[2]"
   ]
  },
  {
   "cell_type": "code",
   "execution_count": 100,
   "metadata": {},
   "outputs": [],
   "source": [
    "def get_std_address(Address): \n",
    "    addr_match = re.findall(r'ress.+(?=USA)', Address)\n",
    "    addr_match2 = str(addr_match).split(':')\n",
    "    addr_match3 = addr_match2[1]\n",
    "    addr_match4 = str(addr_match3).rstrip(', \"]')\n",
    "    return addr_match4"
   ]
  },
  {
   "cell_type": "code",
   "execution_count": 102,
   "metadata": {},
   "outputs": [],
   "source": [
    "geocoding_df['standardized_address'] = geocoding_df['Address'].apply(get_std_address)"
   ]
  },
  {
   "cell_type": "code",
   "execution_count": 103,
   "metadata": {},
   "outputs": [
    {
     "data": {
      "text/plain": [
       "(1000, 4)"
      ]
     },
     "execution_count": 103,
     "metadata": {},
     "output_type": "execute_result"
    }
   ],
   "source": [
    "geocoding_df.shape"
   ]
  },
  {
   "cell_type": "code",
   "execution_count": 104,
   "metadata": {},
   "outputs": [],
   "source": [
    "geocoding_df2 = pd.read_csv('output2.csv')"
   ]
  },
  {
   "cell_type": "code",
   "execution_count": 107,
   "metadata": {},
   "outputs": [],
   "source": [
    "geocoding_df2['geometry'] = geocoding_df2['Address'].apply(get_coordinates)"
   ]
  },
  {
   "cell_type": "code",
   "execution_count": 110,
   "metadata": {},
   "outputs": [],
   "source": [
    "geocoding_df2['standardized_address'] = geocoding_df2['Address'].apply(get_std_address)"
   ]
  },
  {
   "cell_type": "code",
   "execution_count": 123,
   "metadata": {},
   "outputs": [],
   "source": [
    "geocoding_df_complete = pd.concat([geocoding_df, geocoding_df2], axis = 0)"
   ]
  },
  {
   "cell_type": "code",
   "execution_count": 127,
   "metadata": {},
   "outputs": [],
   "source": [
    "geocoding_df_complete.set_index('Unnamed: 0', inplace=True)"
   ]
  },
  {
   "cell_type": "code",
   "execution_count": 133,
   "metadata": {},
   "outputs": [],
   "source": [
    "geocoding_df_complete.to_csv('comparablerental_geocode.csv', index=None, header=True)"
   ]
  },
  {
   "cell_type": "code",
   "execution_count": 137,
   "metadata": {},
   "outputs": [],
   "source": [
    "import geopandas as gpd"
   ]
  },
  {
   "cell_type": "code",
   "execution_count": 148,
   "metadata": {
    "scrolled": false
   },
   "outputs": [
    {
     "data": {
      "text/plain": [
       "<matplotlib.axes._subplots.AxesSubplot at 0x1c2e4064e0>"
      ]
     },
     "execution_count": 148,
     "metadata": {},
     "output_type": "execute_result"
    },
    {
     "data": {
      "image/png": "[encoded data removed]",
      "text/plain": [
       "<Figure size 432x288 with 1 Axes>"
      ]
     },
     "metadata": {
      "needs_background": "light"
     },
     "output_type": "display_data"
    }
   ],
   "source": [
    "gpd.GeoDataFrame(geocoding_df,geometry=geocoding_df.geometry).plot()"
   ]
  },
  {
   "cell_type": "code",
   "execution_count": 143,
   "metadata": {},
   "outputs": [],
   "source": [
    "from shapely.geometry import Point "
   ]
  },
  {
   "cell_type": "code",
   "execution_count": 146,
   "metadata": {},
   "outputs": [],
   "source": [
    "geocoding_df['geometry'] = geocoding_df['geometry'].apply(lambda x : Point(float(x[0]),float(x[1])))"
   ]
  },
  {
   "cell_type": "code",
   "execution_count": 192,
   "metadata": {},
   "outputs": [],
   "source": [
    "condos_chunk = pd.read_csv('condos.csv', chunksize=5000)\n",
    "condos_chunk_list = []"
   ]
  },
  {
   "cell_type": "code",
   "execution_count": 193,
   "metadata": {},
   "outputs": [],
   "source": [
    "nominatim_geo_points = [] \n",
    "nominatim_std_address = []\n",
    "def get_nominatim_geo(*args): \n",
    "    from geopy.geocoders import Nominatim\n",
    "    geolocator = Nominatim(user_agent=\"my-app\", timeout=1000)\n",
    "\n",
    "    from geopy.extra.rate_limiter import RateLimiter\n",
    "    geocode = RateLimiter(geolocator.geocode, min_delay_seconds=1.5) \n",
    "    nominatim_geo_points.append(condos['Full Address'].progress_apply(geocode)) \n",
    "    for point in nominatim_geo_points: \n",
    "        nominatim_std_address.append(lambda loc: tuple(loc.point) if loc else None)\n",
    "    return nominatim_geo_points \n",
    "    return nominatim_std_address"
   ]
  },
  {
   "cell_type": "code",
   "execution_count": null,
   "metadata": {},
   "outputs": [
    {
     "name": "stderr",
     "output_type": "stream",
     "text": [
      "\n",
      "  0%|          | 0/31348 [00:00<?, ?it/s]\u001b[A\n",
      "  0%|          | 2/31348 [00:03<15:49:05,  1.82s/it]\u001b[A\n",
      "  0%|          | 3/31348 [00:06<18:41:15,  2.15s/it]\u001b[A\n",
      "  0%|          | 4/31348 [00:09<20:58:43,  2.41s/it]\u001b[A\n",
      "  0%|          | 5/31348 [00:12<22:36:51,  2.60s/it]\u001b[A\n",
      "  0%|          | 6/31348 [00:15<24:11:02,  2.78s/it]\u001b[A\n",
      "  0%|          | 7/31348 [00:18<25:14:47,  2.90s/it]\u001b[A\n",
      "  0%|          | 8/31348 [00:22<25:57:49,  2.98s/it]\u001b[A\n",
      "  0%|          | 9/31348 [00:25<26:06:21,  3.00s/it]\u001b[A\n",
      "  0%|          | 10/31348 [00:28<25:59:43,  2.99s/it]\u001b[A\n",
      "  0%|          | 11/31348 [00:31<25:52:46,  2.97s/it]\u001b[A\n",
      "  0%|          | 12/31348 [00:34<25:48:12,  2.96s/it]\u001b[A\n",
      "  0%|          | 13/31348 [00:37<26:05:02,  3.00s/it]\u001b[A\n",
      "  0%|          | 14/31348 [00:40<26:00:41,  2.99s/it]\u001b[A\n",
      "  0%|          | 15/31348 [00:42<25:46:25,  2.96s/it]\u001b[A\n",
      "  0%|          | 16/31348 [00:46<25:56:24,  2.98s/it]\u001b[A\n",
      "  0%|          | 17/31348 [00:49<26:04:36,  3.00s/it]\u001b[A\n",
      "  0%|          | 18/31348 [00:52<26:08:37,  3.00s/it]\u001b[A\n",
      "  0%|          | 19/31348 [00:55<26:28:06,  3.04s/it]\u001b[A\n",
      "  0%|          | 20/31348 [00:58<26:56:15,  3.10s/it]\u001b[A\n",
      "  0%|          | 21/31348 [01:01<26:40:58,  3.07s/it]\u001b[A\n",
      "  0%|          | 22/31348 [01:04<26:37:11,  3.06s/it]\u001b[A\n",
      "  0%|          | 23/31348 [01:07<26:28:34,  3.04s/it]\u001b[A\n",
      "  0%|          | 24/31348 [01:10<26:28:12,  3.04s/it]\u001b[A\n",
      "  0%|          | 25/31348 [01:13<26:48:21,  3.08s/it]\u001b[A\n",
      "  0%|          | 26/31348 [01:16<26:19:29,  3.03s/it]\u001b[A\n",
      "  0%|          | 27/31348 [01:19<26:10:14,  3.01s/it]\u001b[A\n",
      "  0%|          | 28/31348 [01:22<26:16:10,  3.02s/it]\u001b[A\n",
      "  0%|          | 29/31348 [01:25<26:33:37,  3.05s/it]\u001b[A\n",
      "  0%|          | 30/31348 [01:28<26:35:27,  3.06s/it]\u001b[A\n",
      "  0%|          | 31/31348 [01:31<26:45:46,  3.08s/it]\u001b[A\n",
      "  0%|          | 32/31348 [01:34<26:44:49,  3.07s/it]\u001b[A\n",
      "  0%|          | 33/31348 [01:37<26:18:27,  3.02s/it]\u001b[A\n",
      "  0%|          | 34/31348 [01:40<26:19:38,  3.03s/it]\u001b[A\n",
      "  0%|          | 35/31348 [01:43<26:10:36,  3.01s/it]\u001b[A\n",
      "  0%|          | 36/31348 [01:49<32:13:22,  3.70s/it]\u001b[A\n",
      "  0%|          | 37/31348 [01:52<30:34:02,  3.51s/it]\u001b[A\n",
      "  0%|          | 38/31348 [01:55<29:08:53,  3.35s/it]\u001b[A\n",
      "  0%|          | 39/31348 [01:58<28:40:46,  3.30s/it]\u001b[A\n",
      "  0%|          | 40/31348 [02:01<28:21:23,  3.26s/it]\u001b[A\n",
      "  0%|          | 41/31348 [02:04<28:08:13,  3.24s/it]\u001b[A\n",
      "  0%|          | 42/31348 [02:07<27:58:16,  3.22s/it]\u001b[A\n",
      "  0%|          | 43/31348 [02:11<27:40:11,  3.18s/it]\u001b[A\n",
      "  0%|          | 44/31348 [02:14<27:18:24,  3.14s/it]\u001b[A\n",
      "  0%|          | 45/31348 [02:17<26:51:45,  3.09s/it]\u001b[A\n",
      "  0%|          | 46/31348 [02:20<27:21:14,  3.15s/it]\u001b[A\n",
      "  0%|          | 47/31348 [02:23<27:17:08,  3.14s/it]\u001b[A\n",
      "  0%|          | 48/31348 [02:26<27:07:31,  3.12s/it]\u001b[A\n",
      "  0%|          | 49/31348 [02:29<26:48:25,  3.08s/it]\u001b[A\n",
      "  0%|          | 50/31348 [02:32<26:36:19,  3.06s/it]\u001b[A\n",
      "  0%|          | 51/31348 [02:35<26:19:33,  3.03s/it]\u001b[A\n",
      "  0%|          | 52/31348 [02:38<26:35:54,  3.06s/it]\u001b[A\n",
      "  0%|          | 53/31348 [02:41<26:12:36,  3.02s/it]\u001b[A\n",
      "  0%|          | 54/31348 [02:44<26:37:09,  3.06s/it]\u001b[A\n",
      "  0%|          | 55/31348 [02:47<26:38:35,  3.07s/it]\u001b[A\n",
      "  0%|          | 56/31348 [02:50<26:54:25,  3.10s/it]\u001b[A\n",
      "  0%|          | 57/31348 [02:54<26:51:30,  3.09s/it]\u001b[A\n",
      "  0%|          | 58/31348 [02:56<26:32:57,  3.05s/it]\u001b[A\n",
      "  0%|          | 59/31348 [02:59<26:17:12,  3.02s/it]\u001b[A\n",
      "  0%|          | 60/31348 [03:03<26:26:49,  3.04s/it]\u001b[A\n",
      "  0%|          | 61/31348 [03:06<26:20:27,  3.03s/it]\u001b[A\n",
      "  0%|          | 62/31348 [03:09<26:20:23,  3.03s/it]\u001b[A\n",
      "  0%|          | 63/31348 [03:12<26:28:14,  3.05s/it]\u001b[A\n",
      "  0%|          | 64/31348 [03:15<26:47:58,  3.08s/it]\u001b[A\n",
      "  0%|          | 65/31348 [03:18<27:02:00,  3.11s/it]\u001b[A\n",
      "  0%|          | 66/31348 [03:21<26:39:57,  3.07s/it]\u001b[A\n",
      "  0%|          | 67/31348 [03:24<26:40:19,  3.07s/it]\u001b[A\n",
      "  0%|          | 68/31348 [03:27<26:36:34,  3.06s/it]\u001b[A\n",
      "  0%|          | 69/31348 [03:30<26:42:21,  3.07s/it]\u001b[A\n",
      "  0%|          | 70/31348 [03:33<26:57:55,  3.10s/it]\u001b[A\n",
      "  0%|          | 71/31348 [03:36<26:24:53,  3.04s/it]\u001b[A\n",
      "  0%|          | 72/31348 [03:39<26:25:51,  3.04s/it]\u001b[A\n",
      "  0%|          | 73/31348 [03:42<26:30:43,  3.05s/it]\u001b[A\n",
      "  0%|          | 74/31348 [03:45<26:09:47,  3.01s/it]\u001b[A\n",
      "  0%|          | 75/31348 [03:48<26:26:53,  3.04s/it]\u001b[A\n",
      "  0%|          | 76/31348 [03:51<26:15:23,  3.02s/it]\u001b[A\n",
      "  0%|          | 77/31348 [03:54<26:07:17,  3.01s/it]\u001b[A\n",
      "  0%|          | 78/31348 [03:57<26:15:57,  3.02s/it]\u001b[A\n",
      "  0%|          | 79/31348 [04:01<26:40:21,  3.07s/it]\u001b[A\n",
      "  0%|          | 80/31348 [04:04<27:12:25,  3.13s/it]\u001b[A\n",
      "  0%|          | 81/31348 [04:07<27:19:11,  3.15s/it]\u001b[A\n",
      "  0%|          | 82/31348 [04:10<27:29:21,  3.17s/it]\u001b[A\n",
      "  0%|          | 83/31348 [04:13<26:54:21,  3.10s/it]\u001b[A\n",
      "  0%|          | 84/31348 [04:16<26:47:26,  3.08s/it]\u001b[A\n",
      "  0%|          | 85/31348 [04:19<27:02:32,  3.11s/it]\u001b[A\n",
      "  0%|          | 86/31348 [04:23<27:28:21,  3.16s/it]\u001b[A\n",
      "  0%|          | 87/31348 [04:26<27:15:21,  3.14s/it]\u001b[A\n",
      "  0%|          | 88/31348 [04:29<27:25:32,  3.16s/it]\u001b[A\n",
      "  0%|          | 89/31348 [04:32<27:28:01,  3.16s/it]\u001b[A\n",
      "  0%|          | 90/31348 [04:35<27:06:22,  3.12s/it]\u001b[A\n",
      "  0%|          | 91/31348 [04:38<26:45:39,  3.08s/it]\u001b[A\n",
      "  0%|          | 92/31348 [04:41<26:42:02,  3.08s/it]\u001b[A\n",
      "  0%|          | 93/31348 [04:44<27:02:22,  3.11s/it]\u001b[A\n",
      "  0%|          | 94/31348 [04:48<27:14:17,  3.14s/it]\u001b[A\n",
      "  0%|          | 95/31348 [04:51<27:08:39,  3.13s/it]\u001b[A\n",
      "  0%|          | 96/31348 [04:54<27:19:43,  3.15s/it]\u001b[A\n",
      "  0%|          | 97/31348 [04:57<27:24:06,  3.16s/it]\u001b[A\n",
      "  0%|          | 98/31348 [05:00<27:10:42,  3.13s/it]\u001b[A\n",
      "  0%|          | 99/31348 [05:03<27:09:58,  3.13s/it]\u001b[A\n",
      "  0%|          | 100/31348 [05:06<26:38:21,  3.07s/it]\u001b[A\n",
      "  0%|          | 101/31348 [05:09<26:13:04,  3.02s/it]\u001b[A\n",
      "  0%|          | 102/31348 [05:12<26:03:19,  3.00s/it]\u001b[A\n",
      "  0%|          | 103/31348 [05:15<26:00:27,  3.00s/it]\u001b[A\n",
      "  0%|          | 104/31348 [05:18<25:56:16,  2.99s/it]\u001b[A\n",
      "  0%|          | 105/31348 [05:21<26:16:52,  3.03s/it]\u001b[A\n",
      "  0%|          | 106/31348 [05:24<26:25:51,  3.05s/it]\u001b[A\n",
      "  0%|          | 107/31348 [05:27<26:27:10,  3.05s/it]\u001b[A\n",
      "  0%|          | 108/31348 [05:30<26:10:43,  3.02s/it]\u001b[A\n",
      "  0%|          | 109/31348 [05:33<26:20:17,  3.04s/it]\u001b[A\n",
      "  0%|          | 110/31348 [05:36<26:14:17,  3.02s/it]\u001b[A\n",
      "  0%|          | 111/31348 [05:40<26:52:28,  3.10s/it]\u001b[A\n",
      "  0%|          | 112/31348 [05:43<26:52:03,  3.10s/it]\u001b[A\n",
      "  0%|          | 113/31348 [05:46<27:05:24,  3.12s/it]\u001b[A\n",
      "  0%|          | 114/31348 [05:49<27:00:15,  3.11s/it]\u001b[A\n",
      "  0%|          | 115/31348 [05:52<27:02:21,  3.12s/it]\u001b[A\n",
      "  0%|          | 116/31348 [05:55<27:17:33,  3.15s/it]\u001b[A\n",
      "  0%|          | 117/31348 [05:58<26:55:36,  3.10s/it]\u001b[A\n",
      "  0%|          | 118/31348 [06:01<26:26:26,  3.05s/it]\u001b[A\n",
      "  0%|          | 119/31348 [06:04<26:28:03,  3.05s/it]\u001b[A\n",
      "  0%|          | 120/31348 [06:07<26:13:29,  3.02s/it]\u001b[A\n",
      "  0%|          | 121/31348 [06:10<25:58:50,  3.00s/it]\u001b[A\n",
      "  0%|          | 122/31348 [06:13<26:17:10,  3.03s/it]\u001b[A\n",
      "  0%|          | 123/31348 [06:16<26:05:07,  3.01s/it]\u001b[A\n",
      "  0%|          | 124/31348 [06:19<26:33:01,  3.06s/it]\u001b[A\n",
      "  0%|          | 125/31348 [06:23<26:38:20,  3.07s/it]\u001b[A\n",
      "  0%|          | 126/31348 [06:26<26:51:49,  3.10s/it]\u001b[A\n",
      "  0%|          | 127/31348 [06:29<27:03:17,  3.12s/it]\u001b[A\n",
      "  0%|          | 128/31348 [06:32<26:47:01,  3.09s/it]\u001b[A\n",
      "  0%|          | 129/31348 [06:35<26:53:50,  3.10s/it]\u001b[A\n",
      "  0%|          | 130/31348 [06:38<26:33:00,  3.06s/it]\u001b[A\n",
      "  0%|          | 131/31348 [06:41<26:34:10,  3.06s/it]\u001b[A\n",
      "  0%|          | 132/31348 [06:44<26:23:56,  3.04s/it]\u001b[A\n",
      "  0%|          | 133/31348 [06:47<26:25:53,  3.05s/it]\u001b[A\n",
      "  0%|          | 134/31348 [06:50<26:28:56,  3.05s/it]\u001b[A\n",
      "  0%|          | 135/31348 [06:53<26:06:28,  3.01s/it]\u001b[A\n",
      "  0%|          | 136/31348 [06:56<26:23:41,  3.04s/it]\u001b[A\n",
      "  0%|          | 137/31348 [06:59<26:35:48,  3.07s/it]\u001b[A\n",
      "  0%|          | 138/31348 [07:02<26:49:37,  3.09s/it]\u001b[A\n",
      "  0%|          | 139/31348 [07:06<26:47:42,  3.09s/it]\u001b[A\n",
      "  0%|          | 140/31348 [07:09<26:45:34,  3.09s/it]\u001b[A\n",
      "  0%|          | 141/31348 [07:12<26:23:31,  3.04s/it]\u001b[A\n",
      "  0%|          | 142/31348 [07:15<26:19:11,  3.04s/it]\u001b[A\n",
      "  0%|          | 143/31348 [07:18<26:44:59,  3.09s/it]\u001b[A\n"
     ]
    },
    {
     "name": "stderr",
     "output_type": "stream",
     "text": [
      "  0%|          | 144/31348 [07:21<26:58:58,  3.11s/it]\u001b[A\n",
      "  0%|          | 145/31348 [07:24<26:52:35,  3.10s/it]\u001b[A\n",
      "  0%|          | 146/31348 [07:27<27:19:39,  3.15s/it]\u001b[A\n",
      "  0%|          | 147/31348 [07:30<26:55:29,  3.11s/it]\u001b[A\n",
      "  0%|          | 148/31348 [07:33<26:26:56,  3.05s/it]\u001b[A\n",
      "  0%|          | 149/31348 [07:36<26:07:30,  3.01s/it]\u001b[A\n",
      "  0%|          | 150/31348 [07:39<26:17:08,  3.03s/it]\u001b[A\n",
      "  0%|          | 151/31348 [07:42<26:32:03,  3.06s/it]\u001b[A\n",
      "  0%|          | 152/31348 [07:45<26:09:11,  3.02s/it]\u001b[A\n",
      "  0%|          | 153/31348 [07:48<26:26:04,  3.05s/it]\u001b[A\n",
      "  0%|          | 154/31348 [07:51<26:12:50,  3.03s/it]\u001b[A\n",
      "  0%|          | 155/31348 [07:54<26:04:35,  3.01s/it]\u001b[A\n",
      "  0%|          | 156/31348 [07:57<26:20:43,  3.04s/it]\u001b[A\n",
      "  1%|          | 157/31348 [08:01<28:42:31,  3.31s/it]\u001b[A\n",
      "  1%|          | 158/31348 [08:04<27:55:53,  3.22s/it]\u001b[A\n",
      "  1%|          | 159/31348 [08:07<27:19:18,  3.15s/it]\u001b[A\n",
      "  1%|          | 160/31348 [08:11<27:08:52,  3.13s/it]\u001b[A\n",
      "  1%|          | 161/31348 [08:14<27:19:02,  3.15s/it]\u001b[A\n",
      "  1%|          | 162/31348 [08:17<27:21:44,  3.16s/it]\u001b[A\n",
      "  1%|          | 163/31348 [08:20<27:40:10,  3.19s/it]\u001b[A\n",
      "  1%|          | 164/31348 [08:23<27:07:24,  3.13s/it]\u001b[A\n",
      "  1%|          | 165/31348 [08:26<26:37:07,  3.07s/it]\u001b[A\n",
      "  1%|          | 166/31348 [08:29<26:40:27,  3.08s/it]\u001b[A\n",
      "  1%|          | 167/31348 [08:32<26:26:38,  3.05s/it]\u001b[A\n",
      "  1%|          | 168/31348 [08:35<26:54:58,  3.11s/it]\u001b[A\n",
      "  1%|          | 169/31348 [08:39<27:02:29,  3.12s/it]\u001b[A\n",
      "  1%|          | 170/31348 [08:42<27:31:57,  3.18s/it]\u001b[A\n",
      "  1%|          | 171/31348 [08:45<27:30:51,  3.18s/it]\u001b[A\n",
      "  1%|          | 172/31348 [08:48<27:14:29,  3.15s/it]\u001b[A\n",
      "  1%|          | 173/31348 [08:51<27:45:00,  3.20s/it]\u001b[A\n",
      "  1%|          | 174/31348 [08:55<27:40:19,  3.20s/it]\u001b[A\n",
      "  1%|          | 175/31348 [08:58<27:58:40,  3.23s/it]\u001b[A\n",
      "  1%|          | 176/31348 [09:01<27:25:04,  3.17s/it]\u001b[A\n",
      "  1%|          | 177/31348 [09:04<27:25:34,  3.17s/it]\u001b[A\n",
      "  1%|          | 178/31348 [09:07<27:04:22,  3.13s/it]\u001b[A\n",
      "  1%|          | 179/31348 [09:10<26:39:40,  3.08s/it]\u001b[A\n",
      "  1%|          | 180/31348 [09:13<26:56:41,  3.11s/it]\u001b[A\n",
      "  1%|          | 181/31348 [09:16<26:48:02,  3.10s/it]\u001b[A\n",
      "  1%|          | 182/31348 [09:19<26:35:41,  3.07s/it]\u001b[A\n",
      "  1%|          | 183/31348 [09:22<26:30:04,  3.06s/it]\u001b[A\n",
      "  1%|          | 184/31348 [09:25<26:17:46,  3.04s/it]\u001b[A\n",
      "  1%|          | 185/31348 [09:29<26:25:52,  3.05s/it]\u001b[A\n",
      "  1%|          | 186/31348 [09:32<26:35:27,  3.07s/it]\u001b[A\n",
      "  1%|          | 187/31348 [09:35<26:29:17,  3.06s/it]\u001b[A\n",
      "  1%|          | 188/31348 [09:38<26:28:52,  3.06s/it]\u001b[A\n",
      "  1%|          | 189/31348 [09:41<26:27:37,  3.06s/it]\u001b[A\n",
      "  1%|          | 190/31348 [09:44<26:30:40,  3.06s/it]\u001b[A\n",
      "  1%|          | 191/31348 [09:47<26:33:02,  3.07s/it]\u001b[A\n",
      "  1%|          | 192/31348 [09:50<26:48:39,  3.10s/it]\u001b[A\n",
      "  1%|          | 193/31348 [09:53<26:55:38,  3.11s/it]\u001b[A\n",
      "  1%|          | 194/31348 [09:56<26:37:19,  3.08s/it]\u001b[A\n",
      "  1%|          | 195/31348 [09:59<26:38:14,  3.08s/it]\u001b[A\n",
      "  1%|          | 196/31348 [10:02<26:38:49,  3.08s/it]\u001b[A\n",
      "  1%|          | 197/31348 [10:06<26:51:12,  3.10s/it]\u001b[A\n",
      "  1%|          | 198/31348 [10:09<26:51:29,  3.10s/it]\u001b[A\n",
      "  1%|          | 199/31348 [10:12<26:46:56,  3.10s/it]\u001b[A\n",
      "  1%|          | 200/31348 [10:15<26:35:24,  3.07s/it]\u001b[A\n",
      "  1%|          | 201/31348 [10:18<26:35:05,  3.07s/it]\u001b[A\n",
      "  1%|          | 202/31348 [10:21<26:31:57,  3.07s/it]\u001b[A\n",
      "  1%|          | 203/31348 [10:24<26:26:08,  3.06s/it]\u001b[A\n",
      "  1%|          | 204/31348 [10:27<26:13:58,  3.03s/it]\u001b[A\n",
      "  1%|          | 205/31348 [10:30<25:57:01,  3.00s/it]\u001b[A\n",
      "  1%|          | 206/31348 [10:33<26:25:31,  3.05s/it]\u001b[A\n",
      "  1%|          | 207/31348 [10:36<26:21:30,  3.05s/it]\u001b[A\n",
      "  1%|          | 208/31348 [10:39<26:24:39,  3.05s/it]\u001b[A\n",
      "  1%|          | 209/31348 [10:42<26:25:12,  3.05s/it]\u001b[A\n",
      "  1%|          | 210/31348 [10:45<27:07:21,  3.14s/it]\u001b[A\n",
      "  1%|          | 211/31348 [10:49<27:04:01,  3.13s/it]\u001b[A\n",
      "  1%|          | 212/31348 [10:52<26:32:28,  3.07s/it]\u001b[A\n",
      "  1%|          | 213/31348 [10:55<26:32:57,  3.07s/it]\u001b[A\n",
      "  1%|          | 214/31348 [10:58<26:17:33,  3.04s/it]\u001b[A\n",
      "  1%|          | 215/31348 [11:01<26:22:30,  3.05s/it]\u001b[A\n",
      "  1%|          | 216/31348 [11:04<26:41:53,  3.09s/it]\u001b[A\n",
      "  1%|          | 217/31348 [11:07<26:26:41,  3.06s/it]\u001b[A\n",
      "  1%|          | 218/31348 [11:10<26:09:37,  3.03s/it]\u001b[A\n",
      "  1%|          | 219/31348 [11:13<26:16:28,  3.04s/it]\u001b[A\n",
      "  1%|          | 220/31348 [11:16<26:21:33,  3.05s/it]\u001b[A\n",
      "  1%|          | 221/31348 [11:19<26:25:52,  3.06s/it]\u001b[A\n",
      "  1%|          | 222/31348 [11:22<26:28:27,  3.06s/it]\u001b[A\n",
      "  1%|          | 223/31348 [11:25<26:28:07,  3.06s/it]\u001b[A\n",
      "  1%|          | 224/31348 [11:28<26:10:12,  3.03s/it]\u001b[A\n",
      "  1%|          | 225/31348 [11:31<26:32:22,  3.07s/it]\u001b[A\n",
      "  1%|          | 226/31348 [11:34<26:17:19,  3.04s/it]\u001b[A\n",
      "  1%|          | 227/31348 [11:37<26:18:39,  3.04s/it]\u001b[A\n",
      "  1%|          | 228/31348 [11:40<26:24:03,  3.05s/it]\u001b[A\n",
      "  1%|          | 229/31348 [11:43<26:18:19,  3.04s/it]\u001b[A\n",
      "  1%|          | 230/31348 [11:46<26:06:48,  3.02s/it]\u001b[A\n",
      "  1%|          | 231/31348 [11:49<26:30:13,  3.07s/it]\u001b[A\n",
      "  1%|          | 232/31348 [11:53<26:42:28,  3.09s/it]\u001b[A\n",
      "  1%|          | 233/31348 [11:56<26:42:08,  3.09s/it]\u001b[A\n",
      "  1%|          | 234/31348 [11:59<26:40:19,  3.09s/it]\u001b[A\n",
      "  1%|          | 235/31348 [12:02<26:39:12,  3.08s/it]\u001b[A\n",
      "  1%|          | 236/31348 [12:05<26:27:16,  3.06s/it]\u001b[A\n",
      "  1%|          | 237/31348 [12:08<26:14:07,  3.04s/it]\u001b[A\n",
      "  1%|          | 238/31348 [12:11<25:52:42,  2.99s/it]\u001b[A\n",
      "  1%|          | 239/31348 [12:14<25:33:00,  2.96s/it]\u001b[A\n",
      "  1%|          | 240/31348 [12:17<25:24:55,  2.94s/it]\u001b[A\n",
      "  1%|          | 241/31348 [12:19<25:23:48,  2.94s/it]\u001b[A\n",
      "  1%|          | 242/31348 [12:22<25:16:38,  2.93s/it]\u001b[A\n",
      "  1%|          | 243/31348 [12:25<25:11:15,  2.92s/it]\u001b[A\n",
      "  1%|          | 244/31348 [12:28<25:30:08,  2.95s/it]\u001b[A\n",
      "  1%|          | 245/31348 [12:31<25:21:28,  2.94s/it]\u001b[A\n",
      "  1%|          | 246/31348 [12:34<25:33:22,  2.96s/it]\u001b[A\n",
      "  1%|          | 247/31348 [12:37<25:41:16,  2.97s/it]\u001b[A\n",
      "  1%|          | 248/31348 [12:40<25:29:47,  2.95s/it]\u001b[A\n",
      "  1%|          | 249/31348 [12:43<25:43:35,  2.98s/it]\u001b[A\n",
      "  1%|          | 250/31348 [12:46<25:41:55,  2.97s/it]\u001b[A\n",
      "  1%|          | 251/31348 [12:49<25:42:34,  2.98s/it]\u001b[A\n",
      "  1%|          | 252/31348 [12:52<25:44:38,  2.98s/it]\u001b[A\n",
      "  1%|          | 253/31348 [12:55<26:10:15,  3.03s/it]\u001b[A\n",
      "  1%|          | 254/31348 [12:58<26:29:55,  3.07s/it]\u001b[A\n",
      "  1%|          | 255/31348 [13:01<26:33:30,  3.07s/it]\u001b[A\n",
      "  1%|          | 256/31348 [13:04<26:22:27,  3.05s/it]\u001b[A\n",
      "  1%|          | 257/31348 [13:08<26:19:49,  3.05s/it]\u001b[A\n",
      "  1%|          | 258/31348 [13:10<26:03:24,  3.02s/it]\u001b[A\n",
      "  1%|          | 259/31348 [13:13<25:50:02,  2.99s/it]\u001b[A\n",
      "  1%|          | 260/31348 [13:16<25:37:27,  2.97s/it]\u001b[A\n",
      "  1%|          | 261/31348 [13:19<26:04:40,  3.02s/it]\u001b[A\n",
      "  1%|          | 262/31348 [13:23<26:16:10,  3.04s/it]\u001b[A\n",
      "  1%|          | 263/31348 [13:26<26:10:26,  3.03s/it]\u001b[A\n",
      "  1%|          | 264/31348 [13:29<26:03:57,  3.02s/it]\u001b[A\n",
      "  1%|          | 265/31348 [13:31<25:51:49,  3.00s/it]\u001b[A\n",
      "  1%|          | 266/31348 [13:34<25:47:39,  2.99s/it]\u001b[A\n",
      "  1%|          | 267/31348 [13:37<25:50:30,  2.99s/it]\u001b[A\n",
      "  1%|          | 268/31348 [13:40<25:57:20,  3.01s/it]\u001b[A\n",
      "  1%|          | 269/31348 [13:44<26:15:13,  3.04s/it]\u001b[A\n",
      "  1%|          | 270/31348 [13:46<25:49:03,  2.99s/it]\u001b[A\n",
      "  1%|          | 271/31348 [13:50<25:57:50,  3.01s/it]\u001b[A\n",
      "  1%|          | 272/31348 [13:53<26:14:26,  3.04s/it]\u001b[A\n",
      "  1%|          | 273/31348 [13:56<26:11:31,  3.03s/it]\u001b[A\n",
      "  1%|          | 274/31348 [13:59<26:05:05,  3.02s/it]\u001b[A\n",
      "  1%|          | 275/31348 [14:02<25:57:06,  3.01s/it]\u001b[A\n",
      "  1%|          | 276/31348 [14:05<25:39:14,  2.97s/it]\u001b[A\n",
      "  1%|          | 277/31348 [14:07<25:29:37,  2.95s/it]\u001b[A\n",
      "  1%|          | 278/31348 [14:10<25:44:01,  2.98s/it]\u001b[A\n",
      "  1%|          | 279/31348 [14:14<25:52:26,  3.00s/it]\u001b[A\n",
      "  1%|          | 280/31348 [14:16<25:45:16,  2.98s/it]\u001b[A\n",
      "  1%|          | 281/31348 [14:20<26:08:23,  3.03s/it]\u001b[A\n",
      "  1%|          | 282/31348 [14:23<26:18:49,  3.05s/it]\u001b[A\n",
      "  1%|          | 283/31348 [14:26<26:24:31,  3.06s/it]\u001b[A\n",
      "  1%|          | 284/31348 [14:29<26:32:45,  3.08s/it]\u001b[A\n"
     ]
    },
    {
     "name": "stderr",
     "output_type": "stream",
     "text": [
      "  1%|          | 285/31348 [14:32<26:00:42,  3.01s/it]\u001b[A\n",
      "  1%|          | 286/31348 [14:35<25:56:58,  3.01s/it]\u001b[A\n",
      "  1%|          | 287/31348 [14:38<26:00:43,  3.01s/it]\u001b[A\n",
      "  1%|          | 288/31348 [14:41<25:45:21,  2.99s/it]\u001b[A\n",
      "  1%|          | 289/31348 [14:44<26:28:56,  3.07s/it]\u001b[A\n",
      "  1%|          | 290/31348 [14:47<26:45:24,  3.10s/it]\u001b[A\n",
      "  1%|          | 291/31348 [14:50<26:49:21,  3.11s/it]\u001b[A\n",
      "  1%|          | 292/31348 [14:53<26:33:33,  3.08s/it]\u001b[A\n",
      "  1%|          | 293/31348 [14:56<26:21:15,  3.06s/it]\u001b[A\n",
      "  1%|          | 294/31348 [14:59<26:20:47,  3.05s/it]\u001b[A\n",
      "  1%|          | 295/31348 [15:02<26:32:03,  3.08s/it]\u001b[A\n",
      "  1%|          | 296/31348 [15:06<26:27:57,  3.07s/it]\u001b[A\n",
      "  1%|          | 297/31348 [15:08<26:01:57,  3.02s/it]\u001b[A\n",
      "  1%|          | 298/31348 [15:11<25:43:45,  2.98s/it]\u001b[A\n",
      "  1%|          | 299/31348 [15:14<25:27:33,  2.95s/it]\u001b[A\n",
      "  1%|          | 300/31348 [15:17<26:00:43,  3.02s/it]\u001b[A\n",
      "  1%|          | 301/31348 [15:21<26:26:06,  3.07s/it]\u001b[A\n",
      "  1%|          | 302/31348 [15:24<26:40:37,  3.09s/it]\u001b[A\n",
      "  1%|          | 303/31348 [15:27<26:38:53,  3.09s/it]\u001b[A\n",
      "  1%|          | 304/31348 [15:30<26:16:39,  3.05s/it]\u001b[A\n",
      "  1%|          | 305/31348 [15:33<26:05:21,  3.03s/it]\u001b[A\n",
      "  1%|          | 306/31348 [15:36<26:02:32,  3.02s/it]\u001b[A\n",
      "  1%|          | 307/31348 [15:39<26:04:18,  3.02s/it]\u001b[A\n",
      "  1%|          | 308/31348 [15:42<25:44:42,  2.99s/it]\u001b[A\n",
      "  1%|          | 309/31348 [15:45<25:56:10,  3.01s/it]\u001b[A\n",
      "  1%|          | 310/31348 [15:48<26:06:13,  3.03s/it]\u001b[A\n",
      "  1%|          | 311/31348 [15:51<26:01:59,  3.02s/it]\u001b[A\n",
      "  1%|          | 312/31348 [15:54<26:20:55,  3.06s/it]\u001b[A\n",
      "  1%|          | 313/31348 [15:57<26:44:07,  3.10s/it]\u001b[A\n",
      "  1%|          | 314/31348 [16:00<26:37:40,  3.09s/it]\u001b[A\n",
      "  1%|          | 315/31348 [16:03<27:03:35,  3.14s/it]\u001b[A\n",
      "  1%|          | 316/31348 [16:07<26:52:59,  3.12s/it]\u001b[A\n",
      "  1%|          | 317/31348 [16:10<27:28:00,  3.19s/it]\u001b[A\n",
      "  1%|          | 318/31348 [16:13<27:10:54,  3.15s/it]\u001b[A\n",
      "  1%|          | 319/31348 [16:16<27:17:10,  3.17s/it]\u001b[A\n",
      "  1%|          | 320/31348 [16:19<27:20:11,  3.17s/it]\u001b[A\n",
      "  1%|          | 321/31348 [16:23<27:28:01,  3.19s/it]\u001b[A\n",
      "  1%|          | 322/31348 [16:26<27:23:37,  3.18s/it]\u001b[A\n",
      "  1%|          | 323/31348 [16:29<27:04:57,  3.14s/it]\u001b[A\n",
      "  1%|          | 324/31348 [16:32<26:50:57,  3.12s/it]\u001b[A\n",
      "  1%|          | 325/31348 [16:35<26:44:11,  3.10s/it]\u001b[A\n",
      "  1%|          | 326/31348 [16:38<26:34:33,  3.08s/it]\u001b[A\n",
      "  1%|          | 327/31348 [16:41<26:15:48,  3.05s/it]\u001b[A\n",
      "  1%|          | 328/31348 [16:44<26:13:27,  3.04s/it]\u001b[A\n",
      "  1%|          | 329/31348 [16:47<26:51:31,  3.12s/it]\u001b[A\n",
      "  1%|          | 330/31348 [16:50<26:58:34,  3.13s/it]\u001b[A\n",
      "  1%|          | 331/31348 [16:53<26:45:36,  3.11s/it]\u001b[A\n",
      "  1%|          | 332/31348 [16:56<26:38:43,  3.09s/it]\u001b[A\n",
      "  1%|          | 333/31348 [17:00<26:36:36,  3.09s/it]\u001b[A\n",
      "  1%|          | 334/31348 [17:03<26:18:30,  3.05s/it]\u001b[A\n",
      "  1%|          | 335/31348 [17:06<26:16:10,  3.05s/it]\u001b[A\n",
      "  1%|          | 336/31348 [17:09<26:27:56,  3.07s/it]\u001b[A\n",
      "  1%|          | 337/31348 [17:12<26:36:08,  3.09s/it]\u001b[A\n",
      "  1%|          | 338/31348 [17:15<26:21:44,  3.06s/it]\u001b[A\n",
      "  1%|          | 339/31348 [17:18<26:09:28,  3.04s/it]\u001b[A\n",
      "  1%|          | 340/31348 [17:21<26:19:17,  3.06s/it]\u001b[A\n",
      "  1%|          | 341/31348 [17:24<26:15:29,  3.05s/it]\u001b[A\n",
      "  1%|          | 342/31348 [17:27<26:21:40,  3.06s/it]\u001b[A\n",
      "  1%|          | 343/31348 [17:30<26:19:20,  3.06s/it]\u001b[A\n",
      "  1%|          | 344/31348 [17:33<26:23:19,  3.06s/it]\u001b[A\n",
      "  1%|          | 345/31348 [17:36<25:59:22,  3.02s/it]\u001b[A\n",
      "  1%|          | 346/31348 [17:39<26:01:13,  3.02s/it]\u001b[A\n",
      "  1%|          | 347/31348 [17:42<25:53:01,  3.01s/it]\u001b[A\n",
      "  1%|          | 348/31348 [17:45<25:47:11,  2.99s/it]\u001b[A\n",
      "  1%|          | 349/31348 [17:48<25:54:36,  3.01s/it]\u001b[A\n",
      "  1%|          | 350/31348 [17:51<25:47:50,  3.00s/it]\u001b[A\n",
      "  1%|          | 351/31348 [17:54<25:49:01,  3.00s/it]\u001b[A\n",
      "  1%|          | 352/31348 [17:57<26:00:24,  3.02s/it]\u001b[A\n",
      "  1%|          | 353/31348 [18:00<26:22:02,  3.06s/it]\u001b[A\n",
      "  1%|          | 354/31348 [18:03<26:25:44,  3.07s/it]\u001b[A\n",
      "  1%|          | 355/31348 [18:06<26:25:32,  3.07s/it]\u001b[A\n",
      "  1%|          | 356/31348 [18:10<26:26:06,  3.07s/it]\u001b[A\n",
      "  1%|          | 357/31348 [18:13<26:42:15,  3.10s/it]\u001b[A\n",
      "  1%|          | 358/31348 [18:16<26:24:50,  3.07s/it]\u001b[A\n",
      "  1%|          | 359/31348 [18:19<26:19:34,  3.06s/it]\u001b[A\n",
      "  1%|          | 360/31348 [18:22<26:08:30,  3.04s/it]\u001b[A\n",
      "  1%|          | 361/31348 [18:25<26:12:11,  3.04s/it]\u001b[A\n",
      "  1%|          | 362/31348 [18:28<26:39:13,  3.10s/it]\u001b[A\n",
      "  1%|          | 363/31348 [18:31<26:34:09,  3.09s/it]\u001b[A\n",
      "  1%|          | 364/31348 [18:34<26:11:54,  3.04s/it]\u001b[A\n",
      "  1%|          | 365/31348 [18:37<25:55:09,  3.01s/it]\u001b[A\n",
      "  1%|          | 366/31348 [18:40<25:53:56,  3.01s/it]\u001b[A\n",
      "  1%|          | 367/31348 [18:43<26:03:19,  3.03s/it]\u001b[A\n",
      "  1%|          | 368/31348 [18:46<26:02:41,  3.03s/it]\u001b[A\n",
      "  1%|          | 369/31348 [18:49<26:02:30,  3.03s/it]\u001b[A\n",
      "  1%|          | 370/31348 [18:52<26:17:14,  3.05s/it]\u001b[A\n",
      "  1%|          | 371/31348 [18:55<26:37:38,  3.09s/it]\u001b[A\n",
      "  1%|          | 372/31348 [18:58<26:37:04,  3.09s/it]\u001b[A\n",
      "  1%|          | 373/31348 [19:01<26:12:12,  3.05s/it]\u001b[A\n",
      "  1%|          | 374/31348 [19:04<26:03:29,  3.03s/it]\u001b[A\n",
      "  1%|          | 375/31348 [19:07<25:42:50,  2.99s/it]\u001b[A\n",
      "  1%|          | 376/31348 [19:10<25:48:58,  3.00s/it]\u001b[A\n",
      "  1%|          | 377/31348 [19:13<25:50:43,  3.00s/it]\u001b[A\n",
      "  1%|          | 378/31348 [19:16<26:01:39,  3.03s/it]\u001b[A\n",
      "  1%|          | 379/31348 [19:19<26:08:41,  3.04s/it]\u001b[A\n",
      "  1%|          | 380/31348 [19:23<26:13:41,  3.05s/it]\u001b[A\n",
      "  1%|          | 381/31348 [19:26<26:15:44,  3.05s/it]\u001b[A\n",
      "  1%|          | 382/31348 [19:29<26:15:28,  3.05s/it]\u001b[A\n",
      "  1%|          | 383/31348 [19:32<25:53:09,  3.01s/it]\u001b[A\n",
      "  1%|          | 384/31348 [19:35<25:44:53,  2.99s/it]\u001b[A\n",
      "  1%|          | 385/31348 [19:38<25:56:55,  3.02s/it]\u001b[A\n",
      "  1%|          | 386/31348 [19:41<26:07:41,  3.04s/it]\u001b[A\n",
      "  1%|          | 387/31348 [19:44<25:52:29,  3.01s/it]\u001b[A\n",
      "  1%|          | 388/31348 [19:47<26:04:35,  3.03s/it]\u001b[A\n",
      "  1%|          | 389/31348 [19:50<26:27:39,  3.08s/it]\u001b[A\n",
      "  1%|          | 390/31348 [19:53<25:56:58,  3.02s/it]\u001b[A\n",
      "  1%|          | 391/31348 [19:56<25:40:46,  2.99s/it]\u001b[A\n",
      "  1%|▏         | 392/31348 [19:59<25:27:36,  2.96s/it]\u001b[A\n",
      "  1%|▏         | 393/31348 [20:02<25:29:20,  2.96s/it]\u001b[A\n",
      "  1%|▏         | 394/31348 [20:05<26:01:43,  3.03s/it]\u001b[A\n",
      "  1%|▏         | 395/31348 [20:08<26:24:33,  3.07s/it]\u001b[A\n",
      "  1%|▏         | 396/31348 [20:11<26:40:54,  3.10s/it]\u001b[A\n",
      "  1%|▏         | 397/31348 [20:14<26:26:29,  3.08s/it]\u001b[A\n",
      "  1%|▏         | 398/31348 [20:17<26:22:46,  3.07s/it]\u001b[A\n",
      "  1%|▏         | 399/31348 [20:20<26:38:04,  3.10s/it]\u001b[A\n",
      "  1%|▏         | 400/31348 [20:23<26:06:50,  3.04s/it]\u001b[A\n",
      "  1%|▏         | 401/31348 [20:26<25:45:50,  3.00s/it]\u001b[A\n",
      "  1%|▏         | 402/31348 [20:29<26:01:44,  3.03s/it]\u001b[A\n",
      "  1%|▏         | 403/31348 [20:32<25:46:53,  3.00s/it]\u001b[A\n",
      "  1%|▏         | 404/31348 [20:35<25:47:21,  3.00s/it]\u001b[A\n",
      "  1%|▏         | 405/31348 [20:38<25:36:37,  2.98s/it]\u001b[A\n",
      "  1%|▏         | 406/31348 [20:41<25:59:44,  3.02s/it]\u001b[A\n",
      "  1%|▏         | 407/31348 [20:44<26:17:45,  3.06s/it]\u001b[A\n",
      "  1%|▏         | 408/31348 [20:47<26:21:22,  3.07s/it]\u001b[A\n",
      "  1%|▏         | 409/31348 [20:50<26:22:44,  3.07s/it]\u001b[A\n",
      "  1%|▏         | 410/31348 [20:53<26:00:18,  3.03s/it]\u001b[A\n",
      "  1%|▏         | 411/31348 [20:56<25:39:15,  2.99s/it]\u001b[A\n",
      "  1%|▏         | 412/31348 [20:59<25:55:45,  3.02s/it]\u001b[A\n",
      "  1%|▏         | 413/31348 [21:02<25:47:19,  3.00s/it]\u001b[A\n",
      "  1%|▏         | 414/31348 [21:05<25:58:58,  3.02s/it]\u001b[A\n",
      "  1%|▏         | 415/31348 [21:09<26:08:01,  3.04s/it]\u001b[A\n",
      "  1%|▏         | 416/31348 [21:12<26:11:05,  3.05s/it]\u001b[A\n",
      "  1%|▏         | 417/31348 [21:15<26:13:27,  3.05s/it]\u001b[A\n",
      "  1%|▏         | 418/31348 [21:18<26:19:31,  3.06s/it]\u001b[A\n",
      "  1%|▏         | 419/31348 [21:21<26:03:12,  3.03s/it]\u001b[A\n",
      "  1%|▏         | 420/31348 [21:24<25:59:42,  3.03s/it]\u001b[A\n",
      "  1%|▏         | 421/31348 [21:27<26:16:19,  3.06s/it]\u001b[A\n",
      "  1%|▏         | 422/31348 [21:30<26:07:10,  3.04s/it]\u001b[A\n",
      "  1%|▏         | 423/31348 [21:33<26:12:09,  3.05s/it]\u001b[A\n",
      "  1%|▏         | 424/31348 [21:36<26:26:44,  3.08s/it]\u001b[A\n",
      "  1%|▏         | 425/31348 [21:39<26:09:33,  3.05s/it]\u001b[A\n"
     ]
    },
    {
     "name": "stderr",
     "output_type": "stream",
     "text": [
      "  1%|▏         | 426/31348 [21:42<26:14:31,  3.06s/it]\u001b[A\n",
      "  1%|▏         | 427/31348 [21:45<25:48:49,  3.01s/it]\u001b[A\n",
      "  1%|▏         | 428/31348 [21:48<26:26:37,  3.08s/it]\u001b[A\n",
      "  1%|▏         | 429/31348 [21:51<26:41:22,  3.11s/it]\u001b[A\n",
      "  1%|▏         | 430/31348 [21:54<26:37:35,  3.10s/it]\u001b[A\n",
      "  1%|▏         | 431/31348 [21:57<26:13:52,  3.05s/it]\u001b[A\n",
      "  1%|▏         | 432/31348 [22:00<25:58:27,  3.02s/it]\u001b[A\n",
      "  1%|▏         | 433/31348 [22:03<26:04:45,  3.04s/it]\u001b[A\n",
      "  1%|▏         | 434/31348 [22:06<25:59:28,  3.03s/it]\u001b[A\n",
      "  1%|▏         | 435/31348 [22:09<25:50:25,  3.01s/it]\u001b[A\n",
      "  1%|▏         | 436/31348 [22:14<30:49:24,  3.59s/it]\u001b[A\n",
      "  1%|▏         | 437/31348 [22:17<29:25:08,  3.43s/it]\u001b[A\n",
      "  1%|▏         | 438/31348 [22:21<28:33:51,  3.33s/it]\u001b[A\n",
      "  1%|▏         | 439/31348 [22:23<27:34:35,  3.21s/it]\u001b[A\n",
      "  1%|▏         | 440/31348 [22:26<26:57:16,  3.14s/it]\u001b[A\n",
      "  1%|▏         | 441/31348 [22:30<27:02:31,  3.15s/it]\u001b[A\n",
      "  1%|▏         | 442/31348 [22:33<26:50:46,  3.13s/it]\u001b[A\n",
      "  1%|▏         | 443/31348 [22:36<26:58:07,  3.14s/it]\u001b[A\n",
      "  1%|▏         | 444/31348 [22:39<27:03:10,  3.15s/it]\u001b[A\n",
      "  1%|▏         | 445/31348 [22:42<26:35:02,  3.10s/it]\u001b[A\n",
      "  1%|▏         | 446/31348 [22:45<26:23:37,  3.07s/it]\u001b[A\n",
      "  1%|▏         | 447/31348 [22:48<26:30:40,  3.09s/it]\u001b[A\n",
      "  1%|▏         | 448/31348 [22:51<26:29:19,  3.09s/it]\u001b[A\n",
      "  1%|▏         | 449/31348 [22:54<26:21:58,  3.07s/it]\u001b[A\n",
      "  1%|▏         | 450/31348 [22:57<26:25:59,  3.08s/it]\u001b[A\n",
      "  1%|▏         | 451/31348 [23:01<26:55:47,  3.14s/it]\u001b[A\n",
      "  1%|▏         | 452/31348 [23:04<26:29:45,  3.09s/it]\u001b[A\n",
      "  1%|▏         | 453/31348 [23:07<26:15:27,  3.06s/it]\u001b[A\n",
      "  1%|▏         | 454/31348 [23:10<26:17:45,  3.06s/it]\u001b[A\n",
      "  1%|▏         | 455/31348 [23:13<26:06:49,  3.04s/it]\u001b[A\n",
      "  1%|▏         | 456/31348 [23:16<26:03:28,  3.04s/it]\u001b[A\n",
      "  1%|▏         | 457/31348 [23:19<26:06:23,  3.04s/it]\u001b[A\n",
      "  1%|▏         | 458/31348 [23:22<26:27:58,  3.08s/it]\u001b[A\n",
      "  1%|▏         | 459/31348 [23:25<26:27:17,  3.08s/it]\u001b[A\n",
      "  1%|▏         | 460/31348 [23:28<26:29:37,  3.09s/it]\u001b[A\n",
      "  1%|▏         | 461/31348 [23:31<26:10:01,  3.05s/it]\u001b[A\n",
      "  1%|▏         | 462/31348 [23:34<26:17:09,  3.06s/it]\u001b[A\n",
      "  1%|▏         | 463/31348 [23:37<26:07:19,  3.04s/it]\u001b[A\n",
      "  1%|▏         | 464/31348 [23:40<26:31:16,  3.09s/it]\u001b[A\n",
      "  1%|▏         | 465/31348 [23:44<26:42:18,  3.11s/it]\u001b[A\n",
      "  1%|▏         | 466/31348 [23:47<26:38:22,  3.11s/it]\u001b[A\n",
      "  1%|▏         | 467/31348 [23:50<26:16:59,  3.06s/it]\u001b[A\n",
      "  1%|▏         | 468/31348 [23:53<26:04:01,  3.04s/it]\u001b[A\n",
      "  1%|▏         | 469/31348 [23:56<26:18:52,  3.07s/it]\u001b[A\n",
      "  1%|▏         | 470/31348 [23:59<26:32:23,  3.09s/it]\u001b[A\n",
      "  2%|▏         | 471/31348 [24:02<26:04:27,  3.04s/it]\u001b[A\n",
      "  2%|▏         | 472/31348 [24:05<25:53:33,  3.02s/it]\u001b[A\n",
      "  2%|▏         | 473/31348 [24:08<26:35:07,  3.10s/it]\u001b[A\n",
      "  2%|▏         | 474/31348 [24:11<26:32:16,  3.09s/it]\u001b[A\n",
      "  2%|▏         | 475/31348 [24:14<26:25:42,  3.08s/it]\u001b[A\n",
      "  2%|▏         | 476/31348 [24:17<26:24:04,  3.08s/it]\u001b[A\n",
      "  2%|▏         | 477/31348 [24:20<26:31:41,  3.09s/it]\u001b[A\n",
      "  2%|▏         | 478/31348 [24:23<26:01:14,  3.03s/it]\u001b[A\n",
      "  2%|▏         | 479/31348 [24:26<25:53:25,  3.02s/it]\u001b[A\n",
      "  2%|▏         | 480/31348 [24:29<25:55:51,  3.02s/it]\u001b[A\n",
      "  2%|▏         | 481/31348 [24:32<26:24:36,  3.08s/it]\u001b[A\n",
      "  2%|▏         | 482/31348 [24:36<26:39:24,  3.11s/it]\u001b[A\n",
      "  2%|▏         | 483/31348 [24:39<26:49:07,  3.13s/it]\u001b[A\n",
      "  2%|▏         | 484/31348 [24:42<26:53:37,  3.14s/it]\u001b[A\n",
      "  2%|▏         | 485/31348 [24:45<26:46:20,  3.12s/it]\u001b[A\n",
      "  2%|▏         | 486/31348 [24:48<26:38:42,  3.11s/it]\u001b[A\n",
      "  2%|▏         | 487/31348 [24:51<26:32:47,  3.10s/it]\u001b[A\n",
      "  2%|▏         | 488/31348 [24:54<26:11:58,  3.06s/it]\u001b[A\n",
      "  2%|▏         | 489/31348 [24:57<25:51:51,  3.02s/it]\u001b[A\n",
      "  2%|▏         | 490/31348 [25:00<25:55:38,  3.02s/it]\u001b[A\n",
      "  2%|▏         | 491/31348 [25:03<25:57:05,  3.03s/it]\u001b[A\n",
      "  2%|▏         | 492/31348 [25:06<26:19:43,  3.07s/it]\u001b[A\n",
      "  2%|▏         | 493/31348 [25:09<26:26:08,  3.08s/it]\u001b[A\n",
      "  2%|▏         | 494/31348 [25:13<26:35:53,  3.10s/it]\u001b[A\n",
      "  2%|▏         | 495/31348 [25:16<26:18:52,  3.07s/it]\u001b[A\n",
      "  2%|▏         | 496/31348 [25:19<26:15:53,  3.06s/it]\u001b[A\n",
      "  2%|▏         | 497/31348 [25:22<26:00:28,  3.03s/it]\u001b[A\n",
      "  2%|▏         | 498/31348 [25:25<26:12:46,  3.06s/it]\u001b[A\n",
      "  2%|▏         | 499/31348 [25:28<26:40:21,  3.11s/it]\u001b[A\n",
      "  2%|▏         | 500/31348 [25:31<26:28:55,  3.09s/it]\u001b[A\n",
      "  2%|▏         | 501/31348 [25:34<26:35:17,  3.10s/it]\u001b[A\n",
      "  2%|▏         | 502/31348 [25:37<26:32:07,  3.10s/it]\u001b[A\n",
      "  2%|▏         | 503/31348 [25:40<26:39:23,  3.11s/it]\u001b[A\n",
      "  2%|▏         | 504/31348 [25:44<26:45:28,  3.12s/it]\u001b[A\n",
      "  2%|▏         | 505/31348 [25:47<26:39:49,  3.11s/it]\u001b[A\n",
      "  2%|▏         | 506/31348 [25:50<27:05:16,  3.16s/it]\u001b[A\n",
      "  2%|▏         | 507/31348 [25:53<27:00:42,  3.15s/it]\u001b[A\n",
      "  2%|▏         | 508/31348 [25:56<26:36:14,  3.11s/it]\u001b[A\n",
      "  2%|▏         | 509/31348 [25:59<26:33:23,  3.10s/it]\u001b[A\n",
      "  2%|▏         | 510/31348 [26:02<26:16:40,  3.07s/it]\u001b[A\n",
      "  2%|▏         | 511/31348 [26:05<26:51:16,  3.14s/it]\u001b[A\n",
      "  2%|▏         | 512/31348 [26:09<28:03:29,  3.28s/it]\u001b[A\n",
      "  2%|▏         | 513/31348 [26:13<28:57:47,  3.38s/it]\u001b[A\n",
      "  2%|▏         | 514/31348 [26:16<28:14:10,  3.30s/it]\u001b[A\n",
      "  2%|▏         | 515/31348 [26:19<27:51:48,  3.25s/it]\u001b[A\n",
      "  2%|▏         | 516/31348 [26:22<27:49:10,  3.25s/it]\u001b[A\n",
      "  2%|▏         | 517/31348 [26:25<27:30:35,  3.21s/it]\u001b[A\n",
      "  2%|▏         | 518/31348 [26:28<27:21:36,  3.19s/it]\u001b[A\n",
      "  2%|▏         | 519/31348 [26:31<27:02:51,  3.16s/it]\u001b[A\n",
      "  2%|▏         | 520/31348 [26:34<26:32:18,  3.10s/it]\u001b[A\n",
      "  2%|▏         | 521/31348 [26:37<26:19:21,  3.07s/it]\u001b[A\n",
      "  2%|▏         | 522/31348 [26:41<26:28:47,  3.09s/it]\u001b[A\n",
      "  2%|▏         | 523/31348 [26:44<26:57:10,  3.15s/it]\u001b[A\n",
      "  2%|▏         | 524/31348 [26:47<27:17:18,  3.19s/it]\u001b[A\n",
      "  2%|▏         | 525/31348 [26:50<27:19:44,  3.19s/it]\u001b[A\n",
      "  2%|▏         | 526/31348 [26:53<27:05:29,  3.16s/it]\u001b[A\n",
      "  2%|▏         | 527/31348 [26:57<26:58:47,  3.15s/it]\u001b[A\n",
      "  2%|▏         | 528/31348 [27:00<27:01:33,  3.16s/it]\u001b[A\n",
      "  2%|▏         | 529/31348 [27:03<26:48:29,  3.13s/it]\u001b[A\n",
      "  2%|▏         | 530/31348 [27:06<26:38:11,  3.11s/it]\u001b[A\n",
      "  2%|▏         | 531/31348 [27:09<26:17:10,  3.07s/it]\u001b[A\n",
      "  2%|▏         | 532/31348 [27:12<26:01:53,  3.04s/it]\u001b[A\n",
      "  2%|▏         | 533/31348 [27:15<26:22:22,  3.08s/it]\u001b[A\n",
      "  2%|▏         | 534/31348 [27:18<26:38:37,  3.11s/it]\u001b[A\n",
      "  2%|▏         | 535/31348 [27:21<26:45:52,  3.13s/it]\u001b[A\n",
      "  2%|▏         | 536/31348 [27:24<26:37:14,  3.11s/it]\u001b[A\n",
      "  2%|▏         | 537/31348 [27:27<26:15:35,  3.07s/it]\u001b[A\n",
      "  2%|▏         | 538/31348 [27:30<26:17:49,  3.07s/it]\u001b[A\n",
      "  2%|▏         | 539/31348 [27:34<26:16:25,  3.07s/it]\u001b[A\n",
      "  2%|▏         | 540/31348 [27:37<26:16:16,  3.07s/it]\u001b[A\n",
      "  2%|▏         | 541/31348 [27:40<26:00:49,  3.04s/it]\u001b[A\n",
      "  2%|▏         | 542/31348 [27:43<26:01:16,  3.04s/it]\u001b[A\n",
      "  2%|▏         | 543/31348 [27:46<25:38:32,  3.00s/it]\u001b[A\n",
      "  2%|▏         | 544/31348 [27:48<25:36:28,  2.99s/it]\u001b[A\n",
      "  2%|▏         | 545/31348 [27:52<26:02:51,  3.04s/it]\u001b[A\n",
      "  2%|▏         | 546/31348 [27:55<26:12:08,  3.06s/it]\u001b[A\n",
      "  2%|▏         | 547/31348 [27:58<26:12:15,  3.06s/it]\u001b[A\n",
      "  2%|▏         | 548/31348 [28:01<25:51:08,  3.02s/it]\u001b[A\n",
      "  2%|▏         | 549/31348 [28:04<26:00:41,  3.04s/it]\u001b[A\n",
      "  2%|▏         | 550/31348 [28:07<27:27:33,  3.21s/it]\u001b[A\n",
      "  2%|▏         | 551/31348 [28:11<28:22:28,  3.32s/it]\u001b[A\n",
      "  2%|▏         | 552/31348 [28:14<28:05:59,  3.28s/it]\u001b[A\n",
      "  2%|▏         | 553/31348 [28:17<27:46:53,  3.25s/it]\u001b[A\n",
      "  2%|▏         | 554/31348 [28:20<27:17:44,  3.19s/it]\u001b[A\n",
      "  2%|▏         | 555/31348 [28:24<27:14:31,  3.18s/it]\u001b[A\n",
      "  2%|▏         | 556/31348 [28:27<27:12:44,  3.18s/it]\u001b[A\n",
      "  2%|▏         | 557/31348 [28:30<27:21:26,  3.20s/it]\u001b[A\n",
      "  2%|▏         | 558/31348 [28:33<27:04:04,  3.16s/it]\u001b[A\n",
      "  2%|▏         | 559/31348 [28:36<27:08:53,  3.17s/it]\u001b[A\n",
      "  2%|▏         | 560/31348 [28:40<28:20:57,  3.31s/it]\u001b[A\n",
      "  2%|▏         | 561/31348 [28:43<27:18:30,  3.19s/it]\u001b[A\n",
      "  2%|▏         | 562/31348 [28:46<26:59:07,  3.16s/it]\u001b[A\n",
      "  2%|▏         | 563/31348 [28:49<26:29:12,  3.10s/it]\u001b[A\n",
      "  2%|▏         | 564/31348 [28:52<26:51:23,  3.14s/it]\u001b[A\n",
      "  2%|▏         | 565/31348 [28:55<26:54:46,  3.15s/it]\u001b[A\n",
      "  2%|▏         | 566/31348 [28:59<27:08:37,  3.17s/it]\u001b[A\n"
     ]
    },
    {
     "name": "stderr",
     "output_type": "stream",
     "text": [
      "  2%|▏         | 567/31348 [29:02<27:08:35,  3.17s/it]\u001b[A\n",
      "  2%|▏         | 568/31348 [29:05<26:53:35,  3.15s/it]\u001b[A\n",
      "  2%|▏         | 569/31348 [29:08<26:27:25,  3.09s/it]\u001b[A\n",
      "  2%|▏         | 570/31348 [29:11<26:08:58,  3.06s/it]\u001b[A\n",
      "  2%|▏         | 571/31348 [29:14<26:08:16,  3.06s/it]\u001b[A\n",
      "  2%|▏         | 572/31348 [29:17<25:55:32,  3.03s/it]\u001b[A\n",
      "  2%|▏         | 573/31348 [29:20<25:57:49,  3.04s/it]\u001b[A\n",
      "  2%|▏         | 574/31348 [29:23<26:11:29,  3.06s/it]\u001b[A\n",
      "  2%|▏         | 575/31348 [29:26<26:08:11,  3.06s/it]\u001b[A\n",
      "  2%|▏         | 576/31348 [29:29<26:09:24,  3.06s/it]\u001b[A\n",
      "  2%|▏         | 577/31348 [29:32<25:48:22,  3.02s/it]\u001b[A\n",
      "  2%|▏         | 578/31348 [29:35<26:03:29,  3.05s/it]\u001b[A\n",
      "  2%|▏         | 579/31348 [29:38<25:51:19,  3.03s/it]\u001b[A\n",
      "  2%|▏         | 580/31348 [29:41<25:53:37,  3.03s/it]\u001b[A\n",
      "  2%|▏         | 581/31348 [29:44<25:54:21,  3.03s/it]\u001b[A\n",
      "  2%|▏         | 582/31348 [29:47<26:10:23,  3.06s/it]\u001b[A\n",
      "  2%|▏         | 583/31348 [29:51<27:50:28,  3.26s/it]\u001b[A\n",
      "  2%|▏         | 584/31348 [29:55<28:54:15,  3.38s/it]\u001b[A\n",
      "  2%|▏         | 585/31348 [29:58<28:49:14,  3.37s/it]\u001b[A\n",
      "  2%|▏         | 586/31348 [30:01<27:55:51,  3.27s/it]\u001b[A\n",
      "  2%|▏         | 587/31348 [30:04<28:26:31,  3.33s/it]\u001b[A\n",
      "  2%|▏         | 588/31348 [30:08<27:56:10,  3.27s/it]\u001b[A\n",
      "  2%|▏         | 589/31348 [30:11<27:51:31,  3.26s/it]\u001b[A\n",
      "  2%|▏         | 590/31348 [30:14<27:34:51,  3.23s/it]\u001b[A\n",
      "  2%|▏         | 591/31348 [30:17<27:27:31,  3.21s/it]\u001b[A\n",
      "  2%|▏         | 592/31348 [30:21<28:37:45,  3.35s/it]\u001b[A\n",
      "  2%|▏         | 593/31348 [30:24<28:21:19,  3.32s/it]\u001b[A\n",
      "  2%|▏         | 594/31348 [30:27<27:47:12,  3.25s/it]\u001b[A\n",
      "  2%|▏         | 595/31348 [30:30<27:18:19,  3.20s/it]\u001b[A\n",
      "  2%|▏         | 596/31348 [30:33<26:56:12,  3.15s/it]\u001b[A\n",
      "  2%|▏         | 597/31348 [30:36<26:46:23,  3.13s/it]\u001b[A\n",
      "  2%|▏         | 598/31348 [30:40<26:52:58,  3.15s/it]\u001b[A\n",
      "  2%|▏         | 599/31348 [30:43<26:19:23,  3.08s/it]\u001b[A\n",
      "  2%|▏         | 600/31348 [30:46<26:23:48,  3.09s/it]\u001b[A\n",
      "  2%|▏         | 601/31348 [30:49<26:31:16,  3.11s/it]\u001b[A\n",
      "  2%|▏         | 602/31348 [30:52<26:01:50,  3.05s/it]\u001b[A\n",
      "  2%|▏         | 603/31348 [30:55<26:02:53,  3.05s/it]\u001b[A\n",
      "  2%|▏         | 604/31348 [30:58<25:40:38,  3.01s/it]\u001b[A\n",
      "  2%|▏         | 605/31348 [31:01<25:44:46,  3.01s/it]\u001b[A\n",
      "  2%|▏         | 606/31348 [31:04<25:50:29,  3.03s/it]\u001b[A\n",
      "  2%|▏         | 607/31348 [31:07<26:03:39,  3.05s/it]\u001b[A\n",
      "  2%|▏         | 608/31348 [31:10<26:15:16,  3.07s/it]\u001b[A\n",
      "  2%|▏         | 609/31348 [31:13<26:32:03,  3.11s/it]\u001b[A\n",
      "  2%|▏         | 610/31348 [31:16<26:13:34,  3.07s/it]\u001b[A\n",
      "  2%|▏         | 611/31348 [31:19<26:13:50,  3.07s/it]\u001b[A\n",
      "  2%|▏         | 612/31348 [31:22<25:58:01,  3.04s/it]\u001b[A\n",
      "  2%|▏         | 613/31348 [31:25<26:09:35,  3.06s/it]\u001b[A\n",
      "  2%|▏         | 614/31348 [31:29<27:38:33,  3.24s/it]\u001b[A\n",
      "  2%|▏         | 615/31348 [31:33<28:45:00,  3.37s/it]\u001b[A\n",
      "  2%|▏         | 616/31348 [31:36<28:30:10,  3.34s/it]\u001b[A\n",
      "  2%|▏         | 617/31348 [31:39<29:02:42,  3.40s/it]\u001b[A\n",
      "  2%|▏         | 618/31348 [31:43<28:20:44,  3.32s/it]\u001b[A\n",
      "  2%|▏         | 619/31348 [31:46<27:52:48,  3.27s/it]\u001b[A\n",
      "  2%|▏         | 620/31348 [31:49<27:19:38,  3.20s/it]\u001b[A\n",
      "  2%|▏         | 621/31348 [31:52<26:52:32,  3.15s/it]\u001b[A\n",
      "  2%|▏         | 622/31348 [31:55<26:40:00,  3.12s/it]\u001b[A\n",
      "  2%|▏         | 623/31348 [31:58<26:31:53,  3.11s/it]\u001b[A\n",
      "  2%|▏         | 624/31348 [32:01<26:20:57,  3.09s/it]\u001b[A\n",
      "  2%|▏         | 625/31348 [32:04<26:45:56,  3.14s/it]\u001b[A\n",
      "  2%|▏         | 626/31348 [32:07<26:45:30,  3.14s/it]\u001b[A\n",
      "  2%|▏         | 627/31348 [32:11<27:06:58,  3.18s/it]\u001b[A\n",
      "  2%|▏         | 628/31348 [32:14<27:10:29,  3.18s/it]\u001b[A\n",
      "  2%|▏         | 629/31348 [32:17<26:34:30,  3.11s/it]\u001b[A\n",
      "  2%|▏         | 630/31348 [32:20<26:42:36,  3.13s/it]\u001b[A\n",
      "  2%|▏         | 631/31348 [32:23<26:14:45,  3.08s/it]\u001b[A\n",
      "  2%|▏         | 632/31348 [32:26<26:06:20,  3.06s/it]\u001b[A\n",
      "  2%|▏         | 633/31348 [32:29<26:22:11,  3.09s/it]\u001b[A\n",
      "  2%|▏         | 634/31348 [32:32<26:13:35,  3.07s/it]\u001b[A\n",
      "  2%|▏         | 635/31348 [32:35<26:27:46,  3.10s/it]\u001b[A\n",
      "  2%|▏         | 636/31348 [32:39<26:57:52,  3.16s/it]\u001b[A\n",
      "  2%|▏         | 637/31348 [32:42<26:44:39,  3.14s/it]\u001b[A\n",
      "  2%|▏         | 638/31348 [32:45<26:35:01,  3.12s/it]\u001b[A\n",
      "  2%|▏         | 639/31348 [32:48<26:43:47,  3.13s/it]\u001b[A\n",
      "  2%|▏         | 640/31348 [32:51<26:33:07,  3.11s/it]\u001b[A\n",
      "  2%|▏         | 641/31348 [32:54<26:17:21,  3.08s/it]\u001b[A\n",
      "  2%|▏         | 642/31348 [32:57<26:25:21,  3.10s/it]\u001b[A\n",
      "  2%|▏         | 643/31348 [33:00<26:22:06,  3.09s/it]\u001b[A\n",
      "  2%|▏         | 644/31348 [33:03<26:03:20,  3.05s/it]\u001b[A\n",
      "  2%|▏         | 645/31348 [33:06<25:50:29,  3.03s/it]\u001b[A\n",
      "  2%|▏         | 646/31348 [33:09<25:41:05,  3.01s/it]\u001b[A\n",
      "  2%|▏         | 647/31348 [33:12<25:35:31,  3.00s/it]\u001b[A\n",
      "  2%|▏         | 648/31348 [33:15<25:55:36,  3.04s/it]\u001b[A\n",
      "  2%|▏         | 649/31348 [33:18<26:21:46,  3.09s/it]\u001b[A\n",
      "  2%|▏         | 650/31348 [33:21<26:18:49,  3.09s/it]\u001b[A\n",
      "  2%|▏         | 651/31348 [33:25<26:16:11,  3.08s/it]\u001b[A\n",
      "  2%|▏         | 652/31348 [33:28<26:31:41,  3.11s/it]\u001b[A\n",
      "  2%|▏         | 653/31348 [33:31<26:24:48,  3.10s/it]\u001b[A\n",
      "  2%|▏         | 654/31348 [33:34<26:14:09,  3.08s/it]\u001b[A\n",
      "  2%|▏         | 655/31348 [33:37<26:01:06,  3.05s/it]\u001b[A\n",
      "  2%|▏         | 656/31348 [33:40<25:51:29,  3.03s/it]\u001b[A\n",
      "  2%|▏         | 657/31348 [33:43<25:57:30,  3.04s/it]\u001b[A\n",
      "  2%|▏         | 658/31348 [33:46<26:03:31,  3.06s/it]\u001b[A\n",
      "  2%|▏         | 659/31348 [33:49<26:24:25,  3.10s/it]\u001b[A\n",
      "  2%|▏         | 660/31348 [33:52<26:31:23,  3.11s/it]\u001b[A\n",
      "  2%|▏         | 661/31348 [33:56<26:44:31,  3.14s/it]\u001b[A\n",
      "  2%|▏         | 662/31348 [33:59<26:24:17,  3.10s/it]\u001b[A\n",
      "  2%|▏         | 663/31348 [34:01<25:55:39,  3.04s/it]\u001b[A\n",
      "  2%|▏         | 664/31348 [34:04<25:59:46,  3.05s/it]\u001b[A\n",
      "  2%|▏         | 665/31348 [34:08<26:19:08,  3.09s/it]\u001b[A\n",
      "  2%|▏         | 666/31348 [34:11<26:01:06,  3.05s/it]\u001b[A\n",
      "  2%|▏         | 667/31348 [34:14<26:54:40,  3.16s/it]\u001b[A\n",
      "  2%|▏         | 668/31348 [34:18<28:13:11,  3.31s/it]\u001b[A\n",
      "  2%|▏         | 669/31348 [34:21<28:06:12,  3.30s/it]\u001b[A\n",
      "  2%|▏         | 670/31348 [34:24<27:41:13,  3.25s/it]\u001b[A\n",
      "  2%|▏         | 671/31348 [34:27<27:25:29,  3.22s/it]\u001b[A\n",
      "  2%|▏         | 672/31348 [34:30<27:14:32,  3.20s/it]\u001b[A\n",
      "  2%|▏         | 673/31348 [34:34<28:44:29,  3.37s/it]\u001b[A\n",
      "  2%|▏         | 674/31348 [34:38<28:55:11,  3.39s/it]\u001b[A\n",
      "  2%|▏         | 675/31348 [34:41<28:32:07,  3.35s/it]\u001b[A\n",
      "  2%|▏         | 676/31348 [34:44<28:10:33,  3.31s/it]\u001b[A\n",
      "  2%|▏         | 677/31348 [34:47<27:40:47,  3.25s/it]\u001b[A\n",
      "  2%|▏         | 678/31348 [34:50<27:29:42,  3.23s/it]\u001b[A"
     ]
    }
   ],
   "source": [
    "for chunk in condos_chunk: \n",
    "    geocoded_chunk = get_nominatim_geo(chunk)\n",
    "    condos_chunk_list.append(geocoded_chunk)"
   ]
  },
  {
   "cell_type": "code",
   "execution_count": 158,
   "metadata": {},
   "outputs": [
    {
     "data": {
      "text/html": [
       "<div>\n",
       "<style scoped>\n",
       "    .dataframe tbody tr th:only-of-type {\n",
       "        vertical-align: middle;\n",
       "    }\n",
       "\n",
       "    .dataframe tbody tr th {\n",
       "        vertical-align: top;\n",
       "    }\n",
       "\n",
       "    .dataframe thead th {\n",
       "        text-align: right;\n",
       "    }\n",
       "</style>\n",
       "<table border=\"1\" class=\"dataframe\">\n",
       "  <thead>\n",
       "    <tr style=\"text-align: right;\">\n",
       "      <th></th>\n",
       "      <th>Boro-Block-Lot</th>\n",
       "      <th>Address</th>\n",
       "      <th>Neighborhood</th>\n",
       "      <th>Building Classification</th>\n",
       "      <th>Total Units</th>\n",
       "      <th>Year Built</th>\n",
       "      <th>Gross SqFt</th>\n",
       "      <th>Estimated Gross Income</th>\n",
       "      <th>Gross Income per SqFt</th>\n",
       "      <th>Estimated Expense</th>\n",
       "      <th>...</th>\n",
       "      <th>Full Market Value</th>\n",
       "      <th>Market Value per SqFt</th>\n",
       "      <th>Report Year</th>\n",
       "      <th>Estimated</th>\n",
       "      <th>Distance from Co-op in miles</th>\n",
       "      <th>Condo Reference</th>\n",
       "      <th>Borough</th>\n",
       "      <th>Borough PCA 1</th>\n",
       "      <th>Borough PCA 2</th>\n",
       "      <th>Borough PCA 3</th>\n",
       "    </tr>\n",
       "  </thead>\n",
       "  <tbody>\n",
       "    <tr>\n",
       "      <th>0</th>\n",
       "      <td>1-00011-0014</td>\n",
       "      <td>26 BEAVER STREET</td>\n",
       "      <td>FINANCIAL</td>\n",
       "      <td>D4-ELEVATOR</td>\n",
       "      <td>21</td>\n",
       "      <td>1909</td>\n",
       "      <td>51387</td>\n",
       "      <td>1780046</td>\n",
       "      <td>34.64</td>\n",
       "      <td>448095</td>\n",
       "      <td>...</td>\n",
       "      <td>10056000</td>\n",
       "      <td>195.69</td>\n",
       "      <td>2012</td>\n",
       "      <td>1</td>\n",
       "      <td>0.0</td>\n",
       "      <td>0</td>\n",
       "      <td>Manhattan</td>\n",
       "      <td>-0.534149</td>\n",
       "      <td>-0.019101</td>\n",
       "      <td>-0.034965</td>\n",
       "    </tr>\n",
       "    <tr>\n",
       "      <th>1</th>\n",
       "      <td>1-00028-0001</td>\n",
       "      <td>3 HANOVER SQUARE</td>\n",
       "      <td>FINANCIAL</td>\n",
       "      <td>D0-ELEVATOR</td>\n",
       "      <td>211</td>\n",
       "      <td>1926</td>\n",
       "      <td>239121</td>\n",
       "      <td>6578219</td>\n",
       "      <td>27.51</td>\n",
       "      <td>1602111</td>\n",
       "      <td>...</td>\n",
       "      <td>37570000</td>\n",
       "      <td>157.12</td>\n",
       "      <td>2012</td>\n",
       "      <td>1</td>\n",
       "      <td>0.0</td>\n",
       "      <td>1</td>\n",
       "      <td>Manhattan</td>\n",
       "      <td>-0.534149</td>\n",
       "      <td>-0.019101</td>\n",
       "      <td>-0.034965</td>\n",
       "    </tr>\n",
       "    <tr>\n",
       "      <th>2</th>\n",
       "      <td>1-00064-0008</td>\n",
       "      <td>53 LIBERTY STREET</td>\n",
       "      <td>FINANCIAL</td>\n",
       "      <td>D4-ELEVATOR</td>\n",
       "      <td>92</td>\n",
       "      <td>1911</td>\n",
       "      <td>167448</td>\n",
       "      <td>5398524</td>\n",
       "      <td>32.24</td>\n",
       "      <td>1461821</td>\n",
       "      <td>...</td>\n",
       "      <td>29722000</td>\n",
       "      <td>177.50</td>\n",
       "      <td>2012</td>\n",
       "      <td>1</td>\n",
       "      <td>0.0</td>\n",
       "      <td>2</td>\n",
       "      <td>Manhattan</td>\n",
       "      <td>-0.534149</td>\n",
       "      <td>-0.019101</td>\n",
       "      <td>-0.034965</td>\n",
       "    </tr>\n",
       "    <tr>\n",
       "      <th>3</th>\n",
       "      <td>1-00065-0017</td>\n",
       "      <td>176 BROADWAY</td>\n",
       "      <td>FINANCIAL</td>\n",
       "      <td>D4-ELEVATOR</td>\n",
       "      <td>83</td>\n",
       "      <td>1927</td>\n",
       "      <td>168176</td>\n",
       "      <td>5600261</td>\n",
       "      <td>33.30</td>\n",
       "      <td>1992886</td>\n",
       "      <td>...</td>\n",
       "      <td>27236000</td>\n",
       "      <td>161.95</td>\n",
       "      <td>2012</td>\n",
       "      <td>1</td>\n",
       "      <td>0.0</td>\n",
       "      <td>3</td>\n",
       "      <td>Manhattan</td>\n",
       "      <td>-0.534149</td>\n",
       "      <td>-0.019101</td>\n",
       "      <td>-0.034965</td>\n",
       "    </tr>\n",
       "    <tr>\n",
       "      <th>4</th>\n",
       "      <td>1-00094-0001</td>\n",
       "      <td>80 GOLD STREET</td>\n",
       "      <td>SOUTHBRIDGE</td>\n",
       "      <td>D4-ELEVATOR</td>\n",
       "      <td>1664</td>\n",
       "      <td>1971</td>\n",
       "      <td>2075590</td>\n",
       "      <td>37256841</td>\n",
       "      <td>17.95</td>\n",
       "      <td>14238547</td>\n",
       "      <td>...</td>\n",
       "      <td>162215000</td>\n",
       "      <td>78.15</td>\n",
       "      <td>2012</td>\n",
       "      <td>1</td>\n",
       "      <td>0.0</td>\n",
       "      <td>4</td>\n",
       "      <td>Manhattan</td>\n",
       "      <td>-0.534149</td>\n",
       "      <td>-0.019101</td>\n",
       "      <td>-0.034965</td>\n",
       "    </tr>\n",
       "  </tbody>\n",
       "</table>\n",
       "<p>5 rows × 22 columns</p>\n",
       "</div>"
      ],
      "text/plain": [
       "  Boro-Block-Lot            Address Neighborhood Building Classification  \\\n",
       "0   1-00011-0014   26 BEAVER STREET    FINANCIAL             D4-ELEVATOR   \n",
       "1   1-00028-0001   3 HANOVER SQUARE    FINANCIAL             D0-ELEVATOR   \n",
       "2   1-00064-0008  53 LIBERTY STREET    FINANCIAL             D4-ELEVATOR   \n",
       "3   1-00065-0017       176 BROADWAY    FINANCIAL             D4-ELEVATOR   \n",
       "4   1-00094-0001     80 GOLD STREET  SOUTHBRIDGE             D4-ELEVATOR   \n",
       "\n",
       "   Total Units  Year Built  Gross SqFt  Estimated Gross Income  \\\n",
       "0           21        1909       51387                 1780046   \n",
       "1          211        1926      239121                 6578219   \n",
       "2           92        1911      167448                 5398524   \n",
       "3           83        1927      168176                 5600261   \n",
       "4         1664        1971     2075590                37256841   \n",
       "\n",
       "   Gross Income per SqFt  Estimated Expense  ...  Full Market Value  \\\n",
       "0                  34.64             448095  ...           10056000   \n",
       "1                  27.51            1602111  ...           37570000   \n",
       "2                  32.24            1461821  ...           29722000   \n",
       "3                  33.30            1992886  ...           27236000   \n",
       "4                  17.95           14238547  ...          162215000   \n",
       "\n",
       "   Market Value per SqFt  Report Year  Estimated  \\\n",
       "0                 195.69         2012          1   \n",
       "1                 157.12         2012          1   \n",
       "2                 177.50         2012          1   \n",
       "3                 161.95         2012          1   \n",
       "4                  78.15         2012          1   \n",
       "\n",
       "   Distance from Co-op in miles  Condo Reference    Borough  Borough PCA 1  \\\n",
       "0                           0.0                0  Manhattan      -0.534149   \n",
       "1                           0.0                1  Manhattan      -0.534149   \n",
       "2                           0.0                2  Manhattan      -0.534149   \n",
       "3                           0.0                3  Manhattan      -0.534149   \n",
       "4                           0.0                4  Manhattan      -0.534149   \n",
       "\n",
       "  Borough PCA 2  Borough PCA 3  \n",
       "0     -0.019101      -0.034965  \n",
       "1     -0.019101      -0.034965  \n",
       "2     -0.019101      -0.034965  \n",
       "3     -0.019101      -0.034965  \n",
       "4     -0.019101      -0.034965  \n",
       "\n",
       "[5 rows x 22 columns]"
      ]
     },
     "execution_count": 158,
     "metadata": {},
     "output_type": "execute_result"
    }
   ],
   "source": [
    "condos.head()"
   ]
  },
  {
   "cell_type": "code",
   "execution_count": 163,
   "metadata": {},
   "outputs": [],
   "source": [
    "condos['Full Address'] = condos['Address'] + ' ' + condos['Borough'] + ', NY'"
   ]
  },
  {
   "cell_type": "code",
   "execution_count": 170,
   "metadata": {},
   "outputs": [
    {
     "name": "stderr",
     "output_type": "stream",
     "text": [
      "0it [00:00, ?it/s]\n"
     ]
    }
   ],
   "source": [
    "tqdm().pandas()"
   ]
  },
  {
   "cell_type": "code",
   "execution_count": 184,
   "metadata": {},
   "outputs": [
    {
     "name": "stderr",
     "output_type": "stream",
     "text": [
      "  0%|          | 9/31348 [00:22<24:49:38,  2.85s/it]"
     ]
    },
    {
     "ename": "KeyboardInterrupt",
     "evalue": "",
     "output_type": "error",
     "traceback": [
      "\u001b[0;31m---------------------------------------------------------------------------\u001b[0m",
      "\u001b[0;31mKeyboardInterrupt\u001b[0m                         Traceback (most recent call last)",
      "\u001b[0;32m<ipython-input-184-86298c97f859>\u001b[0m in \u001b[0;36m<module>\u001b[0;34m\u001b[0m\n\u001b[0;32m----> 1\u001b[0;31m \u001b[0mget_nominatim_geo\u001b[0m\u001b[0;34m(\u001b[0m\u001b[0mcondos\u001b[0m\u001b[0;34m[\u001b[0m\u001b[0;34m'Full Address'\u001b[0m\u001b[0;34m]\u001b[0m\u001b[0;34m.\u001b[0m\u001b[0miloc\u001b[0m\u001b[0;34m[\u001b[0m\u001b[0;36m1\u001b[0m\u001b[0;34m]\u001b[0m\u001b[0;34m)\u001b[0m\u001b[0;34m\u001b[0m\u001b[0;34m\u001b[0m\u001b[0m\n\u001b[0m",
      "\u001b[0;32m<ipython-input-183-4fa2def8a5e1>\u001b[0m in \u001b[0;36mget_nominatim_geo\u001b[0;34m(*args)\u001b[0m\n\u001b[1;32m      7\u001b[0m     \u001b[0;32mfrom\u001b[0m \u001b[0mgeopy\u001b[0m\u001b[0;34m.\u001b[0m\u001b[0mextra\u001b[0m\u001b[0;34m.\u001b[0m\u001b[0mrate_limiter\u001b[0m \u001b[0;32mimport\u001b[0m \u001b[0mRateLimiter\u001b[0m\u001b[0;34m\u001b[0m\u001b[0;34m\u001b[0m\u001b[0m\n\u001b[1;32m      8\u001b[0m     \u001b[0mgeocode\u001b[0m \u001b[0;34m=\u001b[0m \u001b[0mRateLimiter\u001b[0m\u001b[0;34m(\u001b[0m\u001b[0mgeolocator\u001b[0m\u001b[0;34m.\u001b[0m\u001b[0mgeocode\u001b[0m\u001b[0;34m,\u001b[0m \u001b[0mmin_delay_seconds\u001b[0m\u001b[0;34m=\u001b[0m\u001b[0;36m1.5\u001b[0m\u001b[0;34m)\u001b[0m\u001b[0;34m\u001b[0m\u001b[0;34m\u001b[0m\u001b[0m\n\u001b[0;32m----> 9\u001b[0;31m     \u001b[0mnominatim_geo_points\u001b[0m\u001b[0;34m.\u001b[0m\u001b[0mappend\u001b[0m\u001b[0;34m(\u001b[0m\u001b[0mcondos\u001b[0m\u001b[0;34m[\u001b[0m\u001b[0;34m'Full Address'\u001b[0m\u001b[0;34m]\u001b[0m\u001b[0;34m.\u001b[0m\u001b[0mprogress_apply\u001b[0m\u001b[0;34m(\u001b[0m\u001b[0mgeocode\u001b[0m\u001b[0;34m)\u001b[0m\u001b[0;34m)\u001b[0m\u001b[0;34m\u001b[0m\u001b[0;34m\u001b[0m\u001b[0m\n\u001b[0m\u001b[1;32m     10\u001b[0m     \u001b[0;32mfor\u001b[0m \u001b[0mpoint\u001b[0m \u001b[0;32min\u001b[0m \u001b[0mnominatim_geo_points\u001b[0m\u001b[0;34m:\u001b[0m\u001b[0;34m\u001b[0m\u001b[0;34m\u001b[0m\u001b[0m\n\u001b[1;32m     11\u001b[0m         \u001b[0mnominatim_std_address\u001b[0m\u001b[0;34m.\u001b[0m\u001b[0mappend\u001b[0m\u001b[0;34m(\u001b[0m\u001b[0;32mlambda\u001b[0m \u001b[0mloc\u001b[0m\u001b[0;34m:\u001b[0m \u001b[0mtuple\u001b[0m\u001b[0;34m(\u001b[0m\u001b[0mloc\u001b[0m\u001b[0;34m.\u001b[0m\u001b[0mpoint\u001b[0m\u001b[0;34m)\u001b[0m \u001b[0;32mif\u001b[0m \u001b[0mloc\u001b[0m \u001b[0;32melse\u001b[0m \u001b[0;32mNone\u001b[0m\u001b[0;34m)\u001b[0m\u001b[0;34m\u001b[0m\u001b[0;34m\u001b[0m\u001b[0m\n",
      "\u001b[0;32m/anaconda3/lib/python3.6/site-packages/tqdm/_tqdm.py\u001b[0m in \u001b[0;36minner\u001b[0;34m(df, func, *args, **kwargs)\u001b[0m\n\u001b[1;32m    675\u001b[0m                 \u001b[0;31m# Apply the provided function (in **kwargs)\u001b[0m\u001b[0;34m\u001b[0m\u001b[0;34m\u001b[0m\u001b[0;34m\u001b[0m\u001b[0m\n\u001b[1;32m    676\u001b[0m                 \u001b[0;31m# on the df using our wrapper (which provides bar updating)\u001b[0m\u001b[0;34m\u001b[0m\u001b[0;34m\u001b[0m\u001b[0;34m\u001b[0m\u001b[0m\n\u001b[0;32m--> 677\u001b[0;31m                 \u001b[0mresult\u001b[0m \u001b[0;34m=\u001b[0m \u001b[0mgetattr\u001b[0m\u001b[0;34m(\u001b[0m\u001b[0mdf\u001b[0m\u001b[0;34m,\u001b[0m \u001b[0mdf_function\u001b[0m\u001b[0;34m)\u001b[0m\u001b[0;34m(\u001b[0m\u001b[0mwrapper\u001b[0m\u001b[0;34m,\u001b[0m \u001b[0;34m**\u001b[0m\u001b[0mkwargs\u001b[0m\u001b[0;34m)\u001b[0m\u001b[0;34m\u001b[0m\u001b[0;34m\u001b[0m\u001b[0m\n\u001b[0m\u001b[1;32m    678\u001b[0m \u001b[0;34m\u001b[0m\u001b[0m\n\u001b[1;32m    679\u001b[0m                 \u001b[0;31m# Close bar and return pandas calculation result\u001b[0m\u001b[0;34m\u001b[0m\u001b[0;34m\u001b[0m\u001b[0;34m\u001b[0m\u001b[0m\n",
      "\u001b[0;32m/anaconda3/lib/python3.6/site-packages/pandas/core/series.py\u001b[0m in \u001b[0;36mapply\u001b[0;34m(self, func, convert_dtype, args, **kwds)\u001b[0m\n\u001b[1;32m   3589\u001b[0m             \u001b[0;32melse\u001b[0m\u001b[0;34m:\u001b[0m\u001b[0;34m\u001b[0m\u001b[0;34m\u001b[0m\u001b[0m\n\u001b[1;32m   3590\u001b[0m                 \u001b[0mvalues\u001b[0m \u001b[0;34m=\u001b[0m \u001b[0mself\u001b[0m\u001b[0;34m.\u001b[0m\u001b[0mastype\u001b[0m\u001b[0;34m(\u001b[0m\u001b[0mobject\u001b[0m\u001b[0;34m)\u001b[0m\u001b[0;34m.\u001b[0m\u001b[0mvalues\u001b[0m\u001b[0;34m\u001b[0m\u001b[0;34m\u001b[0m\u001b[0m\n\u001b[0;32m-> 3591\u001b[0;31m                 \u001b[0mmapped\u001b[0m \u001b[0;34m=\u001b[0m \u001b[0mlib\u001b[0m\u001b[0;34m.\u001b[0m\u001b[0mmap_infer\u001b[0m\u001b[0;34m(\u001b[0m\u001b[0mvalues\u001b[0m\u001b[0;34m,\u001b[0m \u001b[0mf\u001b[0m\u001b[0;34m,\u001b[0m \u001b[0mconvert\u001b[0m\u001b[0;34m=\u001b[0m\u001b[0mconvert_dtype\u001b[0m\u001b[0;34m)\u001b[0m\u001b[0;34m\u001b[0m\u001b[0;34m\u001b[0m\u001b[0m\n\u001b[0m\u001b[1;32m   3592\u001b[0m \u001b[0;34m\u001b[0m\u001b[0m\n\u001b[1;32m   3593\u001b[0m         \u001b[0;32mif\u001b[0m \u001b[0mlen\u001b[0m\u001b[0;34m(\u001b[0m\u001b[0mmapped\u001b[0m\u001b[0;34m)\u001b[0m \u001b[0;32mand\u001b[0m \u001b[0misinstance\u001b[0m\u001b[0;34m(\u001b[0m\u001b[0mmapped\u001b[0m\u001b[0;34m[\u001b[0m\u001b[0;36m0\u001b[0m\u001b[0;34m]\u001b[0m\u001b[0;34m,\u001b[0m \u001b[0mSeries\u001b[0m\u001b[0;34m)\u001b[0m\u001b[0;34m:\u001b[0m\u001b[0;34m\u001b[0m\u001b[0;34m\u001b[0m\u001b[0m\n",
      "\u001b[0;32mpandas/_libs/lib.pyx\u001b[0m in \u001b[0;36mpandas._libs.lib.map_infer\u001b[0;34m()\u001b[0m\n",
      "\u001b[0;32m/anaconda3/lib/python3.6/site-packages/tqdm/_tqdm.py\u001b[0m in \u001b[0;36mwrapper\u001b[0;34m(*args, **kwargs)\u001b[0m\n\u001b[1;32m    671\u001b[0m                     \u001b[0;31m# take a fast or slow code path; so stop when t.total==t.n\u001b[0m\u001b[0;34m\u001b[0m\u001b[0;34m\u001b[0m\u001b[0;34m\u001b[0m\u001b[0m\n\u001b[1;32m    672\u001b[0m                     \u001b[0mt\u001b[0m\u001b[0;34m.\u001b[0m\u001b[0mupdate\u001b[0m\u001b[0;34m(\u001b[0m\u001b[0mn\u001b[0m\u001b[0;34m=\u001b[0m\u001b[0;36m1\u001b[0m \u001b[0;32mif\u001b[0m \u001b[0;32mnot\u001b[0m \u001b[0mt\u001b[0m\u001b[0;34m.\u001b[0m\u001b[0mtotal\u001b[0m \u001b[0;32mor\u001b[0m \u001b[0mt\u001b[0m\u001b[0;34m.\u001b[0m\u001b[0mn\u001b[0m \u001b[0;34m<\u001b[0m \u001b[0mt\u001b[0m\u001b[0;34m.\u001b[0m\u001b[0mtotal\u001b[0m \u001b[0;32melse\u001b[0m \u001b[0;36m0\u001b[0m\u001b[0;34m)\u001b[0m\u001b[0;34m\u001b[0m\u001b[0;34m\u001b[0m\u001b[0m\n\u001b[0;32m--> 673\u001b[0;31m                     \u001b[0;32mreturn\u001b[0m \u001b[0mfunc\u001b[0m\u001b[0;34m(\u001b[0m\u001b[0;34m*\u001b[0m\u001b[0margs\u001b[0m\u001b[0;34m,\u001b[0m \u001b[0;34m**\u001b[0m\u001b[0mkwargs\u001b[0m\u001b[0;34m)\u001b[0m\u001b[0;34m\u001b[0m\u001b[0;34m\u001b[0m\u001b[0m\n\u001b[0m\u001b[1;32m    674\u001b[0m \u001b[0;34m\u001b[0m\u001b[0m\n\u001b[1;32m    675\u001b[0m                 \u001b[0;31m# Apply the provided function (in **kwargs)\u001b[0m\u001b[0;34m\u001b[0m\u001b[0;34m\u001b[0m\u001b[0;34m\u001b[0m\u001b[0m\n",
      "\u001b[0;32m/anaconda3/lib/python3.6/site-packages/geopy/extra/rate_limiter.py\u001b[0m in \u001b[0;36m__call__\u001b[0;34m(self, *args, **kwargs)\u001b[0m\n\u001b[1;32m    120\u001b[0m \u001b[0;34m\u001b[0m\u001b[0m\n\u001b[1;32m    121\u001b[0m     \u001b[0;32mdef\u001b[0m \u001b[0m__call__\u001b[0m\u001b[0;34m(\u001b[0m\u001b[0mself\u001b[0m\u001b[0;34m,\u001b[0m \u001b[0;34m*\u001b[0m\u001b[0margs\u001b[0m\u001b[0;34m,\u001b[0m \u001b[0;34m**\u001b[0m\u001b[0mkwargs\u001b[0m\u001b[0;34m)\u001b[0m\u001b[0;34m:\u001b[0m\u001b[0;34m\u001b[0m\u001b[0;34m\u001b[0m\u001b[0m\n\u001b[0;32m--> 122\u001b[0;31m         \u001b[0mself\u001b[0m\u001b[0;34m.\u001b[0m\u001b[0m_sleep_between\u001b[0m\u001b[0;34m(\u001b[0m\u001b[0;34m)\u001b[0m\u001b[0;34m\u001b[0m\u001b[0;34m\u001b[0m\u001b[0m\n\u001b[0m\u001b[1;32m    123\u001b[0m \u001b[0;34m\u001b[0m\u001b[0m\n\u001b[1;32m    124\u001b[0m         \u001b[0;32mfor\u001b[0m \u001b[0mi\u001b[0m\u001b[0;34m,\u001b[0m \u001b[0mis_last_try\u001b[0m \u001b[0;32min\u001b[0m \u001b[0mzip\u001b[0m\u001b[0;34m(\u001b[0m\u001b[0mcount\u001b[0m\u001b[0;34m(\u001b[0m\u001b[0;34m)\u001b[0m\u001b[0;34m,\u001b[0m \u001b[0m_is_last_gen\u001b[0m\u001b[0;34m(\u001b[0m\u001b[0mself\u001b[0m\u001b[0;34m.\u001b[0m\u001b[0mmax_retries\u001b[0m\u001b[0;34m)\u001b[0m\u001b[0;34m)\u001b[0m\u001b[0;34m:\u001b[0m\u001b[0;34m\u001b[0m\u001b[0;34m\u001b[0m\u001b[0m\n",
      "\u001b[0;32m/anaconda3/lib/python3.6/site-packages/geopy/extra/rate_limiter.py\u001b[0m in \u001b[0;36m_sleep_between\u001b[0;34m(self)\u001b[0m\n\u001b[1;32m    117\u001b[0m         \u001b[0mwait\u001b[0m \u001b[0;34m=\u001b[0m \u001b[0mself\u001b[0m\u001b[0;34m.\u001b[0m\u001b[0mmin_delay_seconds\u001b[0m \u001b[0;34m-\u001b[0m \u001b[0mseconds_since_last_call\u001b[0m\u001b[0;34m\u001b[0m\u001b[0;34m\u001b[0m\u001b[0m\n\u001b[1;32m    118\u001b[0m         \u001b[0;32mif\u001b[0m \u001b[0mwait\u001b[0m \u001b[0;34m>\u001b[0m \u001b[0;36m0\u001b[0m\u001b[0;34m:\u001b[0m\u001b[0;34m\u001b[0m\u001b[0;34m\u001b[0m\u001b[0m\n\u001b[0;32m--> 119\u001b[0;31m             \u001b[0mself\u001b[0m\u001b[0;34m.\u001b[0m\u001b[0m_sleep\u001b[0m\u001b[0;34m(\u001b[0m\u001b[0mwait\u001b[0m\u001b[0;34m)\u001b[0m\u001b[0;34m\u001b[0m\u001b[0;34m\u001b[0m\u001b[0m\n\u001b[0m\u001b[1;32m    120\u001b[0m \u001b[0;34m\u001b[0m\u001b[0m\n\u001b[1;32m    121\u001b[0m     \u001b[0;32mdef\u001b[0m \u001b[0m__call__\u001b[0m\u001b[0;34m(\u001b[0m\u001b[0mself\u001b[0m\u001b[0;34m,\u001b[0m \u001b[0;34m*\u001b[0m\u001b[0margs\u001b[0m\u001b[0;34m,\u001b[0m \u001b[0;34m**\u001b[0m\u001b[0mkwargs\u001b[0m\u001b[0;34m)\u001b[0m\u001b[0;34m:\u001b[0m\u001b[0;34m\u001b[0m\u001b[0;34m\u001b[0m\u001b[0m\n",
      "\u001b[0;32m/anaconda3/lib/python3.6/site-packages/geopy/extra/rate_limiter.py\u001b[0m in \u001b[0;36m_sleep\u001b[0;34m(self, seconds)\u001b[0m\n\u001b[1;32m    111\u001b[0m     \u001b[0;32mdef\u001b[0m \u001b[0m_sleep\u001b[0m\u001b[0;34m(\u001b[0m\u001b[0mself\u001b[0m\u001b[0;34m,\u001b[0m \u001b[0mseconds\u001b[0m\u001b[0;34m)\u001b[0m\u001b[0;34m:\u001b[0m  \u001b[0;31m# pragma: no coverage\u001b[0m\u001b[0;34m\u001b[0m\u001b[0;34m\u001b[0m\u001b[0m\n\u001b[1;32m    112\u001b[0m         \u001b[0mlogger\u001b[0m\u001b[0;34m.\u001b[0m\u001b[0mdebug\u001b[0m\u001b[0;34m(\u001b[0m\u001b[0;34m'RateLimiter sleep(%r)'\u001b[0m\u001b[0;34m,\u001b[0m \u001b[0mseconds\u001b[0m\u001b[0;34m)\u001b[0m\u001b[0;34m\u001b[0m\u001b[0;34m\u001b[0m\u001b[0m\n\u001b[0;32m--> 113\u001b[0;31m         \u001b[0msleep_at_least\u001b[0m\u001b[0;34m(\u001b[0m\u001b[0mseconds\u001b[0m\u001b[0;34m)\u001b[0m\u001b[0;34m\u001b[0m\u001b[0;34m\u001b[0m\u001b[0m\n\u001b[0m\u001b[1;32m    114\u001b[0m \u001b[0;34m\u001b[0m\u001b[0m\n\u001b[1;32m    115\u001b[0m     \u001b[0;32mdef\u001b[0m \u001b[0m_sleep_between\u001b[0m\u001b[0;34m(\u001b[0m\u001b[0mself\u001b[0m\u001b[0;34m)\u001b[0m\u001b[0;34m:\u001b[0m\u001b[0;34m\u001b[0m\u001b[0;34m\u001b[0m\u001b[0m\n",
      "\u001b[0;32m/anaconda3/lib/python3.6/site-packages/geopy/compat.py\u001b[0m in \u001b[0;36msleep_at_least\u001b[0;34m(secs)\u001b[0m\n\u001b[1;32m    161\u001b[0m     \u001b[0mdeadline\u001b[0m \u001b[0;34m=\u001b[0m \u001b[0mnow\u001b[0m \u001b[0;34m+\u001b[0m \u001b[0msecs\u001b[0m\u001b[0;34m\u001b[0m\u001b[0;34m\u001b[0m\u001b[0m\n\u001b[1;32m    162\u001b[0m     \u001b[0;32mwhile\u001b[0m \u001b[0mdeadline\u001b[0m \u001b[0;34m>\u001b[0m \u001b[0mnow\u001b[0m\u001b[0;34m:\u001b[0m\u001b[0;34m\u001b[0m\u001b[0;34m\u001b[0m\u001b[0m\n\u001b[0;32m--> 163\u001b[0;31m         \u001b[0msleep\u001b[0m\u001b[0;34m(\u001b[0m\u001b[0mmax\u001b[0m\u001b[0;34m(\u001b[0m\u001b[0mdeadline\u001b[0m \u001b[0;34m-\u001b[0m \u001b[0mnow\u001b[0m\u001b[0;34m,\u001b[0m \u001b[0;36m0.1\u001b[0m\u001b[0;34m)\u001b[0m\u001b[0;34m)\u001b[0m\u001b[0;34m\u001b[0m\u001b[0;34m\u001b[0m\u001b[0m\n\u001b[0m\u001b[1;32m    164\u001b[0m         \u001b[0mnow\u001b[0m \u001b[0;34m=\u001b[0m \u001b[0mdefault_timer\u001b[0m\u001b[0;34m(\u001b[0m\u001b[0;34m)\u001b[0m\u001b[0;34m\u001b[0m\u001b[0;34m\u001b[0m\u001b[0m\n",
      "\u001b[0;31mKeyboardInterrupt\u001b[0m: "
     ]
    }
   ],
   "source": [
    "get_nominatim_geo(condos['Full Address'].iloc[1])"
   ]
  },
  {
   "cell_type": "code",
   "execution_count": 185,
   "metadata": {},
   "outputs": [
    {
     "name": "stdout",
     "output_type": "stream",
     "text": [
      "[]\n"
     ]
    }
   ],
   "source": []
  },
  {
   "cell_type": "code",
   "execution_count": null,
   "metadata": {},
   "outputs": [],
   "source": []
  }
 ],
 "metadata": {
  "kernelspec": {
   "display_name": "Python 3",
   "language": "python",
   "name": "python3"
  },
  "language_info": {
   "codemirror_mode": {
    "name": "ipython",
    "version": 3
   },
   "file_extension": ".py",
   "mimetype": "text/x-python",
   "name": "python",
   "nbconvert_exporter": "python",
   "pygments_lexer": "ipython3",
   "version": "3.6.8"
  }
 },
 "nbformat": 4,
 "nbformat_minor": 2
}
