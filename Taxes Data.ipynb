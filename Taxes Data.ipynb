{
 "cells": [
  {
   "cell_type": "code",
   "execution_count": 2,
   "metadata": {},
   "outputs": [],
   "source": [
    "import pandas as pd \n",
    "import matplotlib.pyplot as plt\n",
    "import seaborn as sns \n",
    "import requests\n",
    "import geopandas as gpd\n",
    "import scipy\n",
    "import numpy as np "
   ]
  },
  {
   "cell_type": "code",
   "execution_count": 3,
   "metadata": {},
   "outputs": [
    {
     "data": {
      "text/plain": [
       "'/Users/Erika/Desktop/General_Assembly/Capstone'"
      ]
     },
     "execution_count": 3,
     "metadata": {},
     "output_type": "execute_result"
    }
   ],
   "source": [
    "pwd"
   ]
  },
  {
   "cell_type": "code",
   "execution_count": 4,
   "metadata": {},
   "outputs": [
    {
     "name": "stdout",
     "output_type": "stream",
     "text": [
      "[Errno 2] No such file or directory: 'Downloads'\n",
      "/Users/Erika/Desktop/General_Assembly/Capstone\n"
     ]
    }
   ],
   "source": [
    "cd Downloads"
   ]
  },
  {
   "cell_type": "code",
   "execution_count": 5,
   "metadata": {},
   "outputs": [
    {
     "ename": "FileNotFoundError",
     "evalue": "[Errno 2] File b'DOF__Cooperative_Comparable_Rental_Income__Citywide_.csv' does not exist: b'DOF__Cooperative_Comparable_Rental_Income__Citywide_.csv'",
     "output_type": "error",
     "traceback": [
      "\u001b[0;31m---------------------------------------------------------------------------\u001b[0m",
      "\u001b[0;31mFileNotFoundError\u001b[0m                         Traceback (most recent call last)",
      "\u001b[0;32m<ipython-input-5-7d5028d5f5c3>\u001b[0m in \u001b[0;36m<module>\u001b[0;34m\u001b[0m\n\u001b[0;32m----> 1\u001b[0;31m \u001b[0mcondocalc\u001b[0m \u001b[0;34m=\u001b[0m \u001b[0mpd\u001b[0m\u001b[0;34m.\u001b[0m\u001b[0mread_csv\u001b[0m\u001b[0;34m(\u001b[0m\u001b[0;34m'DOF__Cooperative_Comparable_Rental_Income__Citywide_.csv'\u001b[0m\u001b[0;34m)\u001b[0m\u001b[0;34m\u001b[0m\u001b[0;34m\u001b[0m\u001b[0m\n\u001b[0m",
      "\u001b[0;32m/anaconda3/lib/python3.6/site-packages/pandas/io/parsers.py\u001b[0m in \u001b[0;36mparser_f\u001b[0;34m(filepath_or_buffer, sep, delimiter, header, names, index_col, usecols, squeeze, prefix, mangle_dupe_cols, dtype, engine, converters, true_values, false_values, skipinitialspace, skiprows, skipfooter, nrows, na_values, keep_default_na, na_filter, verbose, skip_blank_lines, parse_dates, infer_datetime_format, keep_date_col, date_parser, dayfirst, iterator, chunksize, compression, thousands, decimal, lineterminator, quotechar, quoting, doublequote, escapechar, comment, encoding, dialect, tupleize_cols, error_bad_lines, warn_bad_lines, delim_whitespace, low_memory, memory_map, float_precision)\u001b[0m\n\u001b[1;32m    700\u001b[0m                     skip_blank_lines=skip_blank_lines)\n\u001b[1;32m    701\u001b[0m \u001b[0;34m\u001b[0m\u001b[0m\n\u001b[0;32m--> 702\u001b[0;31m         \u001b[0;32mreturn\u001b[0m \u001b[0m_read\u001b[0m\u001b[0;34m(\u001b[0m\u001b[0mfilepath_or_buffer\u001b[0m\u001b[0;34m,\u001b[0m \u001b[0mkwds\u001b[0m\u001b[0;34m)\u001b[0m\u001b[0;34m\u001b[0m\u001b[0;34m\u001b[0m\u001b[0m\n\u001b[0m\u001b[1;32m    703\u001b[0m \u001b[0;34m\u001b[0m\u001b[0m\n\u001b[1;32m    704\u001b[0m     \u001b[0mparser_f\u001b[0m\u001b[0;34m.\u001b[0m\u001b[0m__name__\u001b[0m \u001b[0;34m=\u001b[0m \u001b[0mname\u001b[0m\u001b[0;34m\u001b[0m\u001b[0;34m\u001b[0m\u001b[0m\n",
      "\u001b[0;32m/anaconda3/lib/python3.6/site-packages/pandas/io/parsers.py\u001b[0m in \u001b[0;36m_read\u001b[0;34m(filepath_or_buffer, kwds)\u001b[0m\n\u001b[1;32m    427\u001b[0m \u001b[0;34m\u001b[0m\u001b[0m\n\u001b[1;32m    428\u001b[0m     \u001b[0;31m# Create the parser.\u001b[0m\u001b[0;34m\u001b[0m\u001b[0;34m\u001b[0m\u001b[0;34m\u001b[0m\u001b[0m\n\u001b[0;32m--> 429\u001b[0;31m     \u001b[0mparser\u001b[0m \u001b[0;34m=\u001b[0m \u001b[0mTextFileReader\u001b[0m\u001b[0;34m(\u001b[0m\u001b[0mfilepath_or_buffer\u001b[0m\u001b[0;34m,\u001b[0m \u001b[0;34m**\u001b[0m\u001b[0mkwds\u001b[0m\u001b[0;34m)\u001b[0m\u001b[0;34m\u001b[0m\u001b[0;34m\u001b[0m\u001b[0m\n\u001b[0m\u001b[1;32m    430\u001b[0m \u001b[0;34m\u001b[0m\u001b[0m\n\u001b[1;32m    431\u001b[0m     \u001b[0;32mif\u001b[0m \u001b[0mchunksize\u001b[0m \u001b[0;32mor\u001b[0m \u001b[0miterator\u001b[0m\u001b[0;34m:\u001b[0m\u001b[0;34m\u001b[0m\u001b[0;34m\u001b[0m\u001b[0m\n",
      "\u001b[0;32m/anaconda3/lib/python3.6/site-packages/pandas/io/parsers.py\u001b[0m in \u001b[0;36m__init__\u001b[0;34m(self, f, engine, **kwds)\u001b[0m\n\u001b[1;32m    893\u001b[0m             \u001b[0mself\u001b[0m\u001b[0;34m.\u001b[0m\u001b[0moptions\u001b[0m\u001b[0;34m[\u001b[0m\u001b[0;34m'has_index_names'\u001b[0m\u001b[0;34m]\u001b[0m \u001b[0;34m=\u001b[0m \u001b[0mkwds\u001b[0m\u001b[0;34m[\u001b[0m\u001b[0;34m'has_index_names'\u001b[0m\u001b[0;34m]\u001b[0m\u001b[0;34m\u001b[0m\u001b[0;34m\u001b[0m\u001b[0m\n\u001b[1;32m    894\u001b[0m \u001b[0;34m\u001b[0m\u001b[0m\n\u001b[0;32m--> 895\u001b[0;31m         \u001b[0mself\u001b[0m\u001b[0;34m.\u001b[0m\u001b[0m_make_engine\u001b[0m\u001b[0;34m(\u001b[0m\u001b[0mself\u001b[0m\u001b[0;34m.\u001b[0m\u001b[0mengine\u001b[0m\u001b[0;34m)\u001b[0m\u001b[0;34m\u001b[0m\u001b[0;34m\u001b[0m\u001b[0m\n\u001b[0m\u001b[1;32m    896\u001b[0m \u001b[0;34m\u001b[0m\u001b[0m\n\u001b[1;32m    897\u001b[0m     \u001b[0;32mdef\u001b[0m \u001b[0mclose\u001b[0m\u001b[0;34m(\u001b[0m\u001b[0mself\u001b[0m\u001b[0;34m)\u001b[0m\u001b[0;34m:\u001b[0m\u001b[0;34m\u001b[0m\u001b[0;34m\u001b[0m\u001b[0m\n",
      "\u001b[0;32m/anaconda3/lib/python3.6/site-packages/pandas/io/parsers.py\u001b[0m in \u001b[0;36m_make_engine\u001b[0;34m(self, engine)\u001b[0m\n\u001b[1;32m   1120\u001b[0m     \u001b[0;32mdef\u001b[0m \u001b[0m_make_engine\u001b[0m\u001b[0;34m(\u001b[0m\u001b[0mself\u001b[0m\u001b[0;34m,\u001b[0m \u001b[0mengine\u001b[0m\u001b[0;34m=\u001b[0m\u001b[0;34m'c'\u001b[0m\u001b[0;34m)\u001b[0m\u001b[0;34m:\u001b[0m\u001b[0;34m\u001b[0m\u001b[0;34m\u001b[0m\u001b[0m\n\u001b[1;32m   1121\u001b[0m         \u001b[0;32mif\u001b[0m \u001b[0mengine\u001b[0m \u001b[0;34m==\u001b[0m \u001b[0;34m'c'\u001b[0m\u001b[0;34m:\u001b[0m\u001b[0;34m\u001b[0m\u001b[0;34m\u001b[0m\u001b[0m\n\u001b[0;32m-> 1122\u001b[0;31m             \u001b[0mself\u001b[0m\u001b[0;34m.\u001b[0m\u001b[0m_engine\u001b[0m \u001b[0;34m=\u001b[0m \u001b[0mCParserWrapper\u001b[0m\u001b[0;34m(\u001b[0m\u001b[0mself\u001b[0m\u001b[0;34m.\u001b[0m\u001b[0mf\u001b[0m\u001b[0;34m,\u001b[0m \u001b[0;34m**\u001b[0m\u001b[0mself\u001b[0m\u001b[0;34m.\u001b[0m\u001b[0moptions\u001b[0m\u001b[0;34m)\u001b[0m\u001b[0;34m\u001b[0m\u001b[0;34m\u001b[0m\u001b[0m\n\u001b[0m\u001b[1;32m   1123\u001b[0m         \u001b[0;32melse\u001b[0m\u001b[0;34m:\u001b[0m\u001b[0;34m\u001b[0m\u001b[0;34m\u001b[0m\u001b[0m\n\u001b[1;32m   1124\u001b[0m             \u001b[0;32mif\u001b[0m \u001b[0mengine\u001b[0m \u001b[0;34m==\u001b[0m \u001b[0;34m'python'\u001b[0m\u001b[0;34m:\u001b[0m\u001b[0;34m\u001b[0m\u001b[0;34m\u001b[0m\u001b[0m\n",
      "\u001b[0;32m/anaconda3/lib/python3.6/site-packages/pandas/io/parsers.py\u001b[0m in \u001b[0;36m__init__\u001b[0;34m(self, src, **kwds)\u001b[0m\n\u001b[1;32m   1851\u001b[0m         \u001b[0mkwds\u001b[0m\u001b[0;34m[\u001b[0m\u001b[0;34m'usecols'\u001b[0m\u001b[0;34m]\u001b[0m \u001b[0;34m=\u001b[0m \u001b[0mself\u001b[0m\u001b[0;34m.\u001b[0m\u001b[0musecols\u001b[0m\u001b[0;34m\u001b[0m\u001b[0;34m\u001b[0m\u001b[0m\n\u001b[1;32m   1852\u001b[0m \u001b[0;34m\u001b[0m\u001b[0m\n\u001b[0;32m-> 1853\u001b[0;31m         \u001b[0mself\u001b[0m\u001b[0;34m.\u001b[0m\u001b[0m_reader\u001b[0m \u001b[0;34m=\u001b[0m \u001b[0mparsers\u001b[0m\u001b[0;34m.\u001b[0m\u001b[0mTextReader\u001b[0m\u001b[0;34m(\u001b[0m\u001b[0msrc\u001b[0m\u001b[0;34m,\u001b[0m \u001b[0;34m**\u001b[0m\u001b[0mkwds\u001b[0m\u001b[0;34m)\u001b[0m\u001b[0;34m\u001b[0m\u001b[0;34m\u001b[0m\u001b[0m\n\u001b[0m\u001b[1;32m   1854\u001b[0m         \u001b[0mself\u001b[0m\u001b[0;34m.\u001b[0m\u001b[0munnamed_cols\u001b[0m \u001b[0;34m=\u001b[0m \u001b[0mself\u001b[0m\u001b[0;34m.\u001b[0m\u001b[0m_reader\u001b[0m\u001b[0;34m.\u001b[0m\u001b[0munnamed_cols\u001b[0m\u001b[0;34m\u001b[0m\u001b[0;34m\u001b[0m\u001b[0m\n\u001b[1;32m   1855\u001b[0m \u001b[0;34m\u001b[0m\u001b[0m\n",
      "\u001b[0;32mpandas/_libs/parsers.pyx\u001b[0m in \u001b[0;36mpandas._libs.parsers.TextReader.__cinit__\u001b[0;34m()\u001b[0m\n",
      "\u001b[0;32mpandas/_libs/parsers.pyx\u001b[0m in \u001b[0;36mpandas._libs.parsers.TextReader._setup_parser_source\u001b[0;34m()\u001b[0m\n",
      "\u001b[0;31mFileNotFoundError\u001b[0m: [Errno 2] File b'DOF__Cooperative_Comparable_Rental_Income__Citywide_.csv' does not exist: b'DOF__Cooperative_Comparable_Rental_Income__Citywide_.csv'"
     ]
    }
   ],
   "source": [
    "condocalc = pd.read_csv('DOF__Cooperative_Comparable_Rental_Income__Citywide_.csv')\n"
   ]
  },
  {
   "cell_type": "code",
   "execution_count": null,
   "metadata": {},
   "outputs": [],
   "source": [
    "#condos are assessed as the percentage interest of the common elemtents of the building as a whole. \n",
    "# As a result of this methodology, the percent interest of a particular condominium unit is an important factor in the unit’s ultimate tax bill and the ultimate allocation should be considered carefully when drafting and reviewing the condominium offering plan."
   ]
  },
  {
   "cell_type": "code",
   "execution_count": 6,
   "metadata": {},
   "outputs": [],
   "source": [
    "#Estimated Gross Income comes from either the median of Estimated Gross Income 1,2,3 or the mean of 1,2 "
   ]
  },
  {
   "cell_type": "code",
   "execution_count": 1,
   "metadata": {},
   "outputs": [
    {
     "ename": "NameError",
     "evalue": "name 'condocalc' is not defined",
     "output_type": "error",
     "traceback": [
      "\u001b[0;31m---------------------------------------------------------------------------\u001b[0m",
      "\u001b[0;31mNameError\u001b[0m                                 Traceback (most recent call last)",
      "\u001b[0;32m<ipython-input-1-82655e0fc6a7>\u001b[0m in \u001b[0;36m<module>\u001b[0;34m\u001b[0m\n\u001b[0;32m----> 1\u001b[0;31m \u001b[0mcondocalc\u001b[0m\u001b[0;34m.\u001b[0m\u001b[0mhead\u001b[0m\u001b[0;34m(\u001b[0m\u001b[0;34m)\u001b[0m\u001b[0;34m\u001b[0m\u001b[0;34m\u001b[0m\u001b[0m\n\u001b[0m",
      "\u001b[0;31mNameError\u001b[0m: name 'condocalc' is not defined"
     ]
    }
   ],
   "source": [
    "condocalc.head()"
   ]
  },
  {
   "cell_type": "code",
   "execution_count": 39,
   "metadata": {},
   "outputs": [],
   "source": [
    "condos = condocalc.iloc[:,[0, 1, 2, 3, 4, 5, 6, 7, 8, 9, 10, 11, 12, 13]]"
   ]
  },
  {
   "cell_type": "code",
   "execution_count": 40,
   "metadata": {},
   "outputs": [
    {
     "data": {
      "text/html": [
       "<div>\n",
       "<style scoped>\n",
       "    .dataframe tbody tr th:only-of-type {\n",
       "        vertical-align: middle;\n",
       "    }\n",
       "\n",
       "    .dataframe tbody tr th {\n",
       "        vertical-align: top;\n",
       "    }\n",
       "\n",
       "    .dataframe thead th {\n",
       "        text-align: right;\n",
       "    }\n",
       "</style>\n",
       "<table border=\"1\" class=\"dataframe\">\n",
       "  <thead>\n",
       "    <tr style=\"text-align: right;\">\n",
       "      <th></th>\n",
       "      <th>Boro-Block-Lot</th>\n",
       "      <th>Address</th>\n",
       "      <th>Neighborhood</th>\n",
       "      <th>Building Classification</th>\n",
       "      <th>Total Units</th>\n",
       "      <th>Year Built</th>\n",
       "      <th>Gross SqFt</th>\n",
       "      <th>Estimated Gross Income</th>\n",
       "      <th>Gross Income per SqFt</th>\n",
       "      <th>Estimated Expense</th>\n",
       "      <th>Expense per SqFt</th>\n",
       "      <th>Net Operating Income</th>\n",
       "      <th>Full Market Value</th>\n",
       "      <th>Market Value per SqFt</th>\n",
       "    </tr>\n",
       "  </thead>\n",
       "  <tbody>\n",
       "    <tr>\n",
       "      <th>0</th>\n",
       "      <td>1-00011-0014</td>\n",
       "      <td>26 BEAVER STREET</td>\n",
       "      <td>FINANCIAL</td>\n",
       "      <td>D4-ELEVATOR</td>\n",
       "      <td>21</td>\n",
       "      <td>1909</td>\n",
       "      <td>51387</td>\n",
       "      <td>1780046</td>\n",
       "      <td>34.64</td>\n",
       "      <td>448095</td>\n",
       "      <td>8.72</td>\n",
       "      <td>1331951</td>\n",
       "      <td>10056000</td>\n",
       "      <td>195.69</td>\n",
       "    </tr>\n",
       "    <tr>\n",
       "      <th>1</th>\n",
       "      <td>1-00028-0001</td>\n",
       "      <td>3 HANOVER SQUARE</td>\n",
       "      <td>FINANCIAL</td>\n",
       "      <td>D0-ELEVATOR</td>\n",
       "      <td>211</td>\n",
       "      <td>1926</td>\n",
       "      <td>239121</td>\n",
       "      <td>6578219</td>\n",
       "      <td>27.51</td>\n",
       "      <td>1602111</td>\n",
       "      <td>6.70</td>\n",
       "      <td>4976108</td>\n",
       "      <td>37570000</td>\n",
       "      <td>157.12</td>\n",
       "    </tr>\n",
       "    <tr>\n",
       "      <th>2</th>\n",
       "      <td>1-00064-0008</td>\n",
       "      <td>53 LIBERTY STREET</td>\n",
       "      <td>FINANCIAL</td>\n",
       "      <td>D4-ELEVATOR</td>\n",
       "      <td>92</td>\n",
       "      <td>1911</td>\n",
       "      <td>167448</td>\n",
       "      <td>5398524</td>\n",
       "      <td>32.24</td>\n",
       "      <td>1461821</td>\n",
       "      <td>8.73</td>\n",
       "      <td>3936703</td>\n",
       "      <td>29722000</td>\n",
       "      <td>177.50</td>\n",
       "    </tr>\n",
       "    <tr>\n",
       "      <th>3</th>\n",
       "      <td>1-00065-0017</td>\n",
       "      <td>176 BROADWAY</td>\n",
       "      <td>FINANCIAL</td>\n",
       "      <td>D4-ELEVATOR</td>\n",
       "      <td>83</td>\n",
       "      <td>1927</td>\n",
       "      <td>168176</td>\n",
       "      <td>5600261</td>\n",
       "      <td>33.30</td>\n",
       "      <td>1992886</td>\n",
       "      <td>11.85</td>\n",
       "      <td>3607375</td>\n",
       "      <td>27236000</td>\n",
       "      <td>161.95</td>\n",
       "    </tr>\n",
       "    <tr>\n",
       "      <th>4</th>\n",
       "      <td>1-00094-0001</td>\n",
       "      <td>80 GOLD STREET</td>\n",
       "      <td>SOUTHBRIDGE</td>\n",
       "      <td>D4-ELEVATOR</td>\n",
       "      <td>1664</td>\n",
       "      <td>1971</td>\n",
       "      <td>2075590</td>\n",
       "      <td>37256841</td>\n",
       "      <td>17.95</td>\n",
       "      <td>14238547</td>\n",
       "      <td>6.86</td>\n",
       "      <td>23018294</td>\n",
       "      <td>162215000</td>\n",
       "      <td>78.15</td>\n",
       "    </tr>\n",
       "  </tbody>\n",
       "</table>\n",
       "</div>"
      ],
      "text/plain": [
       "  Boro-Block-Lot            Address Neighborhood Building Classification  \\\n",
       "0   1-00011-0014   26 BEAVER STREET    FINANCIAL             D4-ELEVATOR   \n",
       "1   1-00028-0001   3 HANOVER SQUARE    FINANCIAL             D0-ELEVATOR   \n",
       "2   1-00064-0008  53 LIBERTY STREET    FINANCIAL             D4-ELEVATOR   \n",
       "3   1-00065-0017       176 BROADWAY    FINANCIAL             D4-ELEVATOR   \n",
       "4   1-00094-0001     80 GOLD STREET  SOUTHBRIDGE             D4-ELEVATOR   \n",
       "\n",
       "   Total Units  Year Built  Gross SqFt  Estimated Gross Income  \\\n",
       "0           21        1909       51387                 1780046   \n",
       "1          211        1926      239121                 6578219   \n",
       "2           92        1911      167448                 5398524   \n",
       "3           83        1927      168176                 5600261   \n",
       "4         1664        1971     2075590                37256841   \n",
       "\n",
       "   Gross Income per SqFt  Estimated Expense  Expense per SqFt  \\\n",
       "0                  34.64             448095              8.72   \n",
       "1                  27.51            1602111              6.70   \n",
       "2                  32.24            1461821              8.73   \n",
       "3                  33.30            1992886             11.85   \n",
       "4                  17.95           14238547              6.86   \n",
       "\n",
       "   Net Operating Income  Full Market Value  Market Value per SqFt  \n",
       "0               1331951           10056000                 195.69  \n",
       "1               4976108           37570000                 157.12  \n",
       "2               3936703           29722000                 177.50  \n",
       "3               3607375           27236000                 161.95  \n",
       "4              23018294          162215000                  78.15  "
      ]
     },
     "execution_count": 40,
     "metadata": {},
     "output_type": "execute_result"
    }
   ],
   "source": [
    "condos.head()"
   ]
  },
  {
   "cell_type": "code",
   "execution_count": 46,
   "metadata": {},
   "outputs": [
    {
     "name": "stderr",
     "output_type": "stream",
     "text": [
      "/anaconda3/lib/python3.6/site-packages/ipykernel_launcher.py:2: SettingWithCopyWarning: \n",
      "A value is trying to be set on a copy of a slice from a DataFrame.\n",
      "Try using .loc[row_indexer,col_indexer] = value instead\n",
      "\n",
      "See the caveats in the documentation: http://pandas.pydata.org/pandas-docs/stable/indexing.html#indexing-view-versus-copy\n",
      "  \n"
     ]
    }
   ],
   "source": [
    "Estimated = list(1)\n",
    "condos['Estimated'] = Estimated"
   ]
  },
  {
   "cell_type": "code",
   "execution_count": 23,
   "metadata": {},
   "outputs": [
    {
     "data": {
      "text/plain": [
       "<matplotlib.collections.PathCollection at 0x1a8ae206d8>"
      ]
     },
     "execution_count": 23,
     "metadata": {},
     "output_type": "execute_result"
    },
    {
     "data": {
      "image/png": "[encoded data removed]",
      "text/plain": [
       "<Figure size 432x288 with 1 Axes>"
      ]
     },
     "metadata": {
      "needs_background": "light"
     },
     "output_type": "display_data"
    }
   ],
   "source": []
  },
  {
   "cell_type": "code",
   "execution_count": 11,
   "metadata": {},
   "outputs": [],
   "source": []
  },
  {
   "cell_type": "code",
   "execution_count": 25,
   "metadata": {},
   "outputs": [
    {
     "data": {
      "text/plain": [
       "(nan, 1.0)"
      ]
     },
     "execution_count": 25,
     "metadata": {},
     "output_type": "execute_result"
    }
   ],
   "source": []
  },
  {
   "cell_type": "code",
   "execution_count": 12,
   "metadata": {},
   "outputs": [],
   "source": []
  },
  {
   "cell_type": "code",
   "execution_count": 27,
   "metadata": {},
   "outputs": [
    {
     "data": {
      "text/plain": [
       "array([[nan, nan],\n",
       "       [nan,  1.]])"
      ]
     },
     "execution_count": 27,
     "metadata": {},
     "output_type": "execute_result"
    }
   ],
   "source": []
  },
  {
   "cell_type": "code",
   "execution_count": 28,
   "metadata": {},
   "outputs": [
    {
     "data": {
      "text/plain": [
       "SpearmanrResult(correlation=nan, pvalue=nan)"
      ]
     },
     "execution_count": 28,
     "metadata": {},
     "output_type": "execute_result"
    }
   ],
   "source": []
  },
  {
   "cell_type": "code",
   "execution_count": 29,
   "metadata": {
    "scrolled": true
   },
   "outputs": [
    {
     "data": {
      "text/plain": [
       "Boro-Block-Lot                     object\n",
       "Address                            object\n",
       "Neighborhood                       object\n",
       "Building Classification            object\n",
       "Total Units                         int64\n",
       "Year Built                          int64\n",
       "Gross SqFt                          int64\n",
       "Estimated Gross Income              int64\n",
       "Gross Income per SqFt             float64\n",
       "Estimated Expense                   int64\n",
       "Expense per SqFt                  float64\n",
       "Net Operating Income                int64\n",
       "Full Market Value                   int64\n",
       "Market Value per SqFt             float64\n",
       "Boro-Block-Lot 1                   object\n",
       "Address 1                          object\n",
       "Neighborhood 1                     object\n",
       "Building Classification 1          object\n",
       "Total Units 1                       int64\n",
       "Year Built 1                        int64\n",
       "Gross SqFt 1                        int64\n",
       "Estimated Gross Income 1          float64\n",
       "Gross Income per SqFt 1           float64\n",
       "Estimated Expense 1               float64\n",
       "Expense per SqFt 1                float64\n",
       "Net Operating Income 1            float64\n",
       "Full Market Value 1                 int64\n",
       "Market Value per SqFt 1           float64\n",
       "Distance from Co-op in miles      float64\n",
       "Boro-Block-Lot 2                   object\n",
       "                                   ...   \n",
       "Neighborhood 2                     object\n",
       "Building Classification 2          object\n",
       "Total Units 2                     float64\n",
       "Year Built 2                      float64\n",
       "Gross SqFt 2                      float64\n",
       "Estimated Gross Income 2          float64\n",
       "Gross Income per SqFt 2           float64\n",
       "Estimated Expense 2               float64\n",
       "Expense per SqFt 2                float64\n",
       "Net Operating Income 2            float64\n",
       "Full Market Value 2               float64\n",
       "Market Value per SqFt 2           float64\n",
       "Distance from Co-op in miles 1    float64\n",
       "Boro-Block-Lot 3                   object\n",
       "Address 3                          object\n",
       "Neighborhood 3                     object\n",
       "Building Classification 3          object\n",
       "Total Units 3                     float64\n",
       "Year Built 3                      float64\n",
       "Gross SqFt 3                      float64\n",
       "Estimated Gross Income 3          float64\n",
       "Gross Income per SqFt 3           float64\n",
       "Estimated Expense 3               float64\n",
       "Expense per SqFt 3                float64\n",
       "Net Operating Income 3            float64\n",
       "Full Market Value 3               float64\n",
       "Market Value per SqFt 3           float64\n",
       "Distance from Co-op in miles 2    float64\n",
       "Report Year                         int64\n",
       "Mean Estimated Gross Income       float64\n",
       "Length: 61, dtype: object"
      ]
     },
     "execution_count": 29,
     "metadata": {},
     "output_type": "execute_result"
    }
   ],
   "source": []
  },
  {
   "cell_type": "code",
   "execution_count": 31,
   "metadata": {},
   "outputs": [
    {
     "data": {
      "text/plain": [
       "Boro-Block-Lot                       0\n",
       "Address                              0\n",
       "Neighborhood                         0\n",
       "Building Classification              0\n",
       "Total Units                          0\n",
       "Year Built                           0\n",
       "Gross SqFt                           0\n",
       "Estimated Gross Income               0\n",
       "Gross Income per SqFt                0\n",
       "Estimated Expense                    0\n",
       "Expense per SqFt                     0\n",
       "Net Operating Income                 0\n",
       "Full Market Value                    0\n",
       "Market Value per SqFt                0\n",
       "Boro-Block-Lot 1                     0\n",
       "Address 1                            0\n",
       "Neighborhood 1                       0\n",
       "Building Classification 1            0\n",
       "Total Units 1                        0\n",
       "Year Built 1                         0\n",
       "Gross SqFt 1                         0\n",
       "Estimated Gross Income 1             1\n",
       "Gross Income per SqFt 1              0\n",
       "Estimated Expense 1                  1\n",
       "Expense per SqFt 1                   0\n",
       "Net Operating Income 1               3\n",
       "Full Market Value 1                  0\n",
       "Market Value per SqFt 1              0\n",
       "Distance from Co-op in miles         1\n",
       "Boro-Block-Lot 2                   251\n",
       "                                  ... \n",
       "Neighborhood 2                     251\n",
       "Building Classification 2          251\n",
       "Total Units 2                      251\n",
       "Year Built 2                       251\n",
       "Gross SqFt 2                       251\n",
       "Estimated Gross Income 2           251\n",
       "Gross Income per SqFt 2            251\n",
       "Estimated Expense 2                251\n",
       "Expense per SqFt 2                 251\n",
       "Net Operating Income 2             255\n",
       "Full Market Value 2                251\n",
       "Market Value per SqFt 2            251\n",
       "Distance from Co-op in miles 1     252\n",
       "Boro-Block-Lot 3                  6874\n",
       "Address 3                         6874\n",
       "Neighborhood 3                    6874\n",
       "Building Classification 3         6874\n",
       "Total Units 3                     6874\n",
       "Year Built 3                      6874\n",
       "Gross SqFt 3                      6874\n",
       "Estimated Gross Income 3          6874\n",
       "Gross Income per SqFt 3           6874\n",
       "Estimated Expense 3               6875\n",
       "Expense per SqFt 3                6875\n",
       "Net Operating Income 3            6878\n",
       "Full Market Value 3               6874\n",
       "Market Value per SqFt 3           6874\n",
       "Distance from Co-op in miles 2    6874\n",
       "Report Year                          0\n",
       "Mean Estimated Gross Income       6874\n",
       "Length: 61, dtype: int64"
      ]
     },
     "execution_count": 31,
     "metadata": {},
     "output_type": "execute_result"
    }
   ],
   "source": []
  },
  {
   "cell_type": "code",
   "execution_count": 32,
   "metadata": {},
   "outputs": [
    {
     "data": {
      "text/plain": [
       "(31348, 61)"
      ]
     },
     "execution_count": 32,
     "metadata": {},
     "output_type": "execute_result"
    }
   ],
   "source": []
  },
  {
   "cell_type": "code",
   "execution_count": 33,
   "metadata": {},
   "outputs": [
    {
     "data": {
      "text/plain": [
       "<matplotlib.collections.PathCollection at 0x1a8f1b8160>"
      ]
     },
     "execution_count": 33,
     "metadata": {},
     "output_type": "execute_result"
    },
    {
     "data": {
      "image/png": "[encoded data removed]",
      "text/plain": [
       "<Figure size 432x288 with 1 Axes>"
      ]
     },
     "metadata": {
      "needs_background": "light"
     },
     "output_type": "display_data"
    }
   ],
   "source": []
  },
  {
   "cell_type": "code",
   "execution_count": 34,
   "metadata": {},
   "outputs": [
    {
     "data": {
      "text/plain": [
       "<matplotlib.collections.PathCollection at 0x1a8f21bfd0>"
      ]
     },
     "execution_count": 34,
     "metadata": {},
     "output_type": "execute_result"
    },
    {
     "data": {
      "image/png": "[encoded data removed]",
      "text/plain": [
       "<Figure size 432x288 with 1 Axes>"
      ]
     },
     "metadata": {
      "needs_background": "light"
     },
     "output_type": "display_data"
    }
   ],
   "source": []
  },
  {
   "cell_type": "code",
   "execution_count": 36,
   "metadata": {},
   "outputs": [
    {
     "data": {
      "text/plain": [
       "2012"
      ]
     },
     "execution_count": 36,
     "metadata": {},
     "output_type": "execute_result"
    }
   ],
   "source": []
  },
  {
   "cell_type": "code",
   "execution_count": 37,
   "metadata": {},
   "outputs": [
    {
     "data": {
      "text/plain": [
       "2018"
      ]
     },
     "execution_count": 37,
     "metadata": {},
     "output_type": "execute_result"
    }
   ],
   "source": []
  },
  {
   "cell_type": "code",
   "execution_count": 38,
   "metadata": {},
   "outputs": [
    {
     "data": {
      "text/plain": [
       "'/Users/Erika/Downloads'"
      ]
     },
     "execution_count": 38,
     "metadata": {},
     "output_type": "execute_result"
    }
   ],
   "source": [
    "pwd"
   ]
  },
  {
   "cell_type": "code",
   "execution_count": 14,
   "metadata": {},
   "outputs": [
    {
     "name": "stderr",
     "output_type": "stream",
     "text": [
      "/anaconda3/lib/python3.6/site-packages/IPython/core/interactiveshell.py:3057: DtypeWarning: Columns (13,16) have mixed types. Specify dtype option on import or set low_memory=False.\n",
      "  interactivity=interactivity, compiler=compiler, result=result)\n"
     ]
    }
   ],
   "source": [
    "geospatial = pd.read_csv('Address_Point.csv')"
   ]
  },
  {
   "cell_type": "code",
   "execution_count": 15,
   "metadata": {},
   "outputs": [
    {
     "data": {
      "text/html": [
       "<div>\n",
       "<style scoped>\n",
       "    .dataframe tbody tr th:only-of-type {\n",
       "        vertical-align: middle;\n",
       "    }\n",
       "\n",
       "    .dataframe tbody tr th {\n",
       "        vertical-align: top;\n",
       "    }\n",
       "\n",
       "    .dataframe thead th {\n",
       "        text-align: right;\n",
       "    }\n",
       "</style>\n",
       "<table border=\"1\" class=\"dataframe\">\n",
       "  <thead>\n",
       "    <tr style=\"text-align: right;\">\n",
       "      <th></th>\n",
       "      <th>BIN</th>\n",
       "      <th>H_NO</th>\n",
       "      <th>ADDRESS_ID</th>\n",
       "      <th>the_geom</th>\n",
       "      <th>HNO_SUFFIX</th>\n",
       "      <th>HYPHEN_TYP</th>\n",
       "      <th>SIDE_OF_ST</th>\n",
       "      <th>SPECIAL_CO</th>\n",
       "      <th>BOROCODE</th>\n",
       "      <th>ZIPCODE</th>\n",
       "      <th>...</th>\n",
       "      <th>HN_RNG</th>\n",
       "      <th>HN_RNG_SUF</th>\n",
       "      <th>PHYSICALID</th>\n",
       "      <th>PRE_MODIFI</th>\n",
       "      <th>PRE_DIRECT</th>\n",
       "      <th>PRE_TYPE</th>\n",
       "      <th>POST_TYPE</th>\n",
       "      <th>POST_DIREC</th>\n",
       "      <th>POST_MODIF</th>\n",
       "      <th>FULL_STREE</th>\n",
       "    </tr>\n",
       "  </thead>\n",
       "  <tbody>\n",
       "    <tr>\n",
       "      <th>0</th>\n",
       "      <td>1034253</td>\n",
       "      <td>560</td>\n",
       "      <td>1030290</td>\n",
       "      <td>POINT (-73.97940791208316 40.756085886290094)</td>\n",
       "      <td>NaN</td>\n",
       "      <td>N</td>\n",
       "      <td>1</td>\n",
       "      <td>V</td>\n",
       "      <td>1</td>\n",
       "      <td>10036.0</td>\n",
       "      <td>...</td>\n",
       "      <td>NaN</td>\n",
       "      <td>NaN</td>\n",
       "      <td>1851</td>\n",
       "      <td>NaN</td>\n",
       "      <td>NaN</td>\n",
       "      <td>NaN</td>\n",
       "      <td>AVE</td>\n",
       "      <td>NaN</td>\n",
       "      <td>NaN</td>\n",
       "      <td>5 AVE</td>\n",
       "    </tr>\n",
       "    <tr>\n",
       "      <th>1</th>\n",
       "      <td>3001479</td>\n",
       "      <td>25</td>\n",
       "      <td>3002257</td>\n",
       "      <td>POINT (-73.99426621088828 40.70193654938605)</td>\n",
       "      <td>NaN</td>\n",
       "      <td>N</td>\n",
       "      <td>1</td>\n",
       "      <td>V</td>\n",
       "      <td>3</td>\n",
       "      <td>11201.0</td>\n",
       "      <td>...</td>\n",
       "      <td>NaN</td>\n",
       "      <td>NaN</td>\n",
       "      <td>100296</td>\n",
       "      <td>NaN</td>\n",
       "      <td>NaN</td>\n",
       "      <td>NaN</td>\n",
       "      <td>HTS</td>\n",
       "      <td>NaN</td>\n",
       "      <td>NaN</td>\n",
       "      <td>COLUMBIA HTS</td>\n",
       "    </tr>\n",
       "    <tr>\n",
       "      <th>2</th>\n",
       "      <td>4080420</td>\n",
       "      <td>1903</td>\n",
       "      <td>89223</td>\n",
       "      <td>POINT (-73.91888160897726 40.712779452812015)</td>\n",
       "      <td>NaN</td>\n",
       "      <td>N</td>\n",
       "      <td>1</td>\n",
       "      <td>V</td>\n",
       "      <td>4</td>\n",
       "      <td>11385.0</td>\n",
       "      <td>...</td>\n",
       "      <td>NaN</td>\n",
       "      <td>NaN</td>\n",
       "      <td>23102</td>\n",
       "      <td>NaN</td>\n",
       "      <td>NaN</td>\n",
       "      <td>NaN</td>\n",
       "      <td>AVE</td>\n",
       "      <td>NaN</td>\n",
       "      <td>NaN</td>\n",
       "      <td>FLUSHING AVE</td>\n",
       "    </tr>\n",
       "    <tr>\n",
       "      <th>3</th>\n",
       "      <td>1070766</td>\n",
       "      <td>205</td>\n",
       "      <td>1027498</td>\n",
       "      <td>POINT (-73.98637573862578 40.77857091070502)</td>\n",
       "      <td>NaN</td>\n",
       "      <td>N</td>\n",
       "      <td>1</td>\n",
       "      <td>V</td>\n",
       "      <td>1</td>\n",
       "      <td>10023.0</td>\n",
       "      <td>...</td>\n",
       "      <td>NaN</td>\n",
       "      <td>NaN</td>\n",
       "      <td>4140</td>\n",
       "      <td>NaN</td>\n",
       "      <td>W</td>\n",
       "      <td>NaN</td>\n",
       "      <td>AVE</td>\n",
       "      <td>NaN</td>\n",
       "      <td>NaN</td>\n",
       "      <td>W  END AVE</td>\n",
       "    </tr>\n",
       "    <tr>\n",
       "      <th>4</th>\n",
       "      <td>2114036</td>\n",
       "      <td>3205</td>\n",
       "      <td>5178668</td>\n",
       "      <td>POINT (-73.91269643851712 40.88418333951877)</td>\n",
       "      <td>NaN</td>\n",
       "      <td>N</td>\n",
       "      <td>2</td>\n",
       "      <td>V</td>\n",
       "      <td>2</td>\n",
       "      <td>10463.0</td>\n",
       "      <td>...</td>\n",
       "      <td>NaN</td>\n",
       "      <td>NaN</td>\n",
       "      <td>61034</td>\n",
       "      <td>NaN</td>\n",
       "      <td>NaN</td>\n",
       "      <td>NaN</td>\n",
       "      <td>AVE</td>\n",
       "      <td>NaN</td>\n",
       "      <td>NaN</td>\n",
       "      <td>ARLINGTON AVE</td>\n",
       "    </tr>\n",
       "  </tbody>\n",
       "</table>\n",
       "<p>5 rows × 23 columns</p>\n",
       "</div>"
      ],
      "text/plain": [
       "       BIN  H_NO  ADDRESS_ID                                       the_geom  \\\n",
       "0  1034253   560     1030290  POINT (-73.97940791208316 40.756085886290094)   \n",
       "1  3001479    25     3002257   POINT (-73.99426621088828 40.70193654938605)   \n",
       "2  4080420  1903       89223  POINT (-73.91888160897726 40.712779452812015)   \n",
       "3  1070766   205     1027498   POINT (-73.98637573862578 40.77857091070502)   \n",
       "4  2114036  3205     5178668   POINT (-73.91269643851712 40.88418333951877)   \n",
       "\n",
       "  HNO_SUFFIX HYPHEN_TYP  SIDE_OF_ST SPECIAL_CO  BOROCODE  ZIPCODE  ... HN_RNG  \\\n",
       "0        NaN          N           1          V         1  10036.0  ...    NaN   \n",
       "1        NaN          N           1          V         3  11201.0  ...    NaN   \n",
       "2        NaN          N           1          V         4  11385.0  ...    NaN   \n",
       "3        NaN          N           1          V         1  10023.0  ...    NaN   \n",
       "4        NaN          N           2          V         2  10463.0  ...    NaN   \n",
       "\n",
       "  HN_RNG_SUF PHYSICALID PRE_MODIFI PRE_DIRECT  PRE_TYPE POST_TYPE POST_DIREC  \\\n",
       "0        NaN       1851        NaN        NaN       NaN       AVE        NaN   \n",
       "1        NaN     100296        NaN        NaN       NaN       HTS        NaN   \n",
       "2        NaN      23102        NaN        NaN       NaN       AVE        NaN   \n",
       "3        NaN       4140        NaN          W       NaN       AVE        NaN   \n",
       "4        NaN      61034        NaN        NaN       NaN       AVE        NaN   \n",
       "\n",
       "  POST_MODIF     FULL_STREE  \n",
       "0        NaN          5 AVE  \n",
       "1        NaN   COLUMBIA HTS  \n",
       "2        NaN   FLUSHING AVE  \n",
       "3        NaN     W  END AVE  \n",
       "4        NaN  ARLINGTON AVE  \n",
       "\n",
       "[5 rows x 23 columns]"
      ]
     },
     "execution_count": 15,
     "metadata": {},
     "output_type": "execute_result"
    }
   ],
   "source": [
    "geospatial.head()"
   ]
  },
  {
   "cell_type": "code",
   "execution_count": 17,
   "metadata": {
    "scrolled": true
   },
   "outputs": [],
   "source": [
    "geojson = gpd.read_file('NYC Address Points.geojson')"
   ]
  },
  {
   "cell_type": "code",
   "execution_count": 18,
   "metadata": {},
   "outputs": [
    {
     "data": {
      "text/html": [
       "<div>\n",
       "<style scoped>\n",
       "    .dataframe tbody tr th:only-of-type {\n",
       "        vertical-align: middle;\n",
       "    }\n",
       "\n",
       "    .dataframe tbody tr th {\n",
       "        vertical-align: top;\n",
       "    }\n",
       "\n",
       "    .dataframe thead th {\n",
       "        text-align: right;\n",
       "    }\n",
       "</style>\n",
       "<table border=\"1\" class=\"dataframe\">\n",
       "  <thead>\n",
       "    <tr style=\"text-align: right;\">\n",
       "      <th></th>\n",
       "      <th>0</th>\n",
       "      <th>1</th>\n",
       "      <th>2</th>\n",
       "      <th>3</th>\n",
       "      <th>4</th>\n",
       "    </tr>\n",
       "  </thead>\n",
       "  <tbody>\n",
       "    <tr>\n",
       "      <th>zipcode</th>\n",
       "      <td>10036</td>\n",
       "      <td>11201</td>\n",
       "      <td>11385</td>\n",
       "      <td>10023</td>\n",
       "      <td>10463</td>\n",
       "    </tr>\n",
       "    <tr>\n",
       "      <th>hn_rng</th>\n",
       "      <td>None</td>\n",
       "      <td>None</td>\n",
       "      <td>None</td>\n",
       "      <td>None</td>\n",
       "      <td>None</td>\n",
       "    </tr>\n",
       "    <tr>\n",
       "      <th>pre_direct</th>\n",
       "      <td>None</td>\n",
       "      <td>None</td>\n",
       "      <td>None</td>\n",
       "      <td>W</td>\n",
       "      <td>None</td>\n",
       "    </tr>\n",
       "    <tr>\n",
       "      <th>hno_suffix</th>\n",
       "      <td>None</td>\n",
       "      <td>None</td>\n",
       "      <td>None</td>\n",
       "      <td>None</td>\n",
       "      <td>None</td>\n",
       "    </tr>\n",
       "    <tr>\n",
       "      <th>post_type</th>\n",
       "      <td>AVE</td>\n",
       "      <td>HTS</td>\n",
       "      <td>AVE</td>\n",
       "      <td>AVE</td>\n",
       "      <td>AVE</td>\n",
       "    </tr>\n",
       "    <tr>\n",
       "      <th>hyphen_typ</th>\n",
       "      <td>N</td>\n",
       "      <td>N</td>\n",
       "      <td>N</td>\n",
       "      <td>N</td>\n",
       "      <td>N</td>\n",
       "    </tr>\n",
       "    <tr>\n",
       "      <th>post_modif</th>\n",
       "      <td>None</td>\n",
       "      <td>None</td>\n",
       "      <td>None</td>\n",
       "      <td>None</td>\n",
       "      <td>None</td>\n",
       "    </tr>\n",
       "    <tr>\n",
       "      <th>address_id</th>\n",
       "      <td>1030290</td>\n",
       "      <td>3002257</td>\n",
       "      <td>89223</td>\n",
       "      <td>1027498</td>\n",
       "      <td>5178668</td>\n",
       "    </tr>\n",
       "    <tr>\n",
       "      <th>pre_type</th>\n",
       "      <td>None</td>\n",
       "      <td>None</td>\n",
       "      <td>None</td>\n",
       "      <td>None</td>\n",
       "      <td>None</td>\n",
       "    </tr>\n",
       "    <tr>\n",
       "      <th>full_stree</th>\n",
       "      <td>5 AVE</td>\n",
       "      <td>COLUMBIA HTS</td>\n",
       "      <td>FLUSHING AVE</td>\n",
       "      <td>W  END AVE</td>\n",
       "      <td>ARLINGTON AVE</td>\n",
       "    </tr>\n",
       "    <tr>\n",
       "      <th>side_of_st</th>\n",
       "      <td>1</td>\n",
       "      <td>1</td>\n",
       "      <td>1</td>\n",
       "      <td>1</td>\n",
       "      <td>2</td>\n",
       "    </tr>\n",
       "    <tr>\n",
       "      <th>modified</th>\n",
       "      <td>2015-09-25T00:00:00</td>\n",
       "      <td>2016-09-09T00:00:00</td>\n",
       "      <td>2015-07-16T00:00:00</td>\n",
       "      <td>2016-09-09T00:00:00</td>\n",
       "      <td>1899-11-30T00:00:00</td>\n",
       "    </tr>\n",
       "    <tr>\n",
       "      <th>post_direc</th>\n",
       "      <td>None</td>\n",
       "      <td>None</td>\n",
       "      <td>None</td>\n",
       "      <td>None</td>\n",
       "      <td>None</td>\n",
       "    </tr>\n",
       "    <tr>\n",
       "      <th>h_no</th>\n",
       "      <td>560</td>\n",
       "      <td>25</td>\n",
       "      <td>1903</td>\n",
       "      <td>205</td>\n",
       "      <td>3205</td>\n",
       "    </tr>\n",
       "    <tr>\n",
       "      <th>borocode</th>\n",
       "      <td>1</td>\n",
       "      <td>3</td>\n",
       "      <td>4</td>\n",
       "      <td>1</td>\n",
       "      <td>2</td>\n",
       "    </tr>\n",
       "    <tr>\n",
       "      <th>bin</th>\n",
       "      <td>1034253</td>\n",
       "      <td>3001479</td>\n",
       "      <td>4080420</td>\n",
       "      <td>1070766</td>\n",
       "      <td>2114036</td>\n",
       "    </tr>\n",
       "    <tr>\n",
       "      <th>pre_modifi</th>\n",
       "      <td>None</td>\n",
       "      <td>None</td>\n",
       "      <td>None</td>\n",
       "      <td>None</td>\n",
       "      <td>None</td>\n",
       "    </tr>\n",
       "    <tr>\n",
       "      <th>physicalid</th>\n",
       "      <td>1851</td>\n",
       "      <td>100296</td>\n",
       "      <td>23102</td>\n",
       "      <td>4140</td>\n",
       "      <td>61034</td>\n",
       "    </tr>\n",
       "    <tr>\n",
       "      <th>special_co</th>\n",
       "      <td>V</td>\n",
       "      <td>V</td>\n",
       "      <td>V</td>\n",
       "      <td>V</td>\n",
       "      <td>V</td>\n",
       "    </tr>\n",
       "    <tr>\n",
       "      <th>st_name</th>\n",
       "      <td>5</td>\n",
       "      <td>COLUMBIA</td>\n",
       "      <td>FLUSHING</td>\n",
       "      <td>END</td>\n",
       "      <td>ARLINGTON</td>\n",
       "    </tr>\n",
       "    <tr>\n",
       "      <th>hn_rng_suf</th>\n",
       "      <td>None</td>\n",
       "      <td>None</td>\n",
       "      <td>None</td>\n",
       "      <td>None</td>\n",
       "      <td>None</td>\n",
       "    </tr>\n",
       "    <tr>\n",
       "      <th>created</th>\n",
       "      <td>2009-04-06T00:00:00</td>\n",
       "      <td>2009-02-13T00:00:00</td>\n",
       "      <td>2008-09-23T00:00:00</td>\n",
       "      <td>2009-04-06T00:00:00</td>\n",
       "      <td>2017-04-28T00:00:00</td>\n",
       "    </tr>\n",
       "    <tr>\n",
       "      <th>geometry</th>\n",
       "      <td>POINT (-73.97940791208316 40.75608588629009)</td>\n",
       "      <td>POINT (-73.99426621088828 40.70193654938605)</td>\n",
       "      <td>POINT (-73.91888160897726 40.71277945281201)</td>\n",
       "      <td>POINT (-73.98637573862578 40.77857091070502)</td>\n",
       "      <td>POINT (-73.91269643851712 40.88418333951877)</td>\n",
       "    </tr>\n",
       "  </tbody>\n",
       "</table>\n",
       "</div>"
      ],
      "text/plain": [
       "                                                       0  \\\n",
       "zipcode                                            10036   \n",
       "hn_rng                                              None   \n",
       "pre_direct                                          None   \n",
       "hno_suffix                                          None   \n",
       "post_type                                            AVE   \n",
       "hyphen_typ                                             N   \n",
       "post_modif                                          None   \n",
       "address_id                                       1030290   \n",
       "pre_type                                            None   \n",
       "full_stree                                         5 AVE   \n",
       "side_of_st                                             1   \n",
       "modified                             2015-09-25T00:00:00   \n",
       "post_direc                                          None   \n",
       "h_no                                                 560   \n",
       "borocode                                               1   \n",
       "bin                                              1034253   \n",
       "pre_modifi                                          None   \n",
       "physicalid                                          1851   \n",
       "special_co                                             V   \n",
       "st_name                                                5   \n",
       "hn_rng_suf                                          None   \n",
       "created                              2009-04-06T00:00:00   \n",
       "geometry    POINT (-73.97940791208316 40.75608588629009)   \n",
       "\n",
       "                                                       1  \\\n",
       "zipcode                                            11201   \n",
       "hn_rng                                              None   \n",
       "pre_direct                                          None   \n",
       "hno_suffix                                          None   \n",
       "post_type                                            HTS   \n",
       "hyphen_typ                                             N   \n",
       "post_modif                                          None   \n",
       "address_id                                       3002257   \n",
       "pre_type                                            None   \n",
       "full_stree                                  COLUMBIA HTS   \n",
       "side_of_st                                             1   \n",
       "modified                             2016-09-09T00:00:00   \n",
       "post_direc                                          None   \n",
       "h_no                                                  25   \n",
       "borocode                                               3   \n",
       "bin                                              3001479   \n",
       "pre_modifi                                          None   \n",
       "physicalid                                        100296   \n",
       "special_co                                             V   \n",
       "st_name                                         COLUMBIA   \n",
       "hn_rng_suf                                          None   \n",
       "created                              2009-02-13T00:00:00   \n",
       "geometry    POINT (-73.99426621088828 40.70193654938605)   \n",
       "\n",
       "                                                       2  \\\n",
       "zipcode                                            11385   \n",
       "hn_rng                                              None   \n",
       "pre_direct                                          None   \n",
       "hno_suffix                                          None   \n",
       "post_type                                            AVE   \n",
       "hyphen_typ                                             N   \n",
       "post_modif                                          None   \n",
       "address_id                                         89223   \n",
       "pre_type                                            None   \n",
       "full_stree                                  FLUSHING AVE   \n",
       "side_of_st                                             1   \n",
       "modified                             2015-07-16T00:00:00   \n",
       "post_direc                                          None   \n",
       "h_no                                                1903   \n",
       "borocode                                               4   \n",
       "bin                                              4080420   \n",
       "pre_modifi                                          None   \n",
       "physicalid                                         23102   \n",
       "special_co                                             V   \n",
       "st_name                                         FLUSHING   \n",
       "hn_rng_suf                                          None   \n",
       "created                              2008-09-23T00:00:00   \n",
       "geometry    POINT (-73.91888160897726 40.71277945281201)   \n",
       "\n",
       "                                                       3  \\\n",
       "zipcode                                            10023   \n",
       "hn_rng                                              None   \n",
       "pre_direct                                             W   \n",
       "hno_suffix                                          None   \n",
       "post_type                                            AVE   \n",
       "hyphen_typ                                             N   \n",
       "post_modif                                          None   \n",
       "address_id                                       1027498   \n",
       "pre_type                                            None   \n",
       "full_stree                                    W  END AVE   \n",
       "side_of_st                                             1   \n",
       "modified                             2016-09-09T00:00:00   \n",
       "post_direc                                          None   \n",
       "h_no                                                 205   \n",
       "borocode                                               1   \n",
       "bin                                              1070766   \n",
       "pre_modifi                                          None   \n",
       "physicalid                                          4140   \n",
       "special_co                                             V   \n",
       "st_name                                              END   \n",
       "hn_rng_suf                                          None   \n",
       "created                              2009-04-06T00:00:00   \n",
       "geometry    POINT (-73.98637573862578 40.77857091070502)   \n",
       "\n",
       "                                                       4  \n",
       "zipcode                                            10463  \n",
       "hn_rng                                              None  \n",
       "pre_direct                                          None  \n",
       "hno_suffix                                          None  \n",
       "post_type                                            AVE  \n",
       "hyphen_typ                                             N  \n",
       "post_modif                                          None  \n",
       "address_id                                       5178668  \n",
       "pre_type                                            None  \n",
       "full_stree                                 ARLINGTON AVE  \n",
       "side_of_st                                             2  \n",
       "modified                             1899-11-30T00:00:00  \n",
       "post_direc                                          None  \n",
       "h_no                                                3205  \n",
       "borocode                                               2  \n",
       "bin                                              2114036  \n",
       "pre_modifi                                          None  \n",
       "physicalid                                         61034  \n",
       "special_co                                             V  \n",
       "st_name                                        ARLINGTON  \n",
       "hn_rng_suf                                          None  \n",
       "created                              2017-04-28T00:00:00  \n",
       "geometry    POINT (-73.91269643851712 40.88418333951877)  "
      ]
     },
     "execution_count": 18,
     "metadata": {},
     "output_type": "execute_result"
    }
   ],
   "source": [
    "geojson.head().T"
   ]
  },
  {
   "cell_type": "code",
   "execution_count": 21,
   "metadata": {},
   "outputs": [
    {
     "data": {
      "text/plain": [
       "A           12671\n",
       "B            4173\n",
       "1/2          1369\n",
       "C             932\n",
       "REAR          705\n",
       "D             541\n",
       "E             306\n",
       "F             221\n",
       "G             156\n",
       "H             123\n",
       "R              81\n",
       "J              79\n",
       "I              71\n",
       "S              65\n",
       "1/3            58\n",
       "REAR-A         47\n",
       "K              47\n",
       "REAR-B         39\n",
       "L              38\n",
       "GAR            24\n",
       "N              20\n",
       "W              18\n",
       "1/4            15\n",
       "1/2-A          12\n",
       "M              11\n",
       "FRONT          10\n",
       "Q               8\n",
       "T               6\n",
       "P               6\n",
       "INTER-A         6\n",
       "            ...  \n",
       "1               4\n",
       "O               3\n",
       "BB              2\n",
       "E-BLDG          2\n",
       "Y               2\n",
       "W-BLDG          2\n",
       "1/2-C           2\n",
       "U               2\n",
       "43102           1\n",
       "A5              1\n",
       "FRTA            1\n",
       "C GARAGE        1\n",
       "AA              1\n",
       "A3              1\n",
       "2L              1\n",
       "1/2-B           1\n",
       "20              1\n",
       "B3              1\n",
       "A4              1\n",
       "1A              1\n",
       "A1              1\n",
       "B1              1\n",
       "3/4             1\n",
       "B5              1\n",
       "A2              1\n",
       "B4              1\n",
       "B2              1\n",
       "A6              1\n",
       "SF              1\n",
       "B6              1\n",
       "Name: hno_suffix, Length: 64, dtype: int64"
      ]
     },
     "execution_count": 21,
     "metadata": {},
     "output_type": "execute_result"
    }
   ],
   "source": [
    "geojson.hno_suffix.value_counts()"
   ]
  },
  {
   "cell_type": "code",
   "execution_count": null,
   "metadata": {},
   "outputs": [],
   "source": [
    "geojson[\"full_stree\"] = geojson[\"h_no\"].map(str) + geojson[\"full_stree\"].map(str) "
   ]
  },
  {
   "cell_type": "code",
   "execution_count": null,
   "metadata": {},
   "outputs": [],
   "source": [
    "geojson.head()"
   ]
  },
  {
   "cell_type": "code",
   "execution_count": null,
   "metadata": {},
   "outputs": [],
   "source": []
  }
 ],
 "metadata": {
  "kernelspec": {
   "display_name": "Python 3",
   "language": "python",
   "name": "python3"
  },
  "language_info": {
   "codemirror_mode": {
    "name": "ipython",
    "version": 3
   },
   "file_extension": ".py",
   "mimetype": "text/x-python",
   "name": "python",
   "nbconvert_exporter": "python",
   "pygments_lexer": "ipython3",
   "version": "3.6.8"
  }
 },
 "nbformat": 4,
 "nbformat_minor": 2
}
